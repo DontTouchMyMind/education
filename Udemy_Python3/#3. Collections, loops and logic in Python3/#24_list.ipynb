{
 "cells": [
  {
   "cell_type": "code",
   "execution_count": 1,
   "metadata": {},
   "outputs": [],
   "source": [
    "int_list = [1, 2, 3]"
   ]
  },
  {
   "cell_type": "code",
   "execution_count": 2,
   "metadata": {},
   "outputs": [],
   "source": [
    "mixed_list = [1, 2.0, 'string']"
   ]
  },
  {
   "cell_type": "code",
   "execution_count": 3,
   "metadata": {},
   "outputs": [
    {
     "data": {
      "text/plain": [
       "3"
      ]
     },
     "execution_count": 3,
     "metadata": {},
     "output_type": "execute_result"
    }
   ],
   "source": [
    "len(int_list) # Длина списка."
   ]
  },
  {
   "cell_type": "code",
   "execution_count": 4,
   "metadata": {},
   "outputs": [
    {
     "name": "stdout",
     "output_type": "stream",
     "text": [
      "1\n",
      "3\n"
     ]
    }
   ],
   "source": [
    "# Можно обратьиться к отдельному элемту по индексу.\n",
    "print(int_list[0])\n",
    "print(int_list[-1])"
   ]
  },
  {
   "cell_type": "code",
   "execution_count": 5,
   "metadata": {},
   "outputs": [
    {
     "name": "stdout",
     "output_type": "stream",
     "text": [
      "[2, 3]\n",
      "[1, 2, 3]\n"
     ]
    }
   ],
   "source": [
    "# Срезы.\n",
    "print(int_list[1:])\n",
    "print(int_list)"
   ]
  },
  {
   "cell_type": "code",
   "execution_count": 14,
   "metadata": {},
   "outputs": [],
   "source": [
    "# Списки поддерживают конкотенацию.\n",
    "names1 = ['John', 'Bob', 'Alice']\n",
    "names2 = ['Tracy', 'Elijah', 'Mason']\n",
    "\n",
    "names = names1 + names2"
   ]
  },
  {
   "cell_type": "code",
   "execution_count": 7,
   "metadata": {},
   "outputs": [
    {
     "name": "stdout",
     "output_type": "stream",
     "text": [
      "['Max', 'Bob', 'Alice']\n"
     ]
    }
   ],
   "source": [
    "# Списки - изменяемые типы данных\n",
    "names1[0] = 'Max'\n",
    "print(names1)"
   ]
  },
  {
   "cell_type": "code",
   "execution_count": 8,
   "metadata": {},
   "outputs": [
    {
     "name": "stdout",
     "output_type": "stream",
     "text": [
      "['Max', 'Bob', 'Alice', 'William']\n"
     ]
    }
   ],
   "source": [
    "# Добавление элементов в список.\n",
    "names1.append('William')\n",
    "print(names1)"
   ]
  },
  {
   "cell_type": "code",
   "execution_count": 9,
   "metadata": {},
   "outputs": [
    {
     "name": "stdout",
     "output_type": "stream",
     "text": [
      "William\n",
      "['Max', 'Bob', 'Alice']\n"
     ]
    }
   ],
   "source": [
    "# Удалить элемент из списка.\n",
    "popped = names1.pop() # Метод не только удаляет, но и возвращает его!\n",
    "print(popped)\n",
    "print(names1)"
   ]
  },
  {
   "cell_type": "code",
   "execution_count": 10,
   "metadata": {},
   "outputs": [
    {
     "data": {
      "text/plain": [
       "['Bob', 'Alice']"
      ]
     },
     "execution_count": 10,
     "metadata": {},
     "output_type": "execute_result"
    }
   ],
   "source": [
    "# Удаление элемента по индексу.\n",
    "names1.pop(0)\n",
    "names1"
   ]
  },
  {
   "cell_type": "code",
   "execution_count": 15,
   "metadata": {},
   "outputs": [
    {
     "data": {
      "text/plain": [
       "['Alice', 'Bob', 'Elijah', 'John', 'Mason', 'Tracy']"
      ]
     },
     "execution_count": 15,
     "metadata": {},
     "output_type": "execute_result"
    }
   ],
   "source": [
    "# Сортировка списков.\n",
    "names.sort()\n",
    "names"
   ]
  },
  {
   "cell_type": "code",
   "execution_count": 17,
   "metadata": {},
   "outputs": [
    {
     "name": "stdout",
     "output_type": "stream",
     "text": [
      "['aa', 'ab', 'ac']\n"
     ]
    }
   ],
   "source": [
    "letters = ['ac', 'ab', 'aa']\n",
    "letters.sort() # Сортировка осуществляется по всем символам.\n",
    "print(letters)"
   ]
  },
  {
   "cell_type": "code",
   "execution_count": 18,
   "metadata": {},
   "outputs": [
    {
     "name": "stdout",
     "output_type": "stream",
     "text": [
      "['a', 'ab', 'abc']\n"
     ]
    }
   ],
   "source": [
    "# Сортировка по какому то ключу.\n",
    "letters = ['abc', 'a', 'ab']\n",
    "letters.sort(key=len) # Сортировка по длине.\n",
    "print(letters)"
   ]
  },
  {
   "cell_type": "code",
   "execution_count": 20,
   "metadata": {},
   "outputs": [
    {
     "name": "stdout",
     "output_type": "stream",
     "text": [
      "[3, 2, 8, 5, 0, 3, 4, 1, 1]\n",
      "[1, 1, 4, 3, 0, 5, 8, 2, 3]\n",
      "[8, 5, 4, 3, 3, 2, 1, 1, 0]\n"
     ]
    }
   ],
   "source": [
    "numbers = [3, 2, 8, 5, 0, 3, 4, 1, 1]\n",
    "print(numbers)\n",
    "numbers.reverse() # Развернуть список наоборот.\n",
    "print(numbers)\n",
    "numbers.sort(reverse=True) # Сортировка по убыванию.\n",
    "print(numbers) "
   ]
  },
  {
   "cell_type": "code",
   "execution_count": 21,
   "metadata": {},
   "outputs": [
    {
     "name": "stdout",
     "output_type": "stream",
     "text": [
      "[8, 'this element was inserted', 5, 4, 3, 3, 2, 1, 1, 0]\n"
     ]
    }
   ],
   "source": [
    "# Вставка элемента в список.\n",
    "numbers.insert(1, 'this element was inserted')\n",
    "print(numbers)"
   ]
  },
  {
   "cell_type": "code",
   "execution_count": 22,
   "metadata": {},
   "outputs": [
    {
     "data": {
      "text/plain": [
       "2"
      ]
     },
     "execution_count": 22,
     "metadata": {},
     "output_type": "execute_result"
    }
   ],
   "source": [
    "# Поиск индекса элемента.\n",
    "numbers.index(5)"
   ]
  },
  {
   "cell_type": "code",
   "execution_count": 25,
   "metadata": {},
   "outputs": [
    {
     "name": "stdout",
     "output_type": "stream",
     "text": [
      "[3, 2, 8, 5, 0, 3, 4, 1, 1]\n",
      "0\n",
      "[0, 1, 1, 2, 3, 3, 4, 5, 8]\n",
      "4\n",
      "[8, 5, 4, 3, 3, 2, 1, 1, 0]\n",
      "3\n"
     ]
    }
   ],
   "source": [
    "# Если элементов несколько, то вернется индекс первого попавшегося.\n",
    "numbers = [3, 2, 8, 5, 0, 3, 4, 1, 1]\n",
    "var = numbers.index(3)\n",
    "print(numbers)\n",
    "print(var)\n",
    "numbers.sort()\n",
    "var = numbers.index(3)\n",
    "print(numbers)\n",
    "print(var)\n",
    "numbers.sort(reverse=True)\n",
    "var = numbers.index(3)\n",
    "print(numbers)\n",
    "print(var)"
   ]
  },
  {
   "cell_type": "code",
   "execution_count": 26,
   "metadata": {},
   "outputs": [
    {
     "name": "stdout",
     "output_type": "stream",
     "text": [
      "2\n"
     ]
    }
   ],
   "source": [
    "# Подсчет кол-ва вхожденией элемента в список.\n",
    "print(numbers.count(3))"
   ]
  },
  {
   "cell_type": "code",
   "execution_count": 28,
   "metadata": {},
   "outputs": [
    {
     "name": "stdout",
     "output_type": "stream",
     "text": [
      "[8, 5, 4, 3, 3, 2, 1, 1, 0]\n"
     ]
    }
   ],
   "source": [
    "# Копирование списка.\n",
    "copy = numbers.copy()\n",
    "print(copy)"
   ]
  },
  {
   "cell_type": "code",
   "execution_count": 1,
   "metadata": {},
   "outputs": [
    {
     "ename": "NameError",
     "evalue": "name 'numbers' is not defined",
     "output_type": "error",
     "traceback": [
      "\u001b[0;31m---------------------------------------------------------------------------\u001b[0m",
      "\u001b[0;31mNameError\u001b[0m                                 Traceback (most recent call last)",
      "\u001b[0;32m<ipython-input-1-573a0cf0fab3>\u001b[0m in \u001b[0;36m<module>\u001b[0;34m\u001b[0m\n\u001b[0;32m----> 1\u001b[0;31m \u001b[0mnumbers\u001b[0m\u001b[0;34m.\u001b[0m\u001b[0mclear\u001b[0m\u001b[0;34m(\u001b[0m\u001b[0;34m)\u001b[0m\u001b[0;34m\u001b[0m\u001b[0;34m\u001b[0m\u001b[0m\n\u001b[0m\u001b[1;32m      2\u001b[0m \u001b[0mnumbers\u001b[0m\u001b[0;34m\u001b[0m\u001b[0;34m\u001b[0m\u001b[0m\n",
      "\u001b[0;31mNameError\u001b[0m: name 'numbers' is not defined"
     ]
    }
   ],
   "source": [
    "numbers.clear()\n",
    "numbers"
   ]
  },
  {
   "cell_type": "code",
   "execution_count": 4,
   "metadata": {},
   "outputs": [
    {
     "name": "stdout",
     "output_type": "stream",
     "text": [
      "1\n",
      "2\n",
      "3\n",
      "4\n",
      "4\n"
     ]
    }
   ],
   "source": [
    "aa = []\n",
    "for i in range (1,5):\n",
    "    print (i)\n",
    "    aa.append(i)\n",
    "print(len(aa))"
   ]
  },
  {
   "cell_type": "code",
   "execution_count": null,
   "metadata": {},
   "outputs": [],
   "source": []
  }
 ],
 "metadata": {
  "kernelspec": {
   "display_name": "Python 3",
   "language": "python",
   "name": "python3"
  },
  "language_info": {
   "codemirror_mode": {
    "name": "ipython",
    "version": 3
   },
   "file_extension": ".py",
   "mimetype": "text/x-python",
   "name": "python",
   "nbconvert_exporter": "python",
   "pygments_lexer": "ipython3",
   "version": "3.6.9"
  }
 },
 "nbformat": 4,
 "nbformat_minor": 4
}
