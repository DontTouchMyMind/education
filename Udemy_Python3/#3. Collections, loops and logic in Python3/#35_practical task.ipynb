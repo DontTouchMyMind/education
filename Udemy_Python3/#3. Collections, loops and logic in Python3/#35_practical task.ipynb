{
 "cells": [
  {
   "cell_type": "code",
   "execution_count": 2,
   "metadata": {},
   "outputs": [
    {
     "name": "stdin",
     "output_type": "stream",
     "text": [
      "Enter your number:  5\n"
     ]
    },
    {
     "name": "stdout",
     "output_type": "stream",
     "text": [
      "\n",
      "*\n",
      "**\n",
      "***\n",
      "****\n",
      "*****\n"
     ]
    }
   ],
   "source": [
    "# Вывести лесенкой символ звёздочки по кол-ву строк, заданных пользователем:\n",
    "# запросить ввод у пользователя кол-ва строк, вывести звёздочки лесенкой\n",
    "\n",
    "rows = int(input('Enter the number of rows: '))\n",
    "\n",
    "for i in range(0, rows + 1):\n",
    "    print('*' * i)"
   ]
  },
  {
   "cell_type": "code",
   "execution_count": 4,
   "metadata": {},
   "outputs": [
    {
     "name": "stdin",
     "output_type": "stream",
     "text": [
      "Enter your number:  3\n"
     ]
    },
    {
     "name": "stdout",
     "output_type": "stream",
     "text": [
      "0 is EVEN\n",
      "1 is ODD\n",
      "2 is EVEN\n",
      "3 is ODD\n"
     ]
    }
   ],
   "source": [
    "# Запросить у пользователя ввод числа. \n",
    "# Построить цикл от 0 до введённого числа (включительно) \n",
    "# и для чётных чисел вывести то, что они чётные, \n",
    "# а для нечётных, что они нечётные. Пример вывода:\n",
    "#     0 is EVEN\n",
    "#     1 is ODD\n",
    "#     2 is EVEN\n",
    "\n",
    "number = int(input('Enter your number: '))\n",
    "\n",
    "for i in range (0, number + 1):\n",
    "    if i % 2 == 0:\n",
    "        print(f'{i} is EVEN')\n",
    "    else:\n",
    "        print(f'{i} is ODD')"
   ]
  },
  {
   "cell_type": "code",
   "execution_count": 5,
   "metadata": {},
   "outputs": [
    {
     "name": "stdin",
     "output_type": "stream",
     "text": [
      "Enter your number:  5\n"
     ]
    },
    {
     "name": "stdout",
     "output_type": "stream",
     "text": [
      "8\n"
     ]
    }
   ],
   "source": [
    "# Построить цикл от 0 до введенного числа(включительно) \n",
    "# и посчитать сумму всех числел, делимый без остатка на 3 и на 5.\n",
    "\n",
    "number = int(input('Enter your number: '))\n",
    "total_sum = 0\n",
    "for i in range (0, number + 1):\n",
    "    if i % 3 == 0 or i % 5 ==0:\n",
    "print(total_sum)"
   ]
  },
  {
   "cell_type": "code",
   "execution_count": 18,
   "metadata": {},
   "outputs": [
    {
     "name": "stdin",
     "output_type": "stream",
     "text": [
      "Enter your number:  5\n"
     ]
    },
    {
     "name": "stdout",
     "output_type": "stream",
     "text": [
      "8\n"
     ]
    }
   ],
   "source": [
    "number = int(input('Enter your number: '))\n",
    "\n",
    "total_sum = sum([x for x in range(number + 1) if x % 3 == 0 or x % 5 == 0])\n",
    "print(total_sum)"
   ]
  },
  {
   "cell_type": "code",
   "execution_count": 3,
   "metadata": {},
   "outputs": [
    {
     "name": "stdin",
     "output_type": "stream",
     "text": [
      "Enter the length of the lists:  3\n",
      "Enter firs list:  1\n",
      "Enter firs list:  1\n",
      "Enter firs list:  1\n",
      "Enter second list:  2\n",
      "Enter second list:  2\n",
      "Enter second list:  2\n"
     ]
    },
    {
     "name": "stdout",
     "output_type": "stream",
     "text": [
      "[1, 1, 1, 2, 2, 2]\n"
     ]
    }
   ],
   "source": [
    "# На вход подаются два списка чисел длины N.\n",
    "# Взять из первого списка все нечетные числа, \n",
    "# из второго все четные и объединить их в новом списке. \n",
    "# Первыми должны идти нечетные числа.\n",
    "\n",
    "first_lst = []\n",
    "second_lst = []\n",
    "\n",
    "N = int(input('Enter the length of the lists: '))\n",
    "x = 0\n",
    "while x != N:\n",
    "    number = int(input('Enter firs list: '))\n",
    "    first_lst.append(number)\n",
    "    x += 1\n",
    "x = 0\n",
    "while x != N:\n",
    "    number = int(input('Enter second list: '))\n",
    "    second_lst.append(number)\n",
    "    x += 1\n",
    "\n",
    "joined_lst = []\n",
    "for i in first_lst:\n",
    "    if i % 2 != 0:\n",
    "        joined_lst.append(i)\n",
    "for i in second_lst:\n",
    "    if i % 2 == 0:\n",
    "        joined_lst.append(i)\n",
    "print(joined_lst)"
   ]
  },
  {
   "cell_type": "code",
   "execution_count": 20,
   "metadata": {},
   "outputs": [
    {
     "name": "stdout",
     "output_type": "stream",
     "text": [
      "[1, 3, 5, 12, 14]\n"
     ]
    }
   ],
   "source": [
    "first_lst = [1, 2, 3, 4, 5, 6]\n",
    "second_lst = [11, 12, 13, 14, 15]\n",
    "\n",
    "odd = [x for x in first_lst if x % 2 != 0]\n",
    "even = [x for x in second_lst if x % 2 == 0]\n",
    "joined_lst = odd + even\n",
    "print(joined_lst)"
   ]
  },
  {
   "cell_type": "code",
   "execution_count": 21,
   "metadata": {},
   "outputs": [
    {
     "name": "stdout",
     "output_type": "stream",
     "text": [
      "2\n"
     ]
    }
   ],
   "source": [
    "# Сумма карт\n",
    "data = {\n",
    "    2: 1,\n",
    "    3: 1,\n",
    "    4: 1,\n",
    "    5: 1,\n",
    "    6: 1,\n",
    "    7: 0,\n",
    "    8: 0,\n",
    "    9: 0,\n",
    "    10 : -1,\n",
    "    'J' : -1,\n",
    "    'Q' : -1,\n",
    "    'K' : -1,\n",
    "    'A' : -1,\n",
    "}\n",
    "\n",
    "current_hand = [2, 3, 4, 10, 'Q', 5]\n",
    "\n",
    "cards_sum = 0\n",
    "for i in current_hand:\n",
    "    for k, v in data.items():\n",
    "        if i == k:\n",
    "            cards_sum += v\n",
    "print(cards_sum)"
   ]
  },
  {
   "cell_type": "code",
   "execution_count": 22,
   "metadata": {},
   "outputs": [
    {
     "name": "stdout",
     "output_type": "stream",
     "text": [
      "2\n"
     ]
    }
   ],
   "source": [
    "data = {\n",
    "    2: 1,\n",
    "    3: 1,\n",
    "    4: 1,\n",
    "    5: 1,\n",
    "    6: 1,\n",
    "    7: 0,\n",
    "    8: 0,\n",
    "    9: 0,\n",
    "    10 : -1,\n",
    "    'J' : -1,\n",
    "    'Q' : -1,\n",
    "    'K' : -1,\n",
    "    'A' : -1,\n",
    "}\n",
    "current_hand = [2, 3, 4, 10, 'Q', 5]\n",
    "\n",
    "cards_sum = sum([data[x] for x in current_hand])\n",
    "print(cards_sum)"
   ]
  },
  {
   "cell_type": "code",
   "execution_count": 29,
   "metadata": {},
   "outputs": [
    {
     "name": "stdout",
     "output_type": "stream",
     "text": [
      "0\n",
      "0\n",
      "1\n",
      "2\n",
      "3\n",
      "4\n",
      "5\n",
      "Flush!\n",
      "5\n"
     ]
    }
   ],
   "source": [
    "# Игра флэш. Определить есть ли на столе и на руках 5 карт одной масти.\n",
    "table_cards = ['A_S', 'J_H', '7_D', '8_D', '10_D']\n",
    "hand_cards = ['J_D', '3_D']\n",
    "\n",
    "S = 0\n",
    "D = 0\n",
    "H = 0\n",
    "C = 0\n",
    "\n",
    "all_cards = table_cards + hand_cards\n",
    "for i in all_cards:\n",
    "    if i[-1] == 'S':\n",
    "        S += 1\n",
    "    elif i[-1] == 'H':\n",
    "        H += 1\n",
    "    elif i[-1] == 'D':\n",
    "        D += 1\n",
    "    elif i[-1] == 'C':\n",
    "        C += 1\n",
    "if S >= 5 or C >= 5 or H >= 5 or D >= 5:\n",
    "    print('Flush!')\n",
    "else:\n",
    "    print('No Flush!')\n"
   ]
  },
  {
   "cell_type": "code",
   "execution_count": 32,
   "metadata": {},
   "outputs": [
    {
     "name": "stdout",
     "output_type": "stream",
     "text": [
      "Flush!\n"
     ]
    }
   ],
   "source": [
    "table_cards = ['A_S', 'J_H', '7_D', '8_D', '10_D']\n",
    "hand_cards = ['J_D', '3_D']\n",
    "\n",
    "suites_in_game = [i[-1] for i in table_cards + hand_cards]\n",
    "\n",
    "flush = False\n",
    "for suit in 'SHCD':\n",
    "    if suites_in_game.count(suit) >= 5:\n",
    "        flush =True\n",
    "if flush:\n",
    "    print('Flush!')\n",
    "else:\n",
    "    print('No Flush!')"
   ]
  },
  {
   "cell_type": "code",
   "execution_count": 34,
   "metadata": {},
   "outputs": [
    {
     "name": "stdout",
     "output_type": "stream",
     "text": [
      "Flush!\n"
     ]
    }
   ],
   "source": [
    "table_cards = ['A_S', 'J_H', '7_D', '8_D', '10_D']\n",
    "hand_cards = ['J_D', '3_D']\n",
    "\n",
    "suites_in_game = [i[-1] for i in table_cards + hand_cards]\n",
    "\n",
    "\n",
    "flush = any([suites_in_game.count(suit) >= 5 for suit in 'SHCD'])\n",
    "\n",
    "if flush:\n",
    "    print('Flush!')\n",
    "else:\n",
    "    print('No Flush!')"
   ]
  },
  {
   "cell_type": "code",
   "execution_count": 36,
   "metadata": {},
   "outputs": [
    {
     "name": "stdout",
     "output_type": "stream",
     "text": [
      "Flush!\n"
     ]
    }
   ],
   "source": [
    "table_cards = ['A_S', 'J_H', '7_D', '8_D', '10_D']\n",
    "hand_cards = ['J_D', '3_D']\n",
    "\n",
    "flush = any([sum([card[-1] == suit for card in table_cards + hand_cards]) >= 5 for suit in 'SHCD'])\n",
    "if flush:\n",
    "    print('Flush!')\n",
    "else:\n",
    "    print('No Flush!')"
   ]
  },
  {
   "cell_type": "code",
   "execution_count": 38,
   "metadata": {},
   "outputs": [
    {
     "name": "stdin",
     "output_type": "stream",
     "text": [
      " 1112\n"
     ]
    },
    {
     "name": "stdout",
     "output_type": "stream",
     "text": [
      "no Palindrome\n"
     ]
    }
   ],
   "source": [
    "# Определить является ли число палиндромом.\n",
    "# Запрещается исходное число конвертировать в строку и пременять к ней реверсирование.\n",
    "number = int(input())\n",
    "\n",
    "reversed_number = 0\n",
    "tmp_original = number\n",
    "\n",
    "while tmp_original > 0:\n",
    "    reversed_number = (reversed_number * 10) + tmp_original % 10\n",
    "    tmp_original = tmp_original // 10\n",
    "\n",
    "if number == reversed_number:\n",
    "    print('Palindrome')\n",
    "else:\n",
    "    print('no Palindrome')"
   ]
  },
  {
   "cell_type": "code",
   "execution_count": 45,
   "metadata": {},
   "outputs": [
    {
     "name": "stdout",
     "output_type": "stream",
     "text": [
      "17\n",
      "Try number 1\n"
     ]
    },
    {
     "name": "stdin",
     "output_type": "stream",
     "text": [
      "Enter your number:  17\n"
     ]
    },
    {
     "name": "stdout",
     "output_type": "stream",
     "text": [
      "You are winner!\n"
     ]
    }
   ],
   "source": [
    "# Компьютер загадывает число от 1 до 50 и даёт 6 попыток пользователю,\n",
    "# чтобы тот смог угадать загаданное число. Когда пользователь вводит число, \n",
    "# компьютер проверяет угадано ли число и если не угадано, то сообщает пользователю меньше ли или больше загаданое число. \n",
    "# Если пользователь угадал - то сообщает о том, что число отгадано.\n",
    "\n",
    "from random import randint\n",
    "\n",
    "\n",
    "number = randint(1,50)\n",
    "print(number)\n",
    "tries = 0\n",
    "while tries != 6:\n",
    "    tries += 1\n",
    "    print(f'Try number {count}')\n",
    "    user_number = int(input('Enter your number: '))\n",
    "    if user_number == number:\n",
    "        print('You are winner!')\n",
    "        break\n",
    "    elif user_number > number:\n",
    "        print('Your number is greater')\n",
    "    else:\n",
    "        print('Your number is less')\n",
    "else:\n",
    "    print('You are loser!')\n",
    "    "
   ]
  },
  {
   "cell_type": "code",
   "execution_count": null,
   "metadata": {},
   "outputs": [
    {
     "name": "stdin",
     "output_type": "stream",
     "text": [
      "Player choice: [R/S/P]:  r\n"
     ]
    },
    {
     "name": "stdout",
     "output_type": "stream",
     "text": [
      "s\n",
      "You are winner!\n"
     ]
    },
    {
     "name": "stdin",
     "output_type": "stream",
     "text": [
      "Do you want play again?[Y/N]:  y\n",
      "Player choice: [R/S/P]:  R\n"
     ]
    },
    {
     "name": "stdout",
     "output_type": "stream",
     "text": [
      "s\n",
      "You are winner!\n"
     ]
    }
   ],
   "source": [
    "# Написать игру в \"камень-ножницы-бумага\" против компьютера.\n",
    "\n",
    "# Запустить игру в бесконечном цикле. Запросить ввод от пользователя \n",
    "# (R - камень, S - ножницы, P - бумага). Сгенерировать случайный выбор компьютера. Вывести выбор компьютера. \n",
    "# Определить победителя, выведя соответствующую информацию. Спросить пользователя - хочет ли он повторить игру. \n",
    "# Если хочет - повторить, не хочет - выйти из цикла.\n",
    "from random import choice\n",
    "\n",
    "game = True\n",
    "data = ['r', 's', 'p']\n",
    "while game:\n",
    "\n",
    "    user_choice = input('Player choice: [R/S/P]: ').lower()\n",
    "    if user_choice not in ['r', 's', 'p']:\n",
    "        print('Incorrect input. Try again.')\n",
    "        continue\n",
    "    \n",
    "    comp_choice = choice(data)\n",
    "    print(comp_choice)\n",
    "    \n",
    "    winning_combinations = [('r', 's'), ('s', 'p'), ('p', 'r')]\n",
    "    if user_choice == comp_choice:\n",
    "        print('A draw')\n",
    "    elif (user_choice,comp_choice) in winning_combinations:\n",
    "        print('You are winner!')\n",
    "    else:\n",
    "        print('You are loser!')\n",
    "    \n",
    "    should_continue = input('Do you want play again?[Y/N]: ').lower()\n",
    "    if should_continue == 'y':\n",
    "        game = True\n",
    "    else:\n",
    "        game = False"
   ]
  }
 ],
 "metadata": {
  "kernelspec": {
   "display_name": "Python 3",
   "language": "python",
   "name": "python3"
  },
  "language_info": {
   "codemirror_mode": {
    "name": "ipython",
    "version": 3
   },
   "file_extension": ".py",
   "mimetype": "text/x-python",
   "name": "python",
   "nbconvert_exporter": "python",
   "pygments_lexer": "ipython3",
   "version": "3.6.9"
  }
 },
 "nbformat": 4,
 "nbformat_minor": 4
}
