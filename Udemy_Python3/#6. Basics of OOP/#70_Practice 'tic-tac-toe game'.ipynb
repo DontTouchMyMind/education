{
 "cells": [
  {
   "cell_type": "raw",
   "metadata": {},
   "source": [
    "Вы попробуете реализовать игру в крестики-нолики размером 3х3 - самые что ни наесть обыкновенные.\n",
    "\n",
    "Сделайте метод, который выводит на каждом ходу текущее положение с линейками, крестиками и ноликами (используйте буквы X и O в качестве крестиков и ноликов) - так игрокам будет удобнее ориентироваться. Подсказка: если надо вывести строку без перевода каретки на новую строку, используйте функцию print и передавайте параметр end=''.\n",
    "\n",
    "Также вам понадобится реализовать способ проверки наличия выигрышной комбинации. Подсказка: договоримся, что клетки поля будут пронумерованы от 0 до 8 и пользователи будут вводить индекс поля, чтобы поставить там крестик или нолик.\n",
    "\n",
    "Для упрощения - тот кто ходит первым - ставит крестик."
   ]
  },
  {
   "cell_type": "code",
   "execution_count": 1,
   "metadata": {},
   "outputs": [],
   "source": [
    "board = [' ', ' ', ' ', ' ', ' ', ' ', ' ', ' ', ' '] # Создадим доску."
   ]
  },
  {
   "cell_type": "code",
   "execution_count": 2,
   "metadata": {},
   "outputs": [],
   "source": [
    "def print_state(state):\n",
    "    \"\"\"\n",
    "    Функция выводит на экран текущее состояние доски.\n",
    "    :param state: type: list; текущее состояние игрового поля.\n",
    "    \"\"\"\n",
    "    for i, c in enumerate(state):\n",
    "        if (i + 1) % 3 == 0: # Если число кратно 3, то это последняя клетка игрового поля.\n",
    "            print(f'{c}')    # Выводим содержание этой клетки и переводим каретку на след. строку.\n",
    "        else:\n",
    "            print(f'{c}|', end='') # В ином случае, клетка не последняя. Перевод каретки не нужен."
   ]
  },
  {
   "cell_type": "code",
   "execution_count": 3,
   "metadata": {},
   "outputs": [
    {
     "name": "stdout",
     "output_type": "stream",
     "text": [
      " | | \n",
      " | | \n",
      " | | \n"
     ]
    }
   ],
   "source": [
    "print_state(board)"
   ]
  },
  {
   "cell_type": "code",
   "execution_count": 4,
   "metadata": {},
   "outputs": [],
   "source": [
    "# Выйгрышные комбинации пропишем сразу, т.к. их не много.\n",
    "winner_combinations = [(0, 1, 2), (3, 4, 5), (6, 7, 8), (0, 3, 6), (1, 4, 7),\n",
    "                      (2, 5, 8), (0, 4, 8), (2, 4, 6)]"
   ]
  },
  {
   "cell_type": "code",
   "execution_count": 5,
   "metadata": {},
   "outputs": [],
   "source": [
    "def get_winner(state, combinations):\n",
    "    \"\"\"\n",
    "    Функция определяет есть ли выйгрышная комбинация.\n",
    "    :param state: type: list; текущее состояние игрового поля.\n",
    "    :param combinations: type: list; список выйгрышных комбинаций.\n",
    "    :return: Выводит победителя если он есть.\n",
    "    \"\"\"\n",
    "    for (x, y, z) in combinations:\n",
    "        if state[x] == state[y] and state[y] == state[z] and (state[x] == 'X' or state[x] == 'O'):\n",
    "            return state[x]     \n",
    "    return ''"
   ]
  },
  {
   "cell_type": "code",
   "execution_count": 6,
   "metadata": {},
   "outputs": [],
   "source": [
    "def play_game(board):\n",
    "    \"\"\"\n",
    "    Фунция реализует основной алгоритм игры.\n",
    "    \"\"\"\n",
    "    current_sign = 'X' # Текущий ирок, первым начинает \"Х\"\n",
    "    \n",
    "    while(get_winner(board, winner_combinations) == ''):\n",
    "        # Принимаем индекс поля, в которое делаем ход.\n",
    "        index = int(input(f'Where do you want to draw {current_sign}?')) \n",
    "        board[index] = current_sign \n",
    "        \n",
    "        print_state(board) # Отображаем игровое поле.\n",
    "        \n",
    "        winner_sign = get_winner(board, winner_combinations) # Проверяем победителя.\n",
    "        if winner_sign != '':\n",
    "            print(f'We have a winner: {winner_sign}')\n",
    "            \n",
    "        current_sign = 'X' if current_sign == 'O' else 'O' # Смена игрока."
   ]
  },
  {
   "cell_type": "code",
   "execution_count": 7,
   "metadata": {},
   "outputs": [
    {
     "name": "stdin",
     "output_type": "stream",
     "text": [
      "Where do you want to draw X? 0\n"
     ]
    },
    {
     "name": "stdout",
     "output_type": "stream",
     "text": [
      "X| | \n",
      " | | \n",
      " | | \n"
     ]
    },
    {
     "name": "stdin",
     "output_type": "stream",
     "text": [
      "Where do you want to draw O? 1\n"
     ]
    },
    {
     "name": "stdout",
     "output_type": "stream",
     "text": [
      "X|O| \n",
      " | | \n",
      " | | \n"
     ]
    },
    {
     "name": "stdin",
     "output_type": "stream",
     "text": [
      "Where do you want to draw X? 4\n"
     ]
    },
    {
     "name": "stdout",
     "output_type": "stream",
     "text": [
      "X|O| \n",
      " |X| \n",
      " | | \n"
     ]
    },
    {
     "name": "stdin",
     "output_type": "stream",
     "text": [
      "Where do you want to draw O? 3\n"
     ]
    },
    {
     "name": "stdout",
     "output_type": "stream",
     "text": [
      "X|O| \n",
      "O|X| \n",
      " | | \n"
     ]
    },
    {
     "name": "stdin",
     "output_type": "stream",
     "text": [
      "Where do you want to draw X? 8\n"
     ]
    },
    {
     "name": "stdout",
     "output_type": "stream",
     "text": [
      "X|O| \n",
      "O|X| \n",
      " | |X\n",
      "We have a winner: X\n"
     ]
    }
   ],
   "source": [
    "play_game(board)"
   ]
  }
 ],
 "metadata": {
  "kernelspec": {
   "display_name": "Python 3",
   "language": "python",
   "name": "python3"
  },
  "language_info": {
   "codemirror_mode": {
    "name": "ipython",
    "version": 3
   },
   "file_extension": ".py",
   "mimetype": "text/x-python",
   "name": "python",
   "nbconvert_exporter": "python",
   "pygments_lexer": "ipython3",
   "version": "3.6.9"
  }
 },
 "nbformat": 4,
 "nbformat_minor": 4
}
