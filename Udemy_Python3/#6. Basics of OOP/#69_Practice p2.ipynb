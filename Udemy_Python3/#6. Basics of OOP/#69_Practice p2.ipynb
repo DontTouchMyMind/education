{
 "cells": [
  {
   "cell_type": "raw",
   "metadata": {},
   "source": [
    "Создать класс Pizza, который принимает список ингридиентов.\n",
    "Класс поддерживает:\n",
    "    -атрибут order_number, который возвращает текущий номер заказа\n",
    "    (используйте статический атрибут в качестве сквозного счетчика)\n",
    "    -атрибут ingredients, который возвращает список, принятый в конструкторе\n",
    "    -функции (garden_feast, hawaiian, meat_festival) создания видов пицц, ингредиенты которых заранее известны(см.табл.)\n",
    "    Name             Ingredients\n",
    "    hawaiian         -ham, pineapple\n",
    "    meat_festival    -beef, meatball, bacon\n",
    "    garden_feast     -spinach, olives, mushroom"
   ]
  },
  {
   "cell_type": "code",
   "execution_count": 17,
   "metadata": {},
   "outputs": [],
   "source": [
    "class Pizza:\n",
    "    order = 0\n",
    "    \n",
    "    def __init__(self, ingredients):\n",
    "        self.ingredients = ingredients\n",
    "        Pizza.order += 1\n",
    "        self.order_number = Pizza.order\n",
    "    \n",
    "    @classmethod\n",
    "    def garden_feast(cls):\n",
    "        return cls(['spinach', 'olives', 'mushroom'])\n",
    "    \n",
    "    @classmethod\n",
    "    def hawaiian(cls):\n",
    "        return cls(['ham', 'pineapple'])\n",
    "    \n",
    "    @classmethod\n",
    "    def meat_festival(cls):\n",
    "        return cls(['beef', 'meatball', 'bacon'])"
   ]
  },
  {
   "cell_type": "code",
   "execution_count": 18,
   "metadata": {},
   "outputs": [
    {
     "name": "stdout",
     "output_type": "stream",
     "text": [
      "['bacon', 'parmesan', 'ham']\n",
      "1\n",
      "['spinach', 'olives', 'mushroom']\n",
      "2\n"
     ]
    }
   ],
   "source": [
    "p = Pizza(['bacon', 'parmesan', 'ham'])\n",
    "print(p.ingredients)\n",
    "print(p.order_number)\n",
    "p2 = Pizza.garden_feast()\n",
    "print(p2.ingredients)\n",
    "print(p2.order_number)"
   ]
  },
  {
   "cell_type": "raw",
   "metadata": {},
   "source": [
    "Создать класс Circle, который конструируется с передачей радиуса в качестве аргумента.\n",
    "Класс Circle должен предоставлять две функции:\n",
    "    -get_area, которая возвращает площадь круга\n",
    "    -get_perimeter, которая возвращает длину окружности."
   ]
  },
  {
   "cell_type": "code",
   "execution_count": 26,
   "metadata": {},
   "outputs": [],
   "source": [
    "import math\n",
    "\n",
    "class Circle:\n",
    "    \n",
    "    def __init__(self, radius):\n",
    "        self.radius = radius\n",
    "        \n",
    "    def get_area(self):\n",
    "        return math.pi * self.radius**2\n",
    "    \n",
    "    def get_perimeter(self):\n",
    "        return 2 * math.pi * self.radius"
   ]
  },
  {
   "cell_type": "code",
   "execution_count": 27,
   "metadata": {},
   "outputs": [
    {
     "name": "stdout",
     "output_type": "stream",
     "text": [
      "314.1592653589793\n",
      "62.83185307179586\n"
     ]
    }
   ],
   "source": [
    "circle = Circle(10)\n",
    "area = circle.get_area()\n",
    "perimeter = circle.get_perimeter()\n",
    "print(area)\n",
    "print(perimeter)"
   ]
  },
  {
   "cell_type": "raw",
   "metadata": {},
   "source": [
    "Создать класс Beverage, который при конструировании принимает список ингридиентов:\n",
    "    -поддерживает атрибут ingredients, возвращающий список ингридиентов, переданных при конструировании инстанции класса\n",
    "    -поддерживает функцию get_cost, вычисляющую итоговую стоимость всех ингредиентов напитка (получается себестоимость напитка)\n",
    "    -поддерживает функцию get_price, вычисляющую цену напитка посредством умножения себестоимости на 2.5\n",
    "    -поддерживает функцию get_name, которая возвращает строку, перечисляющую ингредиенты, сортируя их в алфавитном порядке.\n",
    "     Если ингредиентов больше одного, то в конце добавляет слово 'Fusion', иначе добавляет слово 'Smoothie'. Эта функция также\n",
    "     должна заменять 'berries' на 'berry'.\n",
    "     \n",
    "     Ингредиенты и их себестоимость:\n",
    "     Strawberries $1.50\n",
    "     Banana $0.50\n",
    "     Mango $2.50\n",
    "     Blueberries $1.00\n",
    "     Rasberries $1.00\n",
    "     Apples $1.75\n",
    "     Pineapple $3.50"
   ]
  },
  {
   "cell_type": "code",
   "execution_count": 82,
   "metadata": {},
   "outputs": [],
   "source": [
    "prices = {\"Strawberries\" : 1.5, \"Banana\" : 0.5, \"Mango\" : 2.5,\n",
    "\t\t\"Blueberries\" : 1, \"Raspberries\" : 1, \"Apple\" : 1.75,\n",
    "\t\t\"Pineapple\" : 3.5}\n",
    "\n",
    "class Beverage:\n",
    "    \n",
    "    def __init__(self, ingredients):\n",
    "        self.ingredients = ingredients\n",
    "        \n",
    "    def get_cost(self):\n",
    "        \n",
    "        self.total_cost = 0\n",
    "        \n",
    "        for i in self.ingredients:\n",
    "            for key, val in prices.items():\n",
    "                if i == key:\n",
    "                    self.total_cost += val\n",
    "                    \n",
    "        return f'${self.total_cost:1.2f}'\n",
    "        \n",
    "    \n",
    "    def get_price(self):\n",
    "        \n",
    "        self.total_cost = 0\n",
    "        \n",
    "        for i in self.ingredients:\n",
    "            for key, val in prices.items():\n",
    "                if i == key:\n",
    "                    self.total_cost += val\n",
    "                    \n",
    "        self.result = self.total_cost * 2.5\n",
    "        \n",
    "        return f'${self.result:1.2f}'\n",
    "    \n",
    "    def get_name(self):\n",
    "        \n",
    "        self.ingredients.sort()\n",
    "        \n",
    "        for i in range (len(self.ingredients)):\n",
    "            if self.ingredients[i] == 'Blueberries':\n",
    "                self.ingredients[i] = 'Blueberry'\n",
    "            if self.ingredients[i] == 'Strawberries':\n",
    "                self.ingredients[i] = 'Strawberry'\n",
    "            if self.ingredients[i] == 'Raspberries':\n",
    "                self.ingredients[i] = 'Raspberry'\n",
    "       \n",
    "        if len(self.ingredients) > 1:\n",
    "            self.ingredients = self.ingredients + ['Fusion']\n",
    "        else:\n",
    "            self.ingredients = self.ingredients + ['Smoothie']\n",
    "        \n",
    "        return ' '.join(self.ingredients)\n",
    "                "
   ]
  },
  {
   "cell_type": "code",
   "execution_count": null,
   "metadata": {},
   "outputs": [],
   "source": []
  }
 ],
 "metadata": {
  "kernelspec": {
   "display_name": "Python 3",
   "language": "python",
   "name": "python3"
  },
  "language_info": {
   "codemirror_mode": {
    "name": "ipython",
    "version": 3
   },
   "file_extension": ".py",
   "mimetype": "text/x-python",
   "name": "python",
   "nbconvert_exporter": "python",
   "pygments_lexer": "ipython3",
   "version": "3.6.9"
  }
 },
 "nbformat": 4,
 "nbformat_minor": 4
}
