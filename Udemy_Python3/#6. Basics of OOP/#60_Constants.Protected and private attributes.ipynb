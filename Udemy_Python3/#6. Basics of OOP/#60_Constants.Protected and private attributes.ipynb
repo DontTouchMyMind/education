{
 "cells": [
  {
   "cell_type": "code",
   "execution_count": 1,
   "metadata": {},
   "outputs": [],
   "source": [
    "class Character():\n",
    "    # Атрибуты, оъявленные на уровне класса, являются статическими.\n",
    "    # Часто эти атрибуты являются КОНСТАНТАМИ! И объявляются заглавными буквами.\n",
    "    MAX_SPEED = 100\n",
    "    \n",
    "    def __init__(self, race, damage=10):\n",
    "        self.race = race\n",
    "        self.damage = damage\n",
    "#         self.armor = armor\n",
    "#         self.health = 100\n",
    "        \n",
    "#     def hit(self, damage): # Объявление методов\n",
    "#         self.health -= damage\n",
    "        \n",
    "#     def is_dead(self):\n",
    "#         return self.health == Character.dead_health"
   ]
  },
  {
   "cell_type": "code",
   "execution_count": 2,
   "metadata": {},
   "outputs": [],
   "source": [
    "class Character():\n",
    "\n",
    "    MAX_SPEED = 100\n",
    "    \n",
    "    def __init__(self, race, damage=10):\n",
    "        self.__race = race # Объявление приватного атрибута.\n",
    "        self.damage = damage"
   ]
  },
  {
   "cell_type": "code",
   "execution_count": 3,
   "metadata": {},
   "outputs": [],
   "source": [
    "unit = Character('Elf')"
   ]
  },
  {
   "cell_type": "code",
   "execution_count": 7,
   "metadata": {},
   "outputs": [
    {
     "ename": "AttributeError",
     "evalue": "'Character' object has no attribute '__race'",
     "output_type": "error",
     "traceback": [
      "\u001b[0;31m---------------------------------------------------------------------------\u001b[0m",
      "\u001b[0;31mAttributeError\u001b[0m                            Traceback (most recent call last)",
      "\u001b[0;32m<ipython-input-7-2884b7a01c5a>\u001b[0m in \u001b[0;36m<module>\u001b[0;34m\u001b[0m\n\u001b[0;32m----> 1\u001b[0;31m \u001b[0munit\u001b[0m\u001b[0;34m.\u001b[0m\u001b[0m__race\u001b[0m \u001b[0;31m# Теперь, т.к. race приватный атрибут, мы не сможем к нему так обратьтся.\u001b[0m\u001b[0;34m\u001b[0m\u001b[0;34m\u001b[0m\u001b[0m\n\u001b[0m",
      "\u001b[0;31mAttributeError\u001b[0m: 'Character' object has no attribute '__race'"
     ]
    }
   ],
   "source": [
    "unit.__race # Теперь, т.к. race приватный атрибут, мы не сможем к нему так обратьтся."
   ]
  },
  {
   "cell_type": "code",
   "execution_count": 8,
   "metadata": {},
   "outputs": [
    {
     "data": {
      "text/plain": [
       "'Ork'"
      ]
     },
     "execution_count": 8,
     "metadata": {},
     "output_type": "execute_result"
    }
   ],
   "source": [
    "# Но обратиться к нему все таки возможно.\n",
    "# Это обусловлено тем, что в Python3 нет как таков приватных и защищенных атрибутов.\n",
    "# Это реализованно на основе договоренности между программистами.\n",
    "unit._Character__race = 'Ork'\n",
    "unit._Character__race"
   ]
  },
  {
   "cell_type": "code",
   "execution_count": 9,
   "metadata": {},
   "outputs": [],
   "source": [
    "class Character():\n",
    "\n",
    "    MAX_SPEED = 100\n",
    "    \n",
    "    def __init__(self, race, damage=10):\n",
    "        self.__race = race\n",
    "        self.damage = damage\n",
    "\n",
    "        self._health = 100 # Объявление защищенного атрибута.\n",
    "        \n",
    "    def hit(self, damage):\n",
    "        self.health -= damage"
   ]
  },
  {
   "cell_type": "code",
   "execution_count": 11,
   "metadata": {},
   "outputs": [
    {
     "data": {
      "text/plain": [
       "0"
      ]
     },
     "execution_count": 11,
     "metadata": {},
     "output_type": "execute_result"
    }
   ],
   "source": [
    "unit._health = 0\n",
    "unit._health "
   ]
  },
  {
   "cell_type": "code",
   "execution_count": 13,
   "metadata": {},
   "outputs": [],
   "source": [
    "# Python предоставляет другую возможность - свойства (нечто среднее между атрибутами и методами).\n",
    "# Допустим нам нужно, что ты клиентский код не мог ничего записать в health и race, но мог его прочитать.\n",
    "# Организовать доступ к чтению приватных и защищенных атрибутов можем с помощью свойств.\n",
    "\n",
    "class Character():\n",
    "\n",
    "    MAX_SPEED = 100 # Константа.\n",
    "    \n",
    "    def __init__(self, race, damage=10):\n",
    "        self.damage = damage\n",
    "        \n",
    "        self.__race = race # Приватный атрибут.\n",
    "        self._health = 100 # Защищенный атрибут.\n",
    "        \n",
    "    def hit(self, damage):\n",
    "        self.health -= damage\n",
    "        \n",
    "    # Доступ к только чтению организуется с помощью декоратора @property  \n",
    "    @property\n",
    "    def health(self):\n",
    "        return self._health\n",
    "    \n",
    "    @property\n",
    "    def race(self):\n",
    "        return self.__race"
   ]
  },
  {
   "cell_type": "code",
   "execution_count": 14,
   "metadata": {},
   "outputs": [
    {
     "name": "stdout",
     "output_type": "stream",
     "text": [
      "Elf\n",
      "100\n"
     ]
    }
   ],
   "source": [
    "unit = Character('Elf')\n",
    "print(unit.race)\n",
    "print(unit.health)"
   ]
  },
  {
   "cell_type": "code",
   "execution_count": 15,
   "metadata": {},
   "outputs": [
    {
     "ename": "AttributeError",
     "evalue": "can't set attribute",
     "output_type": "error",
     "traceback": [
      "\u001b[0;31m---------------------------------------------------------------------------\u001b[0m",
      "\u001b[0;31mAttributeError\u001b[0m                            Traceback (most recent call last)",
      "\u001b[0;32m<ipython-input-15-6b662aecc7a4>\u001b[0m in \u001b[0;36m<module>\u001b[0;34m\u001b[0m\n\u001b[1;32m      1\u001b[0m \u001b[0;31m# Доступно лишь, только чтение!\u001b[0m\u001b[0;34m\u001b[0m\u001b[0;34m\u001b[0m\u001b[0;34m\u001b[0m\u001b[0m\n\u001b[0;32m----> 2\u001b[0;31m \u001b[0munit\u001b[0m\u001b[0;34m.\u001b[0m\u001b[0mhealth\u001b[0m \u001b[0;34m=\u001b[0m \u001b[0;36m0\u001b[0m\u001b[0;34m\u001b[0m\u001b[0;34m\u001b[0m\u001b[0m\n\u001b[0m\u001b[1;32m      3\u001b[0m \u001b[0munit\u001b[0m\u001b[0;34m.\u001b[0m\u001b[0mrace\u001b[0m \u001b[0;34m=\u001b[0m \u001b[0;34m'ORK'\u001b[0m\u001b[0;34m\u001b[0m\u001b[0;34m\u001b[0m\u001b[0m\n",
      "\u001b[0;31mAttributeError\u001b[0m: can't set attribute"
     ]
    }
   ],
   "source": [
    "# Доступно лишь, только чтение!\n",
    "unit.health = 0\n",
    "unit.race = 'ORK'"
   ]
  },
  {
   "cell_type": "code",
   "execution_count": 23,
   "metadata": {},
   "outputs": [],
   "source": [
    "# Рекомендуется объявлять свойства только тогда, когда они содержат какую то логику.\n",
    "class Character():\n",
    "\n",
    "    MAX_SPEED = 100\n",
    "    \n",
    "    def __init__(self, race, damage=10):\n",
    "        self.damage = damage\n",
    "        \n",
    "        self.__race = race\n",
    "        self._health = 100\n",
    "        \n",
    "        self._current_speed = 20\n",
    "        \n",
    "    def hit(self, damage):\n",
    "        self.health -= damage\n",
    "        \n",
    "    @property\n",
    "    def health(self):\n",
    "        return self._health\n",
    "    \n",
    "    @property\n",
    "    def race(self):\n",
    "        return self.__race\n",
    "    \n",
    "    @property\n",
    "    def current_speed(self):\n",
    "        return self._current_speed\n",
    "    \n",
    "    @current_speed.setter\n",
    "    def current_speed(self, current_speed):\n",
    "        if current_speed < 0:\n",
    "            self._current_speed = 0\n",
    "        elif current_speed > 100:\n",
    "            self._current_speed = 100\n",
    "        else:\n",
    "            self._current_speed = current_speed"
   ]
  },
  {
   "cell_type": "code",
   "execution_count": 24,
   "metadata": {},
   "outputs": [
    {
     "data": {
      "text/plain": [
       "20"
      ]
     },
     "execution_count": 24,
     "metadata": {},
     "output_type": "execute_result"
    }
   ],
   "source": [
    "unit = Character('Elf')\n",
    "unit.current_speed"
   ]
  },
  {
   "cell_type": "code",
   "execution_count": 25,
   "metadata": {},
   "outputs": [
    {
     "data": {
      "text/plain": [
       "0"
      ]
     },
     "execution_count": 25,
     "metadata": {},
     "output_type": "execute_result"
    }
   ],
   "source": [
    "unit.current_speed = -10\n",
    "unit.current_speed"
   ]
  },
  {
   "cell_type": "code",
   "execution_count": 27,
   "metadata": {},
   "outputs": [
    {
     "data": {
      "text/plain": [
       "50"
      ]
     },
     "execution_count": 27,
     "metadata": {},
     "output_type": "execute_result"
    }
   ],
   "source": [
    "unit.current_speed = 50\n",
    "unit.current_speed"
   ]
  },
  {
   "cell_type": "code",
   "execution_count": 28,
   "metadata": {},
   "outputs": [],
   "source": [
    "# Сначала создаем простой атрибут, если необходимо запретить доступ, то \n",
    "# 1. Создаем частный или защищенный атрибут.\n",
    "# 2. И только потом, если это еще необходимо, создаем свойство."
   ]
  }
 ],
 "metadata": {
  "kernelspec": {
   "display_name": "Python 3",
   "language": "python",
   "name": "python3"
  },
  "language_info": {
   "codemirror_mode": {
    "name": "ipython",
    "version": 3
   },
   "file_extension": ".py",
   "mimetype": "text/x-python",
   "name": "python",
   "nbconvert_exporter": "python",
   "pygments_lexer": "ipython3",
   "version": "3.6.9"
  }
 },
 "nbformat": 4,
 "nbformat_minor": 4
}
