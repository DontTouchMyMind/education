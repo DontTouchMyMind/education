{
 "cells": [
  {
   "cell_type": "raw",
   "metadata": {},
   "source": [
    "Создать класс Name, который принимает имя и фамилию в качестве аргументов при конструировании.\n",
    "Класс должен поддерживать атрибуты:\n",
    "- first_name, возвращающий имя\n",
    "- last_name, возвращающий фамилию\n",
    "- full_name, возвращающий имя и фамилию\n",
    "- initials, возвращающий ининциалы\n",
    "Класс должен приводить переданные имя и фамилию в форму при которой имя и фамилия начинаются с заглавной буквы,\n",
    "а все остальный - в нижнем регистре."
   ]
  },
  {
   "cell_type": "code",
   "execution_count": 1,
   "metadata": {},
   "outputs": [],
   "source": [
    "class Name():\n",
    "    \n",
    "    def __init__(self, first_name, last_name):\n",
    "        self.first_name = first_name.capitalize()\n",
    "        # self.first_name = first_name.title()\n",
    "        self.last_name = last_name.capitalize()\n",
    "        self.full_name = self.first_name + ' ' + self.last_name\n",
    "        self.initials = self.first_name[0] + '.' + self.last_name[0]"
   ]
  },
  {
   "cell_type": "code",
   "execution_count": 2,
   "metadata": {},
   "outputs": [
    {
     "name": "stdout",
     "output_type": "stream",
     "text": [
      "John\n",
      "Smith\n",
      "John Smith\n",
      "J.S\n"
     ]
    }
   ],
   "source": [
    "n = Name('jOhn', 'SMITH')\n",
    "print(n.first_name)\n",
    "print(n.last_name)\n",
    "print(n.full_name)\n",
    "print(n.initials)"
   ]
  },
  {
   "cell_type": "raw",
   "metadata": {},
   "source": [
    "Создайте класс Calculator, которой поддерживает:\n",
    "    сложение двух чисел;\n",
    "    вычисление разницы в двух чисел;\n",
    "    умножение двух чисел;\n",
    "    деление одного числа на другое."
   ]
  },
  {
   "cell_type": "code",
   "execution_count": 3,
   "metadata": {},
   "outputs": [],
   "source": [
    "class Calculator:\n",
    "            \n",
    "    def add(self, a, b):\n",
    "        return a + b\n",
    "    \n",
    "    def substract(self, a, b):\n",
    "        return a - b\n",
    "    \n",
    "    def multiply(self, a, b):\n",
    "        return a * b\n",
    "    \n",
    "    def divide(self, a, b):\n",
    "        return a / b"
   ]
  },
  {
   "cell_type": "code",
   "execution_count": 4,
   "metadata": {},
   "outputs": [
    {
     "name": "stdout",
     "output_type": "stream",
     "text": [
      "15\n",
      "5\n",
      "50\n",
      "2.0\n"
     ]
    }
   ],
   "source": [
    "c = Calculator()\n",
    "print(c.add(10, 5))\n",
    "print(c.substract(10, 5))\n",
    "print(c.multiply(10, 5))\n",
    "print(c.divide(10, 5))"
   ]
  },
  {
   "cell_type": "raw",
   "metadata": {},
   "source": [
    "Создать класс Employee, который принимает имя, фамилию и зарплату в  качестве аргументов при конструировании.\n",
    "Класс должен поддерживать:\n",
    "    атрибут first_name, возвращающий имя;\n",
    "    атрибут last_name, возвращающий фамилию;\n",
    "    атрибут salary, возвращающий зарплату;\n",
    "    функцию from_string, которая принимает имя, фамилию и зарплату в формате 'first_name-last_name-salary',\n",
    "    парсит строку и возвращает экземпляр Employee."
   ]
  },
  {
   "cell_type": "code",
   "execution_count": 5,
   "metadata": {},
   "outputs": [],
   "source": [
    "class Employee:\n",
    "    \n",
    "    def __init__(self, first_name, last_name, salary):\n",
    "        self.first_name = first_name\n",
    "        self.last_name = last_name\n",
    "        self.salary = salary\n",
    "    \n",
    "    @classmethod\n",
    "    def from_string(cls, input_str):\n",
    "        data = input_str.split('-')\n",
    "        return cls(data[0], data[1], int(data[2]))\n",
    "    \n",
    "        first_name, last_name, salary = input_str.split('-')\n",
    "        return cls(first_name, last_name, int(salary))"
   ]
  },
  {
   "cell_type": "code",
   "execution_count": 6,
   "metadata": {},
   "outputs": [],
   "source": [
    "e1 = Employee('Mary', 'Sue', 60000)\n",
    "e2 = Employee.from_string('John-Smith-50000')"
   ]
  },
  {
   "cell_type": "code",
   "execution_count": 7,
   "metadata": {},
   "outputs": [
    {
     "data": {
      "text/plain": [
       "60000"
      ]
     },
     "execution_count": 7,
     "metadata": {},
     "output_type": "execute_result"
    }
   ],
   "source": [
    "e1.salary"
   ]
  },
  {
   "cell_type": "code",
   "execution_count": 8,
   "metadata": {},
   "outputs": [
    {
     "data": {
      "text/plain": [
       "50000"
      ]
     },
     "execution_count": 8,
     "metadata": {},
     "output_type": "execute_result"
    }
   ],
   "source": [
    "e2.salary"
   ]
  }
 ],
 "metadata": {
  "kernelspec": {
   "display_name": "Python 3",
   "language": "python",
   "name": "python3"
  },
  "language_info": {
   "codemirror_mode": {
    "name": "ipython",
    "version": 3
   },
   "file_extension": ".py",
   "mimetype": "text/x-python",
   "name": "python",
   "nbconvert_exporter": "python",
   "pygments_lexer": "ipython3",
   "version": "3.6.9"
  }
 },
 "nbformat": 4,
 "nbformat_minor": 4
}
