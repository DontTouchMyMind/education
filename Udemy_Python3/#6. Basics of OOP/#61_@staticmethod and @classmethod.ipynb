{
 "cells": [
  {
   "cell_type": "code",
   "execution_count": 1,
   "metadata": {},
   "outputs": [],
   "source": [
    "class StaticTest():\n",
    "    x = 1"
   ]
  },
  {
   "cell_type": "code",
   "execution_count": 2,
   "metadata": {},
   "outputs": [
    {
     "name": "stdout",
     "output_type": "stream",
     "text": [
      "Via instanse: 1\n",
      "Via class: 1\n"
     ]
    }
   ],
   "source": [
    "# Вызывать статические атрибуты в Python3 можно как через имя класса, так и через его инстанцию.\n",
    "t1 = StaticTest()\n",
    "print(f'Via instanse: {t1.x}')\n",
    "print(f'Via class: {StaticTest.x}')"
   ]
  },
  {
   "cell_type": "code",
   "execution_count": 3,
   "metadata": {},
   "outputs": [
    {
     "name": "stdout",
     "output_type": "stream",
     "text": [
      "Via instanse: 2\n",
      "Via class: 1\n"
     ]
    }
   ],
   "source": [
    "# Так же мы можем и изменть эти атрибуты.\n",
    "t1.x = 2\n",
    "print(f'Via instanse: {t1.x}')\n",
    "print(f'Via class: {StaticTest.x}')"
   ]
  },
  {
   "cell_type": "code",
   "execution_count": 4,
   "metadata": {},
   "outputs": [
    {
     "name": "stdout",
     "output_type": "stream",
     "text": [
      "Via instanse: 2\n",
      "Via class: 3\n"
     ]
    }
   ],
   "source": [
    "StaticTest.x = 3\n",
    "print(f'Via instanse: {t1.x}')\n",
    "print(f'Via class: {StaticTest.x}')"
   ]
  },
  {
   "cell_type": "code",
   "execution_count": 7,
   "metadata": {},
   "outputs": [],
   "source": [
    "class DateTest():\n",
    "    def __init__(self, month, day, year):\n",
    "        self.month = month\n",
    "        self.day = day\n",
    "        self.year = year\n",
    "        \n",
    "    def display(self):\n",
    "        return f'{self.month}-{self.day}-{self.year}'\n",
    "    # Для того что бы писать самодокументированный код, выразительный код, код который выражет намерение.\n",
    "    # В таких случаях можно использовать статические методы, в качестве конструкторов.\n",
    "    # Сататические методы имеют имя.\n",
    "    @classmethod\n",
    "    def millenium_c(cls, month, day): # cls - принимает информацию о классе.\n",
    "        return cls(month, day, 2000) # cls - вызываем конструктор класса.\n",
    "    \n",
    "    @staticmethod\n",
    "    def millenium_s(month, day): # Не применяет информацию о классе.\n",
    "        return DateTest(month, day, 2000)"
   ]
  },
  {
   "cell_type": "code",
   "execution_count": 8,
   "metadata": {},
   "outputs": [
    {
     "name": "stdout",
     "output_type": "stream",
     "text": [
      "6-9-2000\n",
      "6-9-2000\n"
     ]
    }
   ],
   "source": [
    "d1 = DateTest.millenium_c(6, 9)\n",
    "d2 = DateTest.millenium_s(6, 9)\n",
    "\n",
    "print(d1.display())\n",
    "print(d2.display())"
   ]
  },
  {
   "cell_type": "code",
   "execution_count": 10,
   "metadata": {},
   "outputs": [],
   "source": [
    "class DateTime(DateTest):\n",
    "    def display(self):\n",
    "        return f'{self.month}-{self.day}-{self.year} - 00:00:00 PM'    "
   ]
  },
  {
   "cell_type": "code",
   "execution_count": 12,
   "metadata": {},
   "outputs": [
    {
     "name": "stdout",
     "output_type": "stream",
     "text": [
      "True\n",
      "False\n",
      "10-10-1990 - 00:00:00 PM\n",
      "10-10-2000\n"
     ]
    }
   ],
   "source": [
    "# Декоратор @staticmethod - обстрагирован от класса!\n",
    "\n",
    "dt1 = DateTime(10, 10, 1990)\n",
    "dt2 = DateTime.millenium_s(10, 10)\n",
    "\n",
    "print(isinstance(dt1, DateTime))\n",
    "print(isinstance(dt2, DateTime))\n",
    "\n",
    "print(dt1.display())\n",
    "print(dt2.display())"
   ]
  },
  {
   "cell_type": "code",
   "execution_count": 13,
   "metadata": {},
   "outputs": [],
   "source": [
    "class StrConverter:\n",
    "    @staticmethod\n",
    "    def to_str(bytes_or_str):\n",
    "        if isinstance(bytes_or_str, bytes):\n",
    "            value = bytes_or_str.decode('utf-8')\n",
    "        else:\n",
    "            value = bytes_or_str\n",
    "        return value\n",
    "    \n",
    "    @staticmethod\n",
    "    def to_byte(bytes_or_str):\n",
    "        if isinstance(bytes_or_str, str):\n",
    "            value = bytes_or_str.encode('utf-8')\n",
    "        else:\n",
    "            value = bytes_or_str\n",
    "        return value"
   ]
  },
  {
   "cell_type": "code",
   "execution_count": 14,
   "metadata": {},
   "outputs": [
    {
     "name": "stdout",
     "output_type": "stream",
     "text": [
      "A\n",
      "A\n"
     ]
    }
   ],
   "source": [
    "print(StrConverter.to_str('\\x41'))\n",
    "print(StrConverter.to_str('A'))"
   ]
  },
  {
   "cell_type": "code",
   "execution_count": 15,
   "metadata": {},
   "outputs": [
    {
     "name": "stdout",
     "output_type": "stream",
     "text": [
      "b'A'\n",
      "b'A'\n"
     ]
    }
   ],
   "source": [
    "print(StrConverter.to_byte('\\x41'))\n",
    "print(StrConverter.to_byte('A'))"
   ]
  }
 ],
 "metadata": {
  "kernelspec": {
   "display_name": "Python 3",
   "language": "python",
   "name": "python3"
  },
  "language_info": {
   "codemirror_mode": {
    "name": "ipython",
    "version": 3
   },
   "file_extension": ".py",
   "mimetype": "text/x-python",
   "name": "python",
   "nbconvert_exporter": "python",
   "pygments_lexer": "ipython3",
   "version": "3.6.9"
  }
 },
 "nbformat": 4,
 "nbformat_minor": 4
}
