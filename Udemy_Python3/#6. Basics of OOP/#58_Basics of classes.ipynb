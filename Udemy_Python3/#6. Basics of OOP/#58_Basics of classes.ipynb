{
 "cells": [
  {
   "cell_type": "code",
   "execution_count": 1,
   "metadata": {},
   "outputs": [
    {
     "data": {
      "text/plain": [
       "list"
      ]
     },
     "execution_count": 1,
     "metadata": {},
     "output_type": "execute_result"
    }
   ],
   "source": [
    "# ООП позволяет создавать ваши собственные классы, которые имеют методы и атрибуты.\n",
    "number = [1, 2, 3]\n",
    "type(number) # list - это класс объекта number."
   ]
  },
  {
   "cell_type": "code",
   "execution_count": 2,
   "metadata": {},
   "outputs": [],
   "source": [
    "# Создадим свой класс.\n",
    "class Character(): # Если Имя класса стоит из нескольских слов, то каждое слово должно быть с заглавной буквы SuperUser.\n",
    "    pass"
   ]
  },
  {
   "cell_type": "code",
   "execution_count": 3,
   "metadata": {},
   "outputs": [
    {
     "data": {
      "text/plain": [
       "__main__.Character"
      ]
     },
     "execution_count": 3,
     "metadata": {},
     "output_type": "execute_result"
    }
   ],
   "source": [
    "unit = Character()\n",
    "type(unit)"
   ]
  },
  {
   "cell_type": "code",
   "execution_count": 4,
   "metadata": {},
   "outputs": [],
   "source": [
    "# У каждого класса есть конструктор. Можно использовать более одного.\n",
    "# Конструктор используется для того, что бы никто не мог создать экземпляр объекта в некорректном состоянии.\n",
    "# Например - нельзя создать объект класса Character без указания его рассы.\n",
    "class Character():\n",
    "    \n",
    "    def __init__(self, race): # Определение конструктора.\n",
    "        # __init__ - специальное имя метода, со специальным синтасисом\n",
    "        # (для того, что бы отличать специализированные методы от основных).\n",
    "        # Как и любой метод он имеет аргументы self и race.\n",
    "        # Первый аргумент self - это ссылка на экземпляр, некое соглашение между программистами\n",
    "        # (к атрибуту собственного класса мы обращаемся через ссылку с наименованием self)\n",
    "        # Второй аргумент race - мы принимаем рассу.\n",
    "        self.race = race # Атрибуту на уровне объекта класса мы присваиваем значение из race\n",
    "        # Для наглядности и понятности можем переименовать переменные:\n",
    "        # self.character_race = actual_race - (race == actual_race) \n",
    "        # В левой части происходит объявление преременной на уровне объекта класса.\n",
    "        # В правой части - использование аргумента.\n",
    "        "
   ]
  },
  {
   "cell_type": "code",
   "execution_count": 5,
   "metadata": {},
   "outputs": [
    {
     "ename": "TypeError",
     "evalue": "__init__() missing 1 required positional argument: 'race'",
     "output_type": "error",
     "traceback": [
      "\u001b[0;31m---------------------------------------------------------------------------\u001b[0m",
      "\u001b[0;31mTypeError\u001b[0m                                 Traceback (most recent call last)",
      "\u001b[0;32m<ipython-input-5-7ed4b5d5d4aa>\u001b[0m in \u001b[0;36m<module>\u001b[0;34m\u001b[0m\n\u001b[0;32m----> 1\u001b[0;31m \u001b[0munit\u001b[0m \u001b[0;34m=\u001b[0m \u001b[0mCharacter\u001b[0m\u001b[0;34m(\u001b[0m\u001b[0;34m)\u001b[0m \u001b[0;31m# Теперь мы не можем создать объект, на задав атрибута класса.\u001b[0m\u001b[0;34m\u001b[0m\u001b[0;34m\u001b[0m\u001b[0m\n\u001b[0m\u001b[1;32m      2\u001b[0m \u001b[0mtype\u001b[0m\u001b[0;34m(\u001b[0m\u001b[0munit\u001b[0m\u001b[0;34m)\u001b[0m\u001b[0;34m\u001b[0m\u001b[0;34m\u001b[0m\u001b[0m\n",
      "\u001b[0;31mTypeError\u001b[0m: __init__() missing 1 required positional argument: 'race'"
     ]
    }
   ],
   "source": [
    "unit = Character() # Теперь мы не можем создать объект, незадав атрибута класса.\n",
    "type(unit)"
   ]
  },
  {
   "cell_type": "code",
   "execution_count": 6,
   "metadata": {},
   "outputs": [
    {
     "data": {
      "text/plain": [
       "__main__.Character"
      ]
     },
     "execution_count": 6,
     "metadata": {},
     "output_type": "execute_result"
    }
   ],
   "source": [
    "unit = Character('Elf')\n",
    "type(unit)"
   ]
  },
  {
   "cell_type": "code",
   "execution_count": 8,
   "metadata": {},
   "outputs": [
    {
     "data": {
      "text/plain": [
       "'Elf'"
      ]
     },
     "execution_count": 8,
     "metadata": {},
     "output_type": "execute_result"
    }
   ],
   "source": [
    "# Теперь мы можем обратиться к атрибуту race, который мы задали при создании.\n",
    "unit.race"
   ]
  },
  {
   "cell_type": "code",
   "execution_count": 9,
   "metadata": {},
   "outputs": [],
   "source": [
    "# Создадим более одного атрибута класса, а так же значения по умолчанию.\n",
    "class Character():\n",
    "    \n",
    "    def __init__(self, race, damage=10, armor=20):\n",
    "        self.race = race\n",
    "        self.damage = damage\n",
    "        self.armor = armor"
   ]
  },
  {
   "cell_type": "code",
   "execution_count": 10,
   "metadata": {},
   "outputs": [],
   "source": [
    "unit = Character('Orc', damage=30)"
   ]
  },
  {
   "cell_type": "code",
   "execution_count": 11,
   "metadata": {},
   "outputs": [
    {
     "name": "stdout",
     "output_type": "stream",
     "text": [
      "30\n",
      "20\n"
     ]
    }
   ],
   "source": [
    "print(unit.damage)\n",
    "print(unit.armor)"
   ]
  }
 ],
 "metadata": {
  "kernelspec": {
   "display_name": "Python 3",
   "language": "python",
   "name": "python3"
  },
  "language_info": {
   "codemirror_mode": {
    "name": "ipython",
    "version": 3
   },
   "file_extension": ".py",
   "mimetype": "text/x-python",
   "name": "python",
   "nbconvert_exporter": "python",
   "pygments_lexer": "ipython3",
   "version": "3.6.9"
  }
 },
 "nbformat": 4,
 "nbformat_minor": 4
}
