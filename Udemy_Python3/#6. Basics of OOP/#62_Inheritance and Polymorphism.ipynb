{
 "cells": [
  {
   "cell_type": "code",
   "execution_count": 24,
   "metadata": {},
   "outputs": [],
   "source": [
    "class Shape():\n",
    "    \n",
    "    def __init__(self):\n",
    "        print('Shape created')\n",
    "        \n",
    "    def draw(self):\n",
    "        print('Drawing a shape')\n",
    "        \n",
    "    def area(self):\n",
    "        print('Calc area')\n",
    "        \n",
    "    def perimetr(self):\n",
    "        print('Calc perimetr')"
   ]
  },
  {
   "cell_type": "code",
   "execution_count": 25,
   "metadata": {},
   "outputs": [
    {
     "name": "stdout",
     "output_type": "stream",
     "text": [
      "Shape created\n"
     ]
    }
   ],
   "source": [
    "shape = Shape()"
   ]
  },
  {
   "cell_type": "code",
   "execution_count": 26,
   "metadata": {},
   "outputs": [],
   "source": [
    "# Наследование.\n",
    "class Rectangle(Shape):\n",
    "    # При инициализации коструктора, первым делом, вызвать конструктор родильского(базового) класса.\n",
    "    def __init__(self, width, height):\n",
    "        Shape.__init__(self) # Передаем \"себя\" в конструктор базового класса.\n",
    "        # Далее создадим атрибуты, как обычно.\n",
    "        self.width = width\n",
    "        self.height = height\n",
    "        \n",
    "        print('Rectangle created')\n",
    "        \n",
    "        Shape.area(self)\n",
    "        \n",
    "    # Методы можно переопределить.\n",
    "    def area(self):\n",
    "        return self.width * self.height\n",
    "        \n",
    "    def perimetr(self):\n",
    "        return 2 * (self.width + self.height)\n",
    "        \n",
    "    def draw(self):\n",
    "        print(f'Drawing rectangle with width={self.width} and height={self.height}')"
   ]
  },
  {
   "cell_type": "code",
   "execution_count": 27,
   "metadata": {},
   "outputs": [
    {
     "name": "stdout",
     "output_type": "stream",
     "text": [
      "Shape created\n",
      "Rectangle created\n",
      "Calc area\n"
     ]
    }
   ],
   "source": [
    "# Мы унаследовали класс Shape, это значит - внутри класса Rectangle мы имеем доступ к методам класса-родителя Shape.\n",
    "# Это делается для переиспользовании кода и использовании полиморфизма.\n",
    "\n",
    "rect = Rectangle(10, 15)"
   ]
  },
  {
   "cell_type": "code",
   "execution_count": 30,
   "metadata": {},
   "outputs": [
    {
     "data": {
      "text/plain": [
       "150"
      ]
     },
     "execution_count": 30,
     "metadata": {},
     "output_type": "execute_result"
    }
   ],
   "source": [
    "rect.area()"
   ]
  },
  {
   "cell_type": "code",
   "execution_count": 31,
   "metadata": {},
   "outputs": [
    {
     "name": "stdout",
     "output_type": "stream",
     "text": [
      "Calc area\n"
     ]
    }
   ],
   "source": [
    "shape.area()"
   ]
  },
  {
   "cell_type": "code",
   "execution_count": 33,
   "metadata": {},
   "outputs": [
    {
     "name": "stdout",
     "output_type": "stream",
     "text": [
      "50\n",
      "Drawing rectangle with width=10 and height=15\n"
     ]
    }
   ],
   "source": [
    "print(rect.perimetr())\n",
    "rect.draw()"
   ]
  },
  {
   "cell_type": "code",
   "execution_count": 35,
   "metadata": {},
   "outputs": [],
   "source": [
    "import math\n",
    "class Triangle(Shape):\n",
    "    \n",
    "    def __init__(self, a, b, c):\n",
    "        Shape.__init__(self)\n",
    "        \n",
    "        self.a = a\n",
    "        self.b = b\n",
    "        self.c = c\n",
    "        \n",
    "        print('Triangle created')\n",
    "        \n",
    "    def draw(self):\n",
    "        print(f'Drawing triangle with sides={self.a}, {self.b}, {self.c}')\n",
    "        \n",
    "    def area(self):\n",
    "        s = (self.a + self.b + self.c) / 2\n",
    "        return math.sqrt(s * (s - self.a) * (s - self.b) * (s - self.c))\n",
    "    \n",
    "    def perimetr(self):\n",
    "        return self.a + self.b + self.c"
   ]
  },
  {
   "cell_type": "code",
   "execution_count": 36,
   "metadata": {},
   "outputs": [
    {
     "name": "stdout",
     "output_type": "stream",
     "text": [
      "Shape created\n",
      "Triangle created\n"
     ]
    }
   ],
   "source": [
    "triangle = Triangle(10, 10, 10)"
   ]
  },
  {
   "cell_type": "code",
   "execution_count": 37,
   "metadata": {},
   "outputs": [
    {
     "name": "stdout",
     "output_type": "stream",
     "text": [
      "Drawing triangle with sides=10, 10, 10\n",
      "43.30127018922193\n",
      "30\n"
     ]
    }
   ],
   "source": [
    "triangle.draw()\n",
    "print(triangle.area())\n",
    "print(triangle.perimetr())"
   ]
  },
  {
   "cell_type": "code",
   "execution_count": 38,
   "metadata": {},
   "outputs": [
    {
     "name": "stdout",
     "output_type": "stream",
     "text": [
      "Drawing rectangle with width=10 and height=15\n",
      "Drawing triangle with sides=10, 10, 10\n"
     ]
    }
   ],
   "source": [
    "# Полиморфизм - DuckTyping.\n",
    "# Т.к. у всех классов есть одинаковые методы(плавает как утка, крякает как утка, значит это утка)\n",
    "# Даже не смотря на то что это разные типы\n",
    "for shape in [rect, triangle]:\n",
    "    shape.draw() # Т.к. все типы реализуют этот метод."
   ]
  },
  {
   "cell_type": "code",
   "execution_count": 39,
   "metadata": {},
   "outputs": [],
   "source": [
    "# Код выше работал бы даже если классы Rectangle и Triangle не наследовались от Shape!\n",
    "# Самое главное что бы классы использовали одинаковые методы с одинаковыми параметрами.\n",
    "# В этом и заключается концепция полиморфизма.\n",
    "# В Python3 для использования полиморфизма никакое наследование не требуется впринципе.\n",
    "# Достаточно того, что бы методы назывались одним и тем же именем и имели одну и туже сигнатуру."
   ]
  },
  {
   "cell_type": "code",
   "execution_count": 40,
   "metadata": {},
   "outputs": [
    {
     "name": "stdout",
     "output_type": "stream",
     "text": [
      "Shape created\n"
     ]
    },
    {
     "ename": "NotImplementedError",
     "evalue": "Cant instatiate an abstract class",
     "output_type": "error",
     "traceback": [
      "\u001b[0;31m---------------------------------------------------------------------------\u001b[0m",
      "\u001b[0;31mNotImplementedError\u001b[0m                       Traceback (most recent call last)",
      "\u001b[0;32m<ipython-input-40-1d49aa700d63>\u001b[0m in \u001b[0;36m<module>\u001b[0;34m\u001b[0m\n\u001b[1;32m     12\u001b[0m \u001b[0;34m\u001b[0m\u001b[0m\n\u001b[1;32m     13\u001b[0m \u001b[0mshape\u001b[0m \u001b[0;34m=\u001b[0m \u001b[0mShape\u001b[0m\u001b[0;34m(\u001b[0m\u001b[0;34m)\u001b[0m\u001b[0;34m\u001b[0m\u001b[0;34m\u001b[0m\u001b[0m\n\u001b[0;32m---> 14\u001b[0;31m \u001b[0mshape\u001b[0m\u001b[0;34m.\u001b[0m\u001b[0mdraw\u001b[0m\u001b[0;34m(\u001b[0m\u001b[0;34m)\u001b[0m\u001b[0;34m\u001b[0m\u001b[0;34m\u001b[0m\u001b[0m\n\u001b[0m",
      "\u001b[0;32m<ipython-input-40-1d49aa700d63>\u001b[0m in \u001b[0;36mdraw\u001b[0;34m(self)\u001b[0m\n\u001b[1;32m      8\u001b[0m \u001b[0;34m\u001b[0m\u001b[0m\n\u001b[1;32m      9\u001b[0m     \u001b[0;32mdef\u001b[0m \u001b[0mdraw\u001b[0m\u001b[0;34m(\u001b[0m\u001b[0mself\u001b[0m\u001b[0;34m)\u001b[0m\u001b[0;34m:\u001b[0m\u001b[0;34m\u001b[0m\u001b[0;34m\u001b[0m\u001b[0m\n\u001b[0;32m---> 10\u001b[0;31m         \u001b[0;32mraise\u001b[0m \u001b[0mNotImplementedError\u001b[0m\u001b[0;34m(\u001b[0m\u001b[0;34m'Cant instatiate an abstract class'\u001b[0m\u001b[0;34m)\u001b[0m\u001b[0;34m\u001b[0m\u001b[0;34m\u001b[0m\u001b[0m\n\u001b[0m\u001b[1;32m     11\u001b[0m \u001b[0;34m\u001b[0m\u001b[0m\n\u001b[1;32m     12\u001b[0m \u001b[0;34m\u001b[0m\u001b[0m\n",
      "\u001b[0;31mNotImplementedError\u001b[0m: Cant instatiate an abstract class"
     ]
    }
   ],
   "source": [
    "# Что бы не давать пользоваться базовым классом наследниками,\n",
    "# а только переобределять методы внутри наследников можем вызвать исключение NotImplementedError()\n",
    "# Тем самым создается как бы обстрактный класс\n",
    "class Shape():\n",
    "    \n",
    "    def __init__(self):\n",
    "        print('Shape created')\n",
    "        \n",
    "    def draw(self):\n",
    "        raise NotImplementedError('Cant instatiate an abstract class')\n",
    "\n",
    "        \n",
    "shape = Shape()\n",
    "shape.draw()"
   ]
  },
  {
   "cell_type": "code",
   "execution_count": 41,
   "metadata": {},
   "outputs": [],
   "source": [
    "# Смысл в том что бы его наследовать, переопределять методы или пользоваться теми методами, \n",
    "# которые переопределять не нужно(определены без возбуждения ошибки)"
   ]
  },
  {
   "cell_type": "code",
   "execution_count": 42,
   "metadata": {},
   "outputs": [],
   "source": [
    "# Абстрактные классы можно определять также с помощью модуля abc - abstract based class."
   ]
  }
 ],
 "metadata": {
  "kernelspec": {
   "display_name": "Python 3",
   "language": "python",
   "name": "python3"
  },
  "language_info": {
   "codemirror_mode": {
    "name": "ipython",
    "version": 3
   },
   "file_extension": ".py",
   "mimetype": "text/x-python",
   "name": "python",
   "nbconvert_exporter": "python",
   "pygments_lexer": "ipython3",
   "version": "3.6.9"
  }
 },
 "nbformat": 4,
 "nbformat_minor": 4
}
