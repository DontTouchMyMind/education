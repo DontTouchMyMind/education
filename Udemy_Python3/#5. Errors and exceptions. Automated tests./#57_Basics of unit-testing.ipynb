{
 "cells": [
  {
   "cell_type": "code",
   "execution_count": 1,
   "metadata": {},
   "outputs": [],
   "source": [
    "# Unit-тестирование - это практика которая позволяет предотвращать ошибки, а не исправлять их."
   ]
  },
  {
   "cell_type": "code",
   "execution_count": 2,
   "metadata": {},
   "outputs": [],
   "source": [
    "import unittest\n",
    "import fizz_buzz"
   ]
  },
  {
   "cell_type": "code",
   "execution_count": 3,
   "metadata": {},
   "outputs": [
    {
     "name": "stderr",
     "output_type": "stream",
     "text": [
      "E\n",
      "======================================================================\n",
      "ERROR: /home/belousov/ (unittest.loader._FailedTest)\n",
      "----------------------------------------------------------------------\n",
      "AttributeError: module '__main__' has no attribute '/home/belousov/'\n",
      "\n",
      "----------------------------------------------------------------------\n",
      "Ran 1 test in 0.001s\n",
      "\n",
      "FAILED (errors=1)\n"
     ]
    },
    {
     "ename": "SystemExit",
     "evalue": "True",
     "output_type": "error",
     "traceback": [
      "An exception has occurred, use %tb to see the full traceback.\n",
      "\u001b[0;31mSystemExit\u001b[0m\u001b[0;31m:\u001b[0m True\n"
     ]
    },
    {
     "name": "stderr",
     "output_type": "stream",
     "text": [
      "/home/belousov/.local/lib/python3.6/site-packages/IPython/core/interactiveshell.py:3351: UserWarning: To exit: use 'exit', 'quit', or Ctrl-D.\n",
      "  warn(\"To exit: use 'exit', 'quit', or Ctrl-D.\", stacklevel=1)\n"
     ]
    }
   ],
   "source": [
    "class FizzBuzzTests(unittest.TestCase):\n",
    "    \n",
    "    # Определяем тестировочные случаи (методы, которые будут исполняться тест-ранером).\n",
    "    def test_fizz(self): # Проверяем поведение нашей программы.\n",
    "        number = 6\n",
    "        \n",
    "        result = fizz_buzz.get_reply(number)\n",
    "        \n",
    "        self.assertEqual(result, 'Fizz') # Проверяем, действительно ли результат полученный от вызова тестируемой функции совпадает с ожидаемым результатом.\n",
    "    \n",
    "    \n",
    "    def tets_buzz(self):\n",
    "        number = 10\n",
    "        \n",
    "        result = fizz_buzz.get_reply(number)\n",
    "        \n",
    "        self.assertEqual(result, 'Buzz')\n",
    "    \n",
    "    def tets_fizzbuzz(self):\n",
    "        number = 15\n",
    "        \n",
    "        result = fizz_buzz.get_reply(number)\n",
    "        \n",
    "        self.assertEqual(result, 'FizzBuzz')\n",
    "\n",
    "        \n",
    "if __name__ == '__main__':\n",
    "    unittest.main()"
   ]
  },
  {
   "cell_type": "code",
   "execution_count": null,
   "metadata": {},
   "outputs": [],
   "source": []
  }
 ],
 "metadata": {
  "kernelspec": {
   "display_name": "Python 3",
   "language": "python",
   "name": "python3"
  },
  "language_info": {
   "codemirror_mode": {
    "name": "ipython",
    "version": 3
   },
   "file_extension": ".py",
   "mimetype": "text/x-python",
   "name": "python",
   "nbconvert_exporter": "python",
   "pygments_lexer": "ipython3",
   "version": "3.6.9"
  }
 },
 "nbformat": 4,
 "nbformat_minor": 4
}
