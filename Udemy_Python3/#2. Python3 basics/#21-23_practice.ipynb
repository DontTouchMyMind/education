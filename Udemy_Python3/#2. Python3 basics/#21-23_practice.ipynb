{
 "cells": [
  {
   "cell_type": "code",
   "execution_count": 4,
   "metadata": {},
   "outputs": [
    {
     "name": "stdin",
     "output_type": "stream",
     "text": [
      "Введите количство чашек:  18\n"
     ]
    },
    {
     "name": "stdout",
     "output_type": "stream",
     "text": [
      "3\n"
     ]
    }
   ],
   "source": [
    "number = int(input('Введите количство чашек: '))\n",
    "bonus = number // 6\n",
    "print(bonus)"
   ]
  },
  {
   "cell_type": "code",
   "execution_count": 7,
   "metadata": {},
   "outputs": [
    {
     "name": "stdin",
     "output_type": "stream",
     "text": [
      "x1 =  1\n",
      "y1 =  1\n",
      "x2 =  5\n",
      "y2 =  5\n"
     ]
    },
    {
     "name": "stdout",
     "output_type": "stream",
     "text": [
      "Result = 5.657\n"
     ]
    }
   ],
   "source": [
    "import math\n",
    "\n",
    "x1 = int(input('x1 = '))\n",
    "y1 = int(input('y1 = '))\n",
    "x2 = int(input('x2 = '))\n",
    "y2 = int(input('y2 = '))\n",
    "\n",
    "result = math.sqrt((x2-x1)**2 +(y2-y1)**2)\n",
    "#result = round(math.sqrt((x2-x1)**2 +(y2-y1)**2), 3)\n",
    "print(f'Result = {result:1.3f}')\n"
   ]
  },
  {
   "cell_type": "code",
   "execution_count": 9,
   "metadata": {},
   "outputs": [
    {
     "name": "stdin",
     "output_type": "stream",
     "text": [
      "Введите кол-во кур:  1\n",
      "Введите кол-во свиней:  1\n",
      "Введите кол-во коров:  1\n"
     ]
    },
    {
     "name": "stdout",
     "output_type": "stream",
     "text": [
      "10\n"
     ]
    }
   ],
   "source": [
    "chicks = int(input('Введите кол-во кур: '))\n",
    "pigs = int(input('Введите кол-во свиней: '))\n",
    "cows = int(input('Введите кол-во коров: '))\n",
    "\n",
    "legs_chicks = 2 * chicks\n",
    "legs_pigs = 4 * pigs\n",
    "legs_cows = 4 * cows\n",
    "\n",
    "result = legs_chicks + legs_pigs + legs_cows\n",
    "print(result)"
   ]
  }
 ],
 "metadata": {
  "kernelspec": {
   "display_name": "Python 3",
   "language": "python",
   "name": "python3"
  },
  "language_info": {
   "codemirror_mode": {
    "name": "ipython",
    "version": 3
   },
   "file_extension": ".py",
   "mimetype": "text/x-python",
   "name": "python",
   "nbconvert_exporter": "python",
   "pygments_lexer": "ipython3",
   "version": "3.6.9"
  }
 },
 "nbformat": 4,
 "nbformat_minor": 4
}
