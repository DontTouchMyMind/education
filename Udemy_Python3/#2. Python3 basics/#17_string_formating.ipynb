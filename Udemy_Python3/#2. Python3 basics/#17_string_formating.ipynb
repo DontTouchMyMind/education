{
 "cells": [
  {
   "cell_type": "code",
   "execution_count": 1,
   "metadata": {},
   "outputs": [
    {
     "name": "stdout",
     "output_type": "stream",
     "text": [
      "My name is Max\n"
     ]
    }
   ],
   "source": [
    "name = 'Max'\n",
    "print('My name is {}'.format(name)) # {} - плейсхолдер."
   ]
  },
  {
   "cell_type": "code",
   "execution_count": 2,
   "metadata": {},
   "outputs": [
    {
     "name": "stdout",
     "output_type": "stream",
     "text": [
      "My name is Max and Im 30\n"
     ]
    }
   ],
   "source": [
    "print('My name is {} and Im {}'.format(name, 30))"
   ]
  },
  {
   "cell_type": "code",
   "execution_count": 5,
   "metadata": {},
   "outputs": [
    {
     "name": "stdout",
     "output_type": "stream",
     "text": [
      "My name is Max and Im 30\n",
      "My name is 30 and Im Max\n"
     ]
    }
   ],
   "source": [
    "# Плейсхолдеры можно индексировать.\n",
    "print('My name is {0} and Im {1}'.format(name, 30))\n",
    "print('My name is {1} and Im {0}'.format(name, 30))"
   ]
  },
  {
   "cell_type": "code",
   "execution_count": 8,
   "metadata": {},
   "outputs": [
    {
     "name": "stdout",
     "output_type": "stream",
     "text": [
      "Pi equals 3.14\n",
      "Pi equals  3.14\n"
     ]
    }
   ],
   "source": [
    "pi = 3.1415\n",
    "print('Pi equals {x:1.2f}'.format(x = pi)) # Вставка с помощью именованных аргументов.\n",
    "                                           # :1.2f - два значащих разряда.\n",
    "print('Pi equals {x:5.2f}'.format(x = pi)) # :5 - общая длинна вывода(плейсхолдер занимает 5 символов)."
   ]
  },
  {
   "cell_type": "code",
   "execution_count": 9,
   "metadata": {},
   "outputs": [
    {
     "name": "stdout",
     "output_type": "stream",
     "text": [
      "My name is Elias and Im 30\n"
     ]
    }
   ],
   "source": [
    "# Интерполяция (доступно с версии Python 3.6)/\n",
    "name = 'Elias'\n",
    "age = 30\n",
    "print(f'My name is {name} and Im {age}')"
   ]
  },
  {
   "cell_type": "code",
   "execution_count": 10,
   "metadata": {},
   "outputs": [
    {
     "name": "stdout",
     "output_type": "stream",
     "text": [
      "Pi equals 3.14\n"
     ]
    }
   ],
   "source": [
    "# Интерполяция не отменяет всех возможностей по форматированию.\n",
    "print(f'Pi equals {pi:1.2f}')"
   ]
  }
 ],
 "metadata": {
  "kernelspec": {
   "display_name": "Python 3",
   "language": "python",
   "name": "python3"
  },
  "language_info": {
   "codemirror_mode": {
    "name": "ipython",
    "version": 3
   },
   "file_extension": ".py",
   "mimetype": "text/x-python",
   "name": "python",
   "nbconvert_exporter": "python",
   "pygments_lexer": "ipython3",
   "version": "3.6.9"
  }
 },
 "nbformat": 4,
 "nbformat_minor": 4
}
