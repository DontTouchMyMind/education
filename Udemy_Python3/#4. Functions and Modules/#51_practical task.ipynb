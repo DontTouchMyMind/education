{
 "cells": [
  {
   "cell_type": "code",
   "execution_count": 1,
   "metadata": {},
   "outputs": [],
   "source": [
    "# Два учестника участвуют в дуэли р1 и р2. \n",
    "# Напишите функцию whos_first, которая принимает две строки и имя игрока, \n",
    "# который выстрелил первым. Если игроки выстрелили одновремено, то вывести \"tie\"."
   ]
  },
  {
   "cell_type": "code",
   "execution_count": 2,
   "metadata": {},
   "outputs": [],
   "source": [
    "def whos_first(p1, p2):\n",
    "    for i in range(len(p1)):\n",
    "        if p1[i] == 'B':\n",
    "            x = i\n",
    "            \n",
    "    for j in range(len(p2)):\n",
    "        if p2[j] == 'B':\n",
    "            y = j\n",
    "            \n",
    "    if x == y:\n",
    "        print('tie')\n",
    "    elif x < y:\n",
    "        print('p1')\n",
    "    else:\n",
    "        print('p2')"
   ]
  },
  {
   "cell_type": "code",
   "execution_count": 3,
   "metadata": {},
   "outputs": [
    {
     "name": "stdout",
     "output_type": "stream",
     "text": [
      "p1\n"
     ]
    }
   ],
   "source": [
    "whos_first('   Bang', '        Bang')"
   ]
  },
  {
   "cell_type": "code",
   "execution_count": 4,
   "metadata": {},
   "outputs": [],
   "source": [
    "def shutdown(p1, p2):\n",
    "    diff = p1.find('B') - p2.find('B')\n",
    "    \n",
    "    if diff < 0:\n",
    "        return 'p1'\n",
    "    elif diff > 0:\n",
    "        return 'p2'\n",
    "    else:\n",
    "        return 'tie'"
   ]
  },
  {
   "cell_type": "code",
   "execution_count": 5,
   "metadata": {},
   "outputs": [
    {
     "name": "stdout",
     "output_type": "stream",
     "text": [
      "p1\n"
     ]
    }
   ],
   "source": [
    "print(shutdown('   Bang', '        Bang'))"
   ]
  },
  {
   "cell_type": "code",
   "execution_count": 6,
   "metadata": {},
   "outputs": [],
   "source": [
    "# Ханойские башни.\n",
    "# Написать функцию solve_hanoi_towers, которая принимает количество дисков \n",
    "# и возвращает минимальное кол-во шагов, за которые можно решить задачу."
   ]
  },
  {
   "cell_type": "code",
   "execution_count": 7,
   "metadata": {},
   "outputs": [],
   "source": [
    "def solve_hanoi_towers(discs):\n",
    "    return 2**discs - 1"
   ]
  },
  {
   "cell_type": "code",
   "execution_count": 8,
   "metadata": {},
   "outputs": [
    {
     "data": {
      "text/plain": [
       "7"
      ]
     },
     "execution_count": 8,
     "metadata": {},
     "output_type": "execute_result"
    }
   ],
   "source": [
    "solve_hanoi_towers(3)"
   ]
  },
  {
   "cell_type": "code",
   "execution_count": 9,
   "metadata": {},
   "outputs": [],
   "source": [
    "# Написать функцию calc_dice_scores, принмающую на вход список кортежей и возвращающую общее кол-во очков.\n",
    "# Если \"дублет\", то все очки сгорают."
   ]
  },
  {
   "cell_type": "code",
   "execution_count": 10,
   "metadata": {},
   "outputs": [],
   "source": [
    "def calc_dice_scores(lst):\n",
    "    return sum([a + b for a, b in lst]) if not any([a == b for a, b in lst]) else 0"
   ]
  },
  {
   "cell_type": "code",
   "execution_count": 11,
   "metadata": {},
   "outputs": [
    {
     "data": {
      "text/plain": [
       "0"
      ]
     },
     "execution_count": 11,
     "metadata": {},
     "output_type": "execute_result"
    }
   ],
   "source": [
    "calc_dice_scores([(4, 5), (4, 5), (5, 5)])"
   ]
  },
  {
   "cell_type": "code",
   "execution_count": 12,
   "metadata": {},
   "outputs": [],
   "source": [
    "# Напишите функцию any_duplicates, которая принимает двумерный массив размера 3х3. \n",
    "# Массив заполнен числами от 1 до 9. Функция должна вернуть False, \n",
    "# если числа встречаются только один раз. В противном случае True. "
   ]
  },
  {
   "cell_type": "code",
   "execution_count": 13,
   "metadata": {},
   "outputs": [],
   "source": [
    "def any_duplicates(square):\n",
    "    plain = [i for x in square for i in x]\n",
    "    return sorted(plain) != [1, 2, 3, 4, 5, 6, 7, 8, 9]"
   ]
  },
  {
   "cell_type": "code",
   "execution_count": 14,
   "metadata": {},
   "outputs": [
    {
     "data": {
      "text/plain": [
       "False"
      ]
     },
     "execution_count": 14,
     "metadata": {},
     "output_type": "execute_result"
    }
   ],
   "source": [
    "any_duplicates([[1, 2 ,4],  [7, 9, 3], [6, 5, 8]])"
   ]
  },
  {
   "cell_type": "code",
   "execution_count": 15,
   "metadata": {},
   "outputs": [
    {
     "data": {
      "text/plain": [
       "True"
      ]
     },
     "execution_count": 15,
     "metadata": {},
     "output_type": "execute_result"
    }
   ],
   "source": [
    "any_duplicates([[1, 1 ,4],  [7, 9, 3], [6, 5, 8]])"
   ]
  },
  {
   "cell_type": "code",
   "execution_count": 3,
   "metadata": {},
   "outputs": [
    {
     "name": "stdout",
     "output_type": "stream",
     "text": [
      "How many sticks you take? Remaining 10\n"
     ]
    },
    {
     "name": "stdin",
     "output_type": "stream",
     "text": [
      " 3\n"
     ]
    },
    {
     "name": "stdout",
     "output_type": "stream",
     "text": [
      "Sticks taken: 3 \n",
      "\n",
      "How many sticks you take? Remaining 7\n"
     ]
    },
    {
     "name": "stdin",
     "output_type": "stream",
     "text": [
      " 3\n"
     ]
    },
    {
     "name": "stdout",
     "output_type": "stream",
     "text": [
      "Sticks taken: 3 \n",
      "\n",
      "How many sticks you take? Remaining 4\n"
     ]
    },
    {
     "name": "stdin",
     "output_type": "stream",
     "text": [
      " 3\n"
     ]
    },
    {
     "name": "stdout",
     "output_type": "stream",
     "text": [
      "Sticks taken: 3 \n",
      "\n",
      "How many sticks you take? Remaining 1\n"
     ]
    },
    {
     "name": "stdin",
     "output_type": "stream",
     "text": [
      " 3\n"
     ]
    },
    {
     "name": "stdout",
     "output_type": "stream",
     "text": [
      "Sticks taken: 3 \n",
      "\n",
      "No more sticks in the game. \n",
      " Player 2 has lost!\n"
     ]
    }
   ],
   "source": [
    "# Играют два игрока.  Есть 10 палочек. Игроки по очереди берут от одной до трёх палочек. \n",
    "# Играют до тех пор пока не закончатся палочки. Тот кто взял последним - тот проиграл.\n",
    "\n",
    "# Реализуйте игру таким образом, чтобы могли играть два человека. Изначально есть 10 палочек. \n",
    "# На каждом ходу выводите на консоль текущее количество оставшихся палочек и просите ввести количество палочек, \n",
    "# которое хочет взять игрок (который делает ход). Не забывайте менять очерёдность игроков и сокращать кол-во палочек. \n",
    "# В конце надо вывести кто победил - первый или второй игрок.\n",
    "\n",
    "number_of_sticks = 10\n",
    "player_turn = 1\n",
    "\n",
    "while number_of_sticks >  0:\n",
    "    print(f'How many sticks you take? Remaining {number_of_sticks}')\n",
    "    taken = int(input())\n",
    "    \n",
    "    if taken < 1 or taken > 3:\n",
    "        print(f'You tried to take {taken}. Allowed to take 1, 2 or 3 sticks.')\n",
    "        continue\n",
    "    number_of_sticks -= taken\n",
    "    print(f'Sticks taken: {taken} \\n')\n",
    "    \n",
    "    if number_of_sticks <= 0:\n",
    "        print(f'No more sticks in the game. \\n Player {player_turn} has lost!')\n",
    "    \n",
    "    player_turn = 1 if player_turn == 2 else 2"
   ]
  },
  {
   "cell_type": "code",
   "execution_count": 6,
   "metadata": {},
   "outputs": [],
   "source": [
    "# Можно отредактировать код, используя функции."
   ]
  },
  {
   "cell_type": "code",
   "execution_count": 5,
   "metadata": {},
   "outputs": [
    {
     "name": "stdout",
     "output_type": "stream",
     "text": [
      "How many sticks you take? Remaining 10\n"
     ]
    },
    {
     "name": "stdin",
     "output_type": "stream",
     "text": [
      " 3\n"
     ]
    },
    {
     "name": "stdout",
     "output_type": "stream",
     "text": [
      "Sticks taken: 3 \n",
      "\n",
      "How many sticks you take? Remaining 7\n"
     ]
    },
    {
     "name": "stdin",
     "output_type": "stream",
     "text": [
      " 3\n"
     ]
    },
    {
     "name": "stdout",
     "output_type": "stream",
     "text": [
      "Sticks taken: 3 \n",
      "\n",
      "How many sticks you take? Remaining 4\n"
     ]
    },
    {
     "name": "stdin",
     "output_type": "stream",
     "text": [
      " 3\n"
     ]
    },
    {
     "name": "stdout",
     "output_type": "stream",
     "text": [
      "Sticks taken: 3 \n",
      "\n",
      "How many sticks you take? Remaining 1\n"
     ]
    },
    {
     "name": "stdin",
     "output_type": "stream",
     "text": [
      " 3\n"
     ]
    },
    {
     "name": "stdout",
     "output_type": "stream",
     "text": [
      "Sticks taken: 3 \n",
      "\n",
      "No more sticks in the game. \n",
      " Player 2 has lost!\n"
     ]
    }
   ],
   "source": [
    "number_of_sticks = 10\n",
    "player_turn = 1\n",
    "\n",
    "def can_take(sticks):\n",
    "    return sticks >= 1 and sticks <= 3\n",
    "\n",
    "def switch_player_tern(turn):\n",
    "    return 1 if player_turn == 2 else 2\n",
    "\n",
    "def end_of_game(sticks):\n",
    "    return number_of_sticks <= 0\n",
    "\n",
    "while (not end_of_game(number_of_sticks)):\n",
    "    print(f'How many sticks you take? Remaining {number_of_sticks}')\n",
    "    taken = int(input())\n",
    "    \n",
    "    if not can_take(taken):\n",
    "        print(f'You tried to take {taken}. Allowed to take 1, 2 or 3 sticks.')\n",
    "        continue\n",
    "    \n",
    "    number_of_sticks -= taken\n",
    "    print(f'Sticks taken: {taken} \\n')\n",
    "    \n",
    "    if end_of_game(number_of_sticks):\n",
    "        print(f'No more sticks in the game. \\n Player {player_turn} has lost!')\n",
    "        break\n",
    "    \n",
    "    player_turn = switch_player_tern(player_turn)"
   ]
  }
 ],
 "metadata": {
  "kernelspec": {
   "display_name": "Python 3",
   "language": "python",
   "name": "python3"
  },
  "language_info": {
   "codemirror_mode": {
    "name": "ipython",
    "version": 3
   },
   "file_extension": ".py",
   "mimetype": "text/x-python",
   "name": "python",
   "nbconvert_exporter": "python",
   "pygments_lexer": "ipython3",
   "version": "3.6.9"
  }
 },
 "nbformat": 4,
 "nbformat_minor": 4
}
