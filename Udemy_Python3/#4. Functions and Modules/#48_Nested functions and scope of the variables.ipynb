{
 "cells": [
  {
   "cell_type": "raw",
   "metadata": {},
   "source": [
    "Cуществует 4 контекста, в которых существуют переменные:\n",
    "    - local scope\n",
    "    - enclosing scope\n",
    "    - global scope\n",
    "    - built in"
   ]
  },
  {
   "cell_type": "code",
   "execution_count": 4,
   "metadata": {},
   "outputs": [],
   "source": [
    "greeting = 'Hello from the global scope'\n",
    "\n",
    "def greet():\n",
    "    greeting = 'Hello from enclosing scope'\n",
    "    \n",
    "    def nested():\n",
    "        greeting = 'Hello from local scope'\n",
    "        print(greeting)\n",
    "    nested()"
   ]
  },
  {
   "cell_type": "code",
   "execution_count": 3,
   "metadata": {},
   "outputs": [
    {
     "name": "stdout",
     "output_type": "stream",
     "text": [
      "Hello from local scope\n",
      "Hello from the global scope\n"
     ]
    }
   ],
   "source": [
    "greet()\n",
    "print(greeting)\n",
    "# В этом случае глобальное значение переменной будет неизменным!"
   ]
  },
  {
   "cell_type": "code",
   "execution_count": 5,
   "metadata": {},
   "outputs": [],
   "source": [
    "# Еще один пример.\n",
    "greeting = 'Hello from the global scope'\n",
    "\n",
    "def greet(greeting):\n",
    "    print(f'Greet in func {greeting}')\n",
    "    \n",
    "    greeting = 'Hello from enclosing scope'\n",
    "    \n",
    "    print(f'Greet in func {greeting}')\n",
    "    \n",
    "    def nested():\n",
    "        greeting =' Hello frol local scope'\n",
    "        print(greeting)\n",
    "    nested()"
   ]
  },
  {
   "cell_type": "code",
   "execution_count": 6,
   "metadata": {},
   "outputs": [
    {
     "name": "stdout",
     "output_type": "stream",
     "text": [
      "Greet in func test\n",
      "Greet in func Hello from enclosing scope\n",
      " Hello frol local scope\n",
      "Hello from the global scope\n"
     ]
    }
   ],
   "source": [
    "greet('test')\n",
    "print(greeting)"
   ]
  },
  {
   "cell_type": "code",
   "execution_count": 10,
   "metadata": {},
   "outputs": [],
   "source": [
    "# Модифицируем код для возможности изменять глобальную переменную.\n",
    "# Стоит пренебрегать возможностью изменять глобалные переменные внутри функций.\n",
    "# Функция должна возвращать новое значение в новую переменную (исп-й return)\n",
    "greeting = 'Hello from the global scope'\n",
    "\n",
    "def greet():\n",
    "    global greeting\n",
    "    print(f'Greet in func {greeting}')\n",
    "    \n",
    "    greeting = 'Hello from enclosing scope'\n",
    "    \n",
    "    print(f'Greet in func {greeting}')\n",
    "    \n",
    "    def nested():\n",
    "        greeting =' Hello frol local scope'\n",
    "        print(greeting)\n",
    "    nested()"
   ]
  },
  {
   "cell_type": "code",
   "execution_count": 8,
   "metadata": {},
   "outputs": [
    {
     "name": "stdout",
     "output_type": "stream",
     "text": [
      "Greet in func Hello from the global scope\n",
      "Greet in func Hello from enclosing scope\n",
      " Hello frol local scope\n",
      "Hello from enclosing scope\n"
     ]
    }
   ],
   "source": [
    "greet()\n",
    "print(greeting)"
   ]
  }
 ],
 "metadata": {
  "kernelspec": {
   "display_name": "Python 3",
   "language": "python",
   "name": "python3"
  },
  "language_info": {
   "codemirror_mode": {
    "name": "ipython",
    "version": 3
   },
   "file_extension": ".py",
   "mimetype": "text/x-python",
   "name": "python",
   "nbconvert_exporter": "python",
   "pygments_lexer": "ipython3",
   "version": "3.6.9"
  }
 },
 "nbformat": 4,
 "nbformat_minor": 4
}
