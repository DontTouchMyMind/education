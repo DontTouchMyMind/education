{
 "cells": [
  {
   "cell_type": "code",
   "execution_count": 1,
   "metadata": {},
   "outputs": [],
   "source": [
    "lst = [1, 2, 3]"
   ]
  },
  {
   "cell_type": "code",
   "execution_count": 2,
   "metadata": {},
   "outputs": [
    {
     "data": {
      "text/plain": [
       "'[1, 2, 3]'"
      ]
     },
     "execution_count": 2,
     "metadata": {},
     "output_type": "execute_result"
    }
   ],
   "source": [
    "repr(lst) # Вызывает reproducible string."
   ]
  },
  {
   "cell_type": "code",
   "execution_count": 3,
   "metadata": {},
   "outputs": [
    {
     "name": "stdout",
     "output_type": "stream",
     "text": [
      "[1, 2, 3]\n"
     ]
    }
   ],
   "source": [
    "print(lst) # print вызывает метод str, что бы получить строку, которую необходимо вывести."
   ]
  },
  {
   "cell_type": "code",
   "execution_count": 4,
   "metadata": {},
   "outputs": [
    {
     "data": {
      "text/plain": [
       "True"
      ]
     },
     "execution_count": 4,
     "metadata": {},
     "output_type": "execute_result"
    }
   ],
   "source": [
    "eval(repr(lst)) == lst # eval - выполнияет код в \"строке\""
   ]
  },
  {
   "cell_type": "code",
   "execution_count": 5,
   "metadata": {},
   "outputs": [],
   "source": [
    "# Если у объекта нет метода __str__, но он будет вызван внешним кодом,\n",
    "# то он переадресуется в __repr__.\n",
    "# Но в обратную сторону работать не будет и будет вызвана реализация __repr__ по умолчанию.\n",
    "# А по умолчанию, будет выведен тип и место в памяти объекта."
   ]
  },
  {
   "cell_type": "code",
   "execution_count": 6,
   "metadata": {},
   "outputs": [],
   "source": [
    "from datetime import datetime\n",
    "\n",
    "dt = datetime.now()"
   ]
  },
  {
   "cell_type": "code",
   "execution_count": 7,
   "metadata": {},
   "outputs": [
    {
     "data": {
      "text/plain": [
       "'datetime.datetime(2020, 8, 21, 9, 54, 1, 628822)'"
      ]
     },
     "execution_count": 7,
     "metadata": {},
     "output_type": "execute_result"
    }
   ],
   "source": [
    "repr(dt)"
   ]
  },
  {
   "cell_type": "code",
   "execution_count": 8,
   "metadata": {},
   "outputs": [
    {
     "name": "stdout",
     "output_type": "stream",
     "text": [
      "2020-08-21 09:54:01.628822\n"
     ]
    }
   ],
   "source": [
    "print(dt) # print - вызывает метод __str__."
   ]
  },
  {
   "cell_type": "code",
   "execution_count": 9,
   "metadata": {},
   "outputs": [],
   "source": [
    "class Character:\n",
    "    \n",
    "    def __init__(self, race, damage=100):\n",
    "        self.race = race\n",
    "        self.damage = damage\n",
    "        \n",
    "    # Попробуем определить метод __repr__ для передачи в eval.\n",
    "    def __repr__(self):\n",
    "        return f\"Character('{self.race}', '{self.damage}')\"\n",
    "    \n",
    "    def __str__(self):\n",
    "        return f'{self.race} with damage = {self.damage}'"
   ]
  },
  {
   "cell_type": "code",
   "execution_count": 10,
   "metadata": {},
   "outputs": [
    {
     "data": {
      "text/plain": [
       "Character('Elf', '100')"
      ]
     },
     "execution_count": 10,
     "metadata": {},
     "output_type": "execute_result"
    }
   ],
   "source": [
    "c = Character('Elf')\n",
    "c"
   ]
  },
  {
   "cell_type": "code",
   "execution_count": 11,
   "metadata": {},
   "outputs": [
    {
     "name": "stdout",
     "output_type": "stream",
     "text": [
      "Elf with damage = 100\n"
     ]
    }
   ],
   "source": [
    "print(c)"
   ]
  },
  {
   "cell_type": "code",
   "execution_count": 12,
   "metadata": {},
   "outputs": [
    {
     "data": {
      "text/plain": [
       "__main__.Character"
      ]
     },
     "execution_count": 12,
     "metadata": {},
     "output_type": "execute_result"
    }
   ],
   "source": [
    "d = eval(repr(c))\n",
    "type(d)"
   ]
  },
  {
   "cell_type": "code",
   "execution_count": 13,
   "metadata": {},
   "outputs": [
    {
     "name": "stdout",
     "output_type": "stream",
     "text": [
      "Elf with damage = 100\n"
     ]
    }
   ],
   "source": [
    "print(d)"
   ]
  },
  {
   "cell_type": "code",
   "execution_count": 14,
   "metadata": {},
   "outputs": [
    {
     "data": {
      "text/plain": [
       "False"
      ]
     },
     "execution_count": 14,
     "metadata": {},
     "output_type": "execute_result"
    }
   ],
   "source": [
    "c == d # Это две разные инстанции, с разными ссылками, значит они не равны."
   ]
  },
  {
   "cell_type": "code",
   "execution_count": 15,
   "metadata": {},
   "outputs": [],
   "source": [
    "# По умолчанию, когда мы используем \" == \", то вызывается метод __eq__.\n",
    "# И если этот метод в классе не определен, то будут сравниваться только ссылки.\n",
    "\n",
    "class Character():\n",
    "    \n",
    "    def __init__(self, race, damage=100):\n",
    "        self.race = race\n",
    "        self.damage = damage\n",
    "        \n",
    "\n",
    "    def __repr__(self):\n",
    "        return f\"Character('{self.race}', {self.damage})\"\n",
    "    \n",
    "    def __str__(self):\n",
    "        return f'{self.race} with damage = {self.damage}'\n",
    "    \n",
    "    # Что бы при \" == \" сравнивались не ссылки, а значения (внутренние данные) определим dunder-метод __eq__.\n",
    "    def __eq__(self, other): # other - другой объект (с каким будем сравнивать).\n",
    "        if isinstance(other, Character): # Проверим - тип other должен быть типом Character.\n",
    "            return self.race == other.race and self.damage == other.damage\n",
    "        return False"
   ]
  },
  {
   "cell_type": "code",
   "execution_count": 16,
   "metadata": {},
   "outputs": [],
   "source": [
    "c = Character('Elf')\n",
    "d = eval(repr(c))"
   ]
  },
  {
   "cell_type": "code",
   "execution_count": 17,
   "metadata": {},
   "outputs": [
    {
     "name": "stdout",
     "output_type": "stream",
     "text": [
      "Elf with damage = 100\n",
      "Elf with damage = 100\n"
     ]
    }
   ],
   "source": [
    "print(c)\n",
    "print(d)\n"
   ]
  },
  {
   "cell_type": "code",
   "execution_count": 18,
   "metadata": {},
   "outputs": [
    {
     "data": {
      "text/plain": [
       "True"
      ]
     },
     "execution_count": 18,
     "metadata": {},
     "output_type": "execute_result"
    }
   ],
   "source": [
    "c == d"
   ]
  },
  {
   "cell_type": "code",
   "execution_count": 19,
   "metadata": {},
   "outputs": [],
   "source": [
    "# Разница в Python2 и Python3 в том, что если мы во 2 определили __eq__, ты мы были бы обязаны определить и метод __ne__.\n",
    "# Метод __eq__ определяет поведение оператора \" == \",\n",
    "# а метод __ne__ - оператора \" != \".\n",
    "# В Python3, в ситуации, когда метод __eq__ определен, а __ne__ - нет,\n",
    "# то при вызове \" != \" отработает инверсия результата метода __eq__."
   ]
  }
 ],
 "metadata": {
  "kernelspec": {
   "display_name": "Python 3",
   "language": "python",
   "name": "python3"
  },
  "language_info": {
   "codemirror_mode": {
    "name": "ipython",
    "version": 3
   },
   "file_extension": ".py",
   "mimetype": "text/x-python",
   "name": "python",
   "nbconvert_exporter": "python",
   "pygments_lexer": "ipython3",
   "version": "3.6.9"
  }
 },
 "nbformat": 4,
 "nbformat_minor": 4
}
