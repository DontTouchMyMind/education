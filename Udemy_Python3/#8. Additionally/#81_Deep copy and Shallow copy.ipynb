{
 "cells": [
  {
   "cell_type": "code",
   "execution_count": 1,
   "metadata": {},
   "outputs": [
    {
     "name": "stdout",
     "output_type": "stream",
     "text": [
      "[1, 2, 3, [4, 5, 6, 7]]\n",
      "[1, 2, 3, [4, 5, 6, 7]]\n"
     ]
    }
   ],
   "source": [
    "list1 = [1, 2, 3, [4, 5, 6]]\n",
    "\n",
    "copied_list = list1.copy()\n",
    "copied_list[3].append(7)\n",
    "\n",
    "print(list1)\n",
    "print(copied_list)"
   ]
  },
  {
   "cell_type": "code",
   "execution_count": 2,
   "metadata": {},
   "outputs": [],
   "source": [
    "list1.append(8)"
   ]
  },
  {
   "cell_type": "code",
   "execution_count": 3,
   "metadata": {},
   "outputs": [
    {
     "name": "stdout",
     "output_type": "stream",
     "text": [
      "[1, 2, 3, [4, 5, 6, 7], 8]\n",
      "[1, 2, 3, [4, 5, 6, 7]]\n"
     ]
    }
   ],
   "source": [
    "print(list1)\n",
    "print(copied_list)"
   ]
  },
  {
   "cell_type": "code",
   "execution_count": 4,
   "metadata": {},
   "outputs": [],
   "source": [
    "# Проблема поверхностного копирования затрагивает только составные объекты."
   ]
  },
  {
   "cell_type": "code",
   "execution_count": 5,
   "metadata": {},
   "outputs": [],
   "source": [
    "import copy"
   ]
  },
  {
   "cell_type": "code",
   "execution_count": 6,
   "metadata": {},
   "outputs": [],
   "source": [
    "shallow_copy = copy.copy(list1) # Тоже самое copied_list = list1.copy()\n",
    "shallow_copy[3].append(8)"
   ]
  },
  {
   "cell_type": "code",
   "execution_count": 7,
   "metadata": {},
   "outputs": [
    {
     "name": "stdout",
     "output_type": "stream",
     "text": [
      "[1, 2, 3, [4, 5, 6, 7, 8], 8]\n",
      "[1, 2, 3, [4, 5, 6, 7, 8], 8]\n"
     ]
    }
   ],
   "source": [
    "print(list1)\n",
    "print(shallow_copy)"
   ]
  },
  {
   "cell_type": "code",
   "execution_count": 8,
   "metadata": {},
   "outputs": [
    {
     "name": "stdout",
     "output_type": "stream",
     "text": [
      "[1, 2, 3, [4, 5, 6, 7, 8], 8]\n",
      "[1, 2, 3, [4, 5, 6, 7, 8, 9], 8]\n"
     ]
    }
   ],
   "source": [
    "deep_copy = copy.deepcopy(list1) # deepcopy рекурсивно копирует внутреннее состояние объекта\n",
    "deep_copy[3].append(9)\n",
    "\n",
    "print(list1)\n",
    "print(deep_copy)"
   ]
  },
  {
   "cell_type": "code",
   "execution_count": 12,
   "metadata": {},
   "outputs": [],
   "source": [
    "# Объекты могу сами определять поведение для поверхностного и глубокого копирования,\n",
    "# посредством определения dunder-методов __copy__ и __deepcoopy__.\n",
    "\n",
    "class Point():\n",
    "    \n",
    "    def __init__(self, x, y):\n",
    "        self.x = x\n",
    "        self.y = y\n",
    "        \n",
    "    def __repr__(self):\n",
    "        return f'Point({self.x}, {self.y})'"
   ]
  },
  {
   "cell_type": "code",
   "execution_count": 13,
   "metadata": {},
   "outputs": [
    {
     "name": "stdout",
     "output_type": "stream",
     "text": [
      "Point(3, 2)\n",
      "Point(1, 2)\n"
     ]
    }
   ],
   "source": [
    "# Т.к. в этом примере мы работаем с данными типа int, кот. явл-ся неизменяемыми,\n",
    "# то мы не имеем проблем с поверхностным копированием.\n",
    "a = Point(1, 2)\n",
    "b = copy.copy(a)\n",
    "\n",
    "a.x = 3\n",
    "print(a)\n",
    "print(b)"
   ]
  },
  {
   "cell_type": "code",
   "execution_count": 16,
   "metadata": {},
   "outputs": [],
   "source": [
    "class Line():\n",
    "    \n",
    "    def __init__(self, p1, p2):\n",
    "        self.p1 = p1\n",
    "        self.p2 = p2"
   ]
  },
  {
   "cell_type": "code",
   "execution_count": 17,
   "metadata": {},
   "outputs": [
    {
     "name": "stdout",
     "output_type": "stream",
     "text": [
      "Point(3, 2)\n",
      "Point(3, 2)\n"
     ]
    }
   ],
   "source": [
    "l1 = Line(a, b)\n",
    "l2 = copy.copy(l1)\n",
    "\n",
    "print(l1.p1)\n",
    "print(l2.p1)"
   ]
  },
  {
   "cell_type": "code",
   "execution_count": 18,
   "metadata": {},
   "outputs": [
    {
     "name": "stdout",
     "output_type": "stream",
     "text": [
      "Point(4, 2)\n",
      "Point(4, 2)\n"
     ]
    }
   ],
   "source": [
    "l1.p1.x = 4 # Мы модифицируем один экземпляр, но меняется и второй.\n",
    "\n",
    "print(l1.p1)\n",
    "print(l2.p1)"
   ]
  },
  {
   "cell_type": "code",
   "execution_count": 19,
   "metadata": {},
   "outputs": [
    {
     "name": "stdout",
     "output_type": "stream",
     "text": [
      "Point(4, 2)\n",
      "Point(4, 2)\n",
      "Point(6, 2)\n",
      "Point(4, 2)\n"
     ]
    }
   ],
   "source": [
    "l1 = Line(a, b)\n",
    "l2 = copy.deepcopy(l1)\n",
    "\n",
    "print(l1.p1)\n",
    "print(l2.p1)\n",
    "\n",
    "l1.p1.x = 6\n",
    "\n",
    "print(l1.p1)\n",
    "print(l2.p1)"
   ]
  },
  {
   "cell_type": "code",
   "execution_count": 26,
   "metadata": {},
   "outputs": [],
   "source": [
    "# Мы можем управлять поведением .copy и .deepcopy.\n",
    "class Line():\n",
    "    \n",
    "    def __init__(self, p1, p2):\n",
    "        self.p1 = p1\n",
    "        self.p2 = p2\n",
    "        \n",
    "    def __copy__(self):\n",
    "    # После определения метода мы должны воспроизвести поверхностное копирование.\n",
    "        сls =self.__class__\n",
    "        result = cls.__new__(cls)\n",
    "        result.__dict__.update(self.__dict__)\n",
    "        return result\n",
    "    \n",
    "    def __deepcopy__(self, memo):\n",
    "        cls = self.__class__\n",
    "        result = cls.__new__(cls)\n",
    "        memo[id(self)] = result\n",
    "        \n",
    "        for k, v in self.__dict__.items():\n",
    "            setattr(result, k, copy.deepcopy(v, memo))\n",
    "            \n",
    "        return result"
   ]
  }
 ],
 "metadata": {
  "kernelspec": {
   "display_name": "Python 3",
   "language": "python",
   "name": "python3"
  },
  "language_info": {
   "codemirror_mode": {
    "name": "ipython",
    "version": 3
   },
   "file_extension": ".py",
   "mimetype": "text/x-python",
   "name": "python",
   "nbconvert_exporter": "python",
   "pygments_lexer": "ipython3",
   "version": "3.6.9"
  }
 },
 "nbformat": 4,
 "nbformat_minor": 4
}
