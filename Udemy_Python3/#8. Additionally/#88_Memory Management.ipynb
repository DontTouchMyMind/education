{
 "cells": [
  {
   "cell_type": "raw",
   "metadata": {},
   "source": [
    "Оперативная память разделяется на стек и кучу(Stack and Heap).\n",
    "Стек удобен для работы с локальными переменными, с переменными которые входят в область видимости и выходят.\n",
    "И работает по принципу last in - first out."
   ]
  },
  {
   "cell_type": "raw",
   "metadata": {},
   "source": [
    "Кодга в Python мы объявляем переменные (это имена), мы связываем их с объектами в куче.\n",
    "Сами объекты лежат в куче а имена в стеке. Т.е. переменная - это ссылка (имя), указывающее на объект в куче.\n",
    "Объекты в куче лежат хаотично. Имена являются метками объектов. И один объект может быть помечен множеством меток."
   ]
  },
  {
   "cell_type": "code",
   "execution_count": 1,
   "metadata": {},
   "outputs": [
    {
     "name": "stdout",
     "output_type": "stream",
     "text": [
      "10917664\n",
      "10917664\n"
     ]
    }
   ],
   "source": [
    "# Reference count.\n",
    "x = 100 # Reference count = 1\n",
    "y = 100 # Reference count = 2\n",
    "print(id(x))\n",
    "print(id(y))"
   ]
  },
  {
   "cell_type": "code",
   "execution_count": 3,
   "metadata": {},
   "outputs": [],
   "source": [
    "z = [100, 100] # Reference count = 4"
   ]
  },
  {
   "cell_type": "code",
   "execution_count": 4,
   "metadata": {},
   "outputs": [],
   "source": [
    "del z # Удаляем ссылку и Reference count = 2"
   ]
  },
  {
   "cell_type": "code",
   "execution_count": 5,
   "metadata": {},
   "outputs": [],
   "source": [
    "y = 7\n",
    "x = 2\n",
    "# На объект 100 удалили ссылки и это значение удалит \"сборщик мусора\" garbage collector."
   ]
  },
  {
   "cell_type": "raw",
   "metadata": {},
   "source": [
    "Есть две стратегии сборки мусора:\n",
    "    - reference counting;\n",
    "    - tracing.\n",
    "    \n",
    "При reference counting подсчет ссылок не работает на циклических ссылках (a = b; b = a # Reference count = 1 ВСЕГДА).\n",
    "В таких случаях нам и нужен tracing. Он строит граф объектов и отслеживает их поколения.\n",
    "Это работает следующим образом...\n",
    "    Иногда происходит запуск GC, который маркирует объекты (отмечает какие достижимы, а какие нет) и удалает \"осиротевшие\".\n",
    "    Для наиболее эффективной работы GC отслеживает длительность жизни объектов и группирует их по трем поколениям: 0(новые), 1,2(старые).\n",
    "    Когда достигается некий порог потребления памяти в поколении, на нем запускается GC и на тех, которые младше.\n",
    "    Если объект пережил сборку мусора - он переходит в старшее поколение."
   ]
  }
 ],
 "metadata": {
  "kernelspec": {
   "display_name": "Python 3",
   "language": "python",
   "name": "python3"
  },
  "language_info": {
   "codemirror_mode": {
    "name": "ipython",
    "version": 3
   },
   "file_extension": ".py",
   "mimetype": "text/x-python",
   "name": "python",
   "nbconvert_exporter": "python",
   "pygments_lexer": "ipython3",
   "version": "3.6.9"
  }
 },
 "nbformat": 4,
 "nbformat_minor": 4
}
