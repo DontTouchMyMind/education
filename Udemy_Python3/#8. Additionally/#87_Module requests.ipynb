{
 "cells": [
  {
   "cell_type": "code",
   "execution_count": 1,
   "metadata": {},
   "outputs": [],
   "source": [
    "import requests"
   ]
  },
  {
   "cell_type": "code",
   "execution_count": 2,
   "metadata": {},
   "outputs": [],
   "source": [
    "response = requests.get('https://engineerspock.com/')"
   ]
  },
  {
   "cell_type": "code",
   "execution_count": 3,
   "metadata": {},
   "outputs": [
    {
     "data": {
      "text/plain": [
       "<Response [200]>"
      ]
     },
     "execution_count": 3,
     "metadata": {},
     "output_type": "execute_result"
    }
   ],
   "source": [
    "response"
   ]
  },
  {
   "cell_type": "code",
   "execution_count": 4,
   "metadata": {},
   "outputs": [
    {
     "data": {
      "text/plain": [
       "requests.models.Response"
      ]
     },
     "execution_count": 4,
     "metadata": {},
     "output_type": "execute_result"
    }
   ],
   "source": [
    "type(response) # Это специальный тип данных Response, который можно опрашивать."
   ]
  },
  {
   "cell_type": "code",
   "execution_count": 5,
   "metadata": {},
   "outputs": [
    {
     "data": {
      "text/plain": [
       "<module 'requests.status_codes' from '/usr/lib/python3/dist-packages/requests/status_codes.py'>"
      ]
     },
     "execution_count": 5,
     "metadata": {},
     "output_type": "execute_result"
    }
   ],
   "source": [
    "requests.status_codes"
   ]
  },
  {
   "cell_type": "code",
   "execution_count": 6,
   "metadata": {},
   "outputs": [
    {
     "data": {
      "text/plain": [
       "200"
      ]
     },
     "execution_count": 6,
     "metadata": {},
     "output_type": "execute_result"
    }
   ],
   "source": [
    "response.status_code"
   ]
  },
  {
   "cell_type": "code",
   "execution_count": 7,
   "metadata": {},
   "outputs": [
    {
     "name": "stdout",
     "output_type": "stream",
     "text": [
      "Works!\n"
     ]
    }
   ],
   "source": [
    "if response:\n",
    "    print('Works!')"
   ]
  },
  {
   "cell_type": "code",
   "execution_count": 8,
   "metadata": {},
   "outputs": [
    {
     "name": "stdout",
     "output_type": "stream",
     "text": [
      "Connected Successfully!\n",
      "Error:404 Client Error: Not Found for url: https://www.engineerspock.com/inexistent\n"
     ]
    }
   ],
   "source": [
    "from requests import HTTPError\n",
    "\n",
    "for url in ['https://engineerspock.com/', 'https://engineerspock.com/inexistent']:\n",
    "    try:\n",
    "        response = requests.get(url)\n",
    "        \n",
    "        response.raise_for_status()\n",
    "    except HTTPError as http_err:\n",
    "        print(f'Error:{http_err}')\n",
    "    except Exception as err:\n",
    "        print(f'Unknown error: {err}')\n",
    "    else:\n",
    "        print('Connected Successfully!')"
   ]
  },
  {
   "cell_type": "code",
   "execution_count": 11,
   "metadata": {},
   "outputs": [
    {
     "data": {
      "text/plain": [
       "b'<!DOCTYPE html>\\n<html class=\"avada-html-layout-wide avada-html-header-position-top avada-is-100-percent-template\" lang=\"en-US\" prefix=\"og: http://ogp.me/ns# fb: http://ogp.me/ns/fb#\">\\n<head>\\n\\t<meta http-equiv=\"X-UA-Compatible\" content=\"IE=edge\" />\\n\\t<meta http-equiv=\"Content-Type\" content=\"text/html; charset=utf-8\"/>\\n\\t<meta name=\"viewport\" content=\"width=device-width, initial-scale=1\" />\\n\\t<title>EngineerSpock &#8211; EngineerSpock</title>\\n\\n<!-- Google Tag Manager for WordPress by gtm4wp.com -->\\n<script data-cfasync=\"false\" data-pagespeed-no-defer>//<![CDATA[\\n\\tvar gtm4wp_datalayer_name = \"dataLayer\";\\n\\tvar dataLayer = dataLayer || [];\\n//]]>\\n</script>\\n<!-- End Google Tag Manager for WordPress by gtm4wp.com --><link rel=\\'dns-prefetch\\' href=\\'//s.w.org\\' />\\n<link href=\\'https://cdn.shortpixel.ai\\' rel=\\'preconnect\\' />\\n<link rel=\"alternate\" type=\"application/rss+xml\" title=\"EngineerSpock &raquo; Feed\" href=\"https://www.engineerspock.com/feed/\" />\\n<link rel=\"alternate\" type=\"application/rss+xml\" title=\"EngineerSpock &raquo; Comments Feed\" href=\"https://www.engineerspock.com/comments/feed/\" />\\n\\t\\t\\n\\t\\t\\n\\t\\t\\n\\t\\t\\n\\t\\t\\t\\t\\n\\t\\t<meta property=\"og:title\" content=\"Home\"/>\\n\\t\\t<meta property=\"og:type\" content=\"article\"/>\\n\\t\\t<meta property=\"og:url\" content=\"https://www.engineerspock.com/\"/>\\n\\t\\t<meta property=\"og:site_name\" content=\"EngineerSpock\"/>\\n\\t\\t<meta property=\"og:description\" content=\"Welcome to .NET Training\\r\\n\\r\\n \\r\\n\\r\\nChance favors the prepared mind.\\r\\n\\r\\n  Video Courses      \\r\\nWho is EngineerSpock  \\r\\nI&#039;m thankful enough for that I love what I do.\\r\\nI began my career as\"/>\\n\\n\\t\\t\\t\\t\\t\\t\\t\\t\\t<meta property=\"og:image\" content=\"http://www.engineerspock.com/wp-content/uploads/2017/10/forblog-nobackground-logo.png\"/>\\n\\t\\t\\t\\t\\t\\t\\t<!-- This site uses the Google Analytics by ExactMetrics plugin v6.1.0 - Using Analytics tracking - https://www.exactmetrics.com/ -->\\n<script type=\"text/javascript\" data-cfasync=\"false\">\\n\\tvar em_version         = \\'6.1.0\\';\\n\\tvar em_track_user      = true;\\n\\tvar em_no_track_reason = \\'\\';\\n\\t\\n\\tvar disableStr = \\'ga-disable-UA-68204544-1\\';\\n\\n\\t/* Function to detect opted out users */\\n\\tfunction __gaTrackerIsOptedOut() {\\n\\t\\treturn document.cookie.indexOf(disableStr + \\'=true\\') > -1;\\n\\t}\\n\\n\\t/* Disable tracking if the opt-out cookie exists. */\\n\\tif ( __gaTrackerIsOptedOut() ) {\\n\\t\\twindow[disableStr] = true;\\n\\t}\\n\\n\\t/* Opt-out function */\\n\\tfunction __gaTrackerOptout() {\\n\\t  document.cookie = disableStr + \\'=true; expires=Thu, 31 Dec 2099 23:59:59 UTC; path=/\\';\\n\\t  window[disableStr] = true;\\n\\t}\\n\\n\\tif ( \\'undefined\\' === typeof gaOptout ) {\\n\\t\\tfunction gaOptout() {\\n\\t\\t\\t__gaTrackerOptout();\\n\\t\\t}\\n\\t}\\n\\t\\n\\tif ( em_track_user ) {\\n\\t\\t(function(i,s,o,g,r,a,m){i[\\'GoogleAnalyticsObject\\']=r;i[r]=i[r]||function(){\\n\\t\\t\\t(i[r].q=i[r].q||[]).push(arguments)},i[r].l=1*new Date();a=s.createElement(o),\\n\\t\\t\\tm=s.getElementsByTagName(o)[0];a.async=1;a.src=g;m.parentNode.insertBefore(a,m)\\n\\t\\t})(window,document,\\'script\\',\\'//www.google-analytics.com/analytics.js\\',\\'__gaTracker\\');\\n\\nwindow.ga = __gaTracker;\\t\\t__gaTracker(\\'create\\', \\'UA-68204544-1\\', \\'auto\\');\\n\\t\\t__gaTracker(\\'set\\', \\'forceSSL\\', true);\\n\\t\\t__gaTracker(\\'require\\', \\'displayfeatures\\');\\n\\t\\t__gaTracker(\\'send\\',\\'pageview\\');\\n\\t\\t__gaTracker( function() { window.ga = __gaTracker; } );\\n\\t} else {\\n\\t\\tconsole.log( \"\" );\\n\\t\\t(function() {\\n\\t\\t\\t/* https://developers.google.com/analytics/devguides/collection/analyticsjs/ */\\n\\t\\t\\tvar noopfn = function() {\\n\\t\\t\\t\\treturn null;\\n\\t\\t\\t};\\n\\t\\t\\tvar noopnullfn = function() {\\n\\t\\t\\t\\treturn null;\\n\\t\\t\\t};\\n\\t\\t\\tvar Tracker = function() {\\n\\t\\t\\t\\treturn null;\\n\\t\\t\\t};\\n\\t\\t\\tvar p = Tracker.prototype;\\n\\t\\t\\tp.get = noopfn;\\n\\t\\t\\tp.set = noopfn;\\n\\t\\t\\tp.send = noopfn;\\n\\t\\t\\tvar __gaTracker = function() {\\n\\t\\t\\t\\tvar len = arguments.length;\\n\\t\\t\\t\\tif ( len === 0 ) {\\n\\t\\t\\t\\t\\treturn;\\n\\t\\t\\t\\t}\\n\\t\\t\\t\\tvar f = arguments[len-1];\\n\\t\\t\\t\\tif ( typeof f !== \\'object\\' || f === null || typeof f.hitCallback !== \\'function\\' ) {\\n\\t\\t\\t\\t\\tconsole.log( \\'Not running function __gaTracker(\\' + arguments[0] + \" ....) because you are not being tracked. \" + em_no_track_reason );\\n\\t\\t\\t\\t\\treturn;\\n\\t\\t\\t\\t}\\n\\t\\t\\t\\ttry {\\n\\t\\t\\t\\t\\tf.hitCallback();\\n\\t\\t\\t\\t} catch (ex) {\\n\\n\\t\\t\\t\\t}\\n\\t\\t\\t};\\n\\t\\t\\t__gaTracker.create = function() {\\n\\t\\t\\t\\treturn new Tracker();\\n\\t\\t\\t};\\n\\t\\t\\t__gaTracker.getByName = noopnullfn;\\n\\t\\t\\t__gaTracker.getAll = function() {\\n\\t\\t\\t\\treturn [];\\n\\t\\t\\t};\\n\\t\\t\\t__gaTracker.remove = noopfn;\\n\\t\\t\\twindow[\\'__gaTracker\\'] = __gaTracker;\\n\\t\\t\\twindow.ga = __gaTracker;\\t\\t})();\\n\\t\\t}\\n</script>\\n<!-- / Google Analytics by ExactMetrics -->\\n\\t\\t<script type=\"text/javascript\">\\n\\t\\t\\twindow._wpemojiSettings = {\"baseUrl\":\"https:\\\\/\\\\/s.w.org\\\\/images\\\\/core\\\\/emoji\\\\/12.0.0-1\\\\/72x72\\\\/\",\"ext\":\".png\",\"svgUrl\":\"https:\\\\/\\\\/s.w.org\\\\/images\\\\/core\\\\/emoji\\\\/12.0.0-1\\\\/svg\\\\/\",\"svgExt\":\".svg\",\"source\":{\"concatemoji\":\"https:\\\\/\\\\/www.engineerspock.com\\\\/wp-includes\\\\/js\\\\/wp-emoji-release.min.js?ver=5.4.2\"}};\\n\\t\\t\\t/*! This file is auto-generated */\\n\\t\\t\\t!function(e,a,t){var r,n,o,i,p=a.createElement(\"canvas\"),s=p.getContext&&p.getContext(\"2d\");function c(e,t){var a=String.fromCharCode;s.clearRect(0,0,p.width,p.height),s.fillText(a.apply(this,e),0,0);var r=p.toDataURL();return s.clearRect(0,0,p.width,p.height),s.fillText(a.apply(this,t),0,0),r===p.toDataURL()}function l(e){if(!s||!s.fillText)return!1;switch(s.textBaseline=\"top\",s.font=\"600 32px Arial\",e){case\"flag\":return!c([127987,65039,8205,9895,65039],[127987,65039,8203,9895,65039])&&(!c([55356,56826,55356,56819],[55356,56826,8203,55356,56819])&&!c([55356,57332,56128,56423,56128,56418,56128,56421,56128,56430,56128,56423,56128,56447],[55356,57332,8203,56128,56423,8203,56128,56418,8203,56128,56421,8203,56128,56430,8203,56128,56423,8203,56128,56447]));case\"emoji\":return!c([55357,56424,55356,57342,8205,55358,56605,8205,55357,56424,55356,57340],[55357,56424,55356,57342,8203,55358,56605,8203,55357,56424,55356,57340])}return!1}function d(e){var t=a.createElement(\"script\");t.src=e,t.defer=t.type=\"text/javascript\",a.getElementsByTagName(\"head\")[0].appendChild(t)}for(i=Array(\"flag\",\"emoji\"),t.supports={everything:!0,everythingExceptFlag:!0},o=0;o<i.length;o++)t.supports[i[o]]=l(i[o]),t.supports.everything=t.supports.everything&&t.supports[i[o]],\"flag\"!==i[o]&&(t.supports.everythingExceptFlag=t.supports.everythingExceptFlag&&t.supports[i[o]]);t.supports.everythingExceptFlag=t.supports.everythingExceptFlag&&!t.supports.flag,t.DOMReady=!1,t.readyCallback=function(){t.DOMReady=!0},t.supports.everything||(n=function(){t.readyCallback()},a.addEventListener?(a.addEventListener(\"DOMContentLoaded\",n,!1),e.addEventListener(\"load\",n,!1)):(e.attachEvent(\"onload\",n),a.attachEvent(\"onreadystatechange\",function(){\"complete\"===a.readyState&&t.readyCallback()})),(r=t.source||{}).concatemoji?d(r.concatemoji):r.wpemoji&&r.twemoji&&(d(r.twemoji),d(r.wpemoji)))}(window,document,window._wpemojiSettings);\\n\\t\\t</script>\\n\\t\\t<style type=\"text/css\">\\nimg.wp-smiley,\\nimg.emoji {\\n\\tdisplay: inline !important;\\n\\tborder: none !important;\\n\\tbox-shadow: none !important;\\n\\theight: 1em !important;\\n\\twidth: 1em !important;\\n\\tmargin: 0 .07em !important;\\n\\tvertical-align: -0.1em !important;\\n\\tbackground: none !important;\\n\\tpadding: 0 !important;\\n}\\n</style>\\n\\t<link rel=\\'stylesheet\\' id=\\'aps-animate-css-css\\'  href=\\'https://www.engineerspock.com/wp-content/plugins/accesspress-social-icons/css/animate.css?ver=1.7.8\\' type=\\'text/css\\' media=\\'all\\' />\\n<link rel=\\'stylesheet\\' id=\\'aps-frontend-css-css\\'  href=\\'https://www.engineerspock.com/wp-content/plugins/accesspress-social-icons/css/frontend.css?ver=1.7.8\\' type=\\'text/css\\' media=\\'all\\' />\\n<link rel=\\'stylesheet\\' id=\\'orgseries-default-css-css\\'  href=\\'https://www.engineerspock.com/wp-content/plugins/organize-series/orgSeries.css?ver=5.4.2\\' type=\\'text/css\\' media=\\'all\\' />\\n<link rel=\\'stylesheet\\' id=\\'mc4wp-form-themes-css\\'  href=\\'https://www.engineerspock.com/wp-content/plugins/mailchimp-for-wp/assets/css/form-themes.min.css?ver=4.8\\' type=\\'text/css\\' media=\\'all\\' />\\n<link rel=\\'stylesheet\\' id=\\'ufwp_styles-css\\'  href=\\'https://www.engineerspock.com/wp-content/plugins/wp-udemy/public/css/styles.min.css?ver=1.1.5\\' type=\\'text/css\\' media=\\'all\\' />\\n<link rel=\\'stylesheet\\' id=\\'ufwp_pro_styles-css\\'  href=\\'https://www.engineerspock.com/wp-content/plugins/wp-udemy-pro/public/css/styles.min.css?ver=1.0.11\\' type=\\'text/css\\' media=\\'all\\' />\\n<link rel=\\'stylesheet\\' id=\\'avada-stylesheet-css\\'  href=\\'https://www.engineerspock.com/wp-content/themes/Avada/assets/css/style.min.css?ver=6.2.3\\' type=\\'text/css\\' media=\\'all\\' />\\n<!--[if IE]>\\n<link rel=\\'stylesheet\\' id=\\'avada-IE-css\\'  href=\\'https://www.engineerspock.com/wp-content/themes/Avada/assets/css/ie.min.css?ver=6.2.3\\' type=\\'text/css\\' media=\\'all\\' />\\n<style id=\\'avada-IE-inline-css\\' type=\\'text/css\\'>\\n.avada-select-parent .select-arrow{background-color:#ffffff}\\n.select-arrow{background-color:#ffffff}\\n</style>\\n<![endif]-->\\n<link rel=\\'stylesheet\\' id=\\'fusion-dynamic-css-css\\'  href=\\'https://www.engineerspock.com/wp-content/uploads/fusion-styles/871d509483c4c85fbb04487a37a42b38.min.css?ver=2.2.3\\' type=\\'text/css\\' media=\\'all\\' />\\n<link rel=\\'stylesheet\\' id=\\'sccss_style-css\\'  href=\\'https://www.engineerspock.com/?sccss=1&#038;ver=5.4.2\\' type=\\'text/css\\' media=\\'all\\' />\\n<script type=\\'text/javascript\\'>\\n/* <![CDATA[ */\\nvar exactmetrics_frontend = {\"js_events_tracking\":\"true\",\"download_extensions\":\"zip,mp3,mpeg,pdf,docx,pptx,xlsx,rar\",\"inbound_paths\":\"[{\\\\\"path\\\\\":\\\\\"\\\\\\\\\\\\/go\\\\\\\\\\\\/\\\\\",\\\\\"label\\\\\":\\\\\"affiliate\\\\\"},{\\\\\"path\\\\\":\\\\\"\\\\\\\\\\\\/recommend\\\\\\\\\\\\/\\\\\",\\\\\"label\\\\\":\\\\\"affiliate\\\\\"}]\",\"home_url\":\"https:\\\\/\\\\/www.engineerspock.com\",\"hash_tracking\":\"false\"};\\n/* ]]> */\\n</script>\\n<script type=\\'text/javascript\\' src=\\'https://www.engineerspock.com/wp-content/plugins/google-analytics-dashboard-for-wp/assets/js/frontend.min.js?ver=6.1.0\\'></script>\\n<script type=\\'text/javascript\\' src=\\'https://www.engineerspock.com/wp-includes/js/jquery/jquery.js?ver=1.12.4-wp\\'></script>\\n<script type=\\'text/javascript\\' src=\\'https://www.engineerspock.com/wp-includes/js/jquery/jquery-migrate.min.js?ver=1.4.1\\'></script>\\n<script type=\\'text/javascript\\' src=\\'https://www.engineerspock.com/wp-content/plugins/accesspress-social-icons/js/frontend.js?ver=1.7.8\\'></script>\\n<script type=\\'text/javascript\\' src=\\'https://www.engineerspock.com/wp-content/plugins/duracelltomi-google-tag-manager/js/gtm4wp-form-move-tracker.js?ver=1.11.4\\'></script>\\n<link rel=\\'https://api.w.org/\\' href=\\'https://www.engineerspock.com/wp-json/\\' />\\n<link rel=\"EditURI\" type=\"application/rsd+xml\" title=\"RSD\" href=\"https://www.engineerspock.com/xmlrpc.php?rsd\" />\\n<link rel=\"wlwmanifest\" type=\"application/wlwmanifest+xml\" href=\"https://www.engineerspock.com/wp-includes/wlwmanifest.xml\" /> \\n<meta name=\"generator\" content=\"WordPress 5.4.2\" />\\n<link rel=\"canonical\" href=\"https://www.engineerspock.com/\" />\\n<link rel=\\'shortlink\\' href=\\'https://www.engineerspock.com/\\' />\\n<link rel=\"alternate\" type=\"application/json+oembed\" href=\"https://www.engineerspock.com/wp-json/oembed/1.0/embed?url=https%3A%2F%2Fwww.engineerspock.com%2F\" />\\n<link rel=\"alternate\" type=\"text/xml+oembed\" href=\"https://www.engineerspock.com/wp-json/oembed/1.0/embed?url=https%3A%2F%2Fwww.engineerspock.com%2F&#038;format=xml\" />\\n\\n<!-- Google Tag Manager for WordPress by gtm4wp.com -->\\n<script data-cfasync=\"false\" data-pagespeed-no-defer>//<![CDATA[\\n\\tvar dataLayer_content = {\"pagePostType\":\"frontpage\",\"pagePostType2\":\"single-page\",\"pagePostAuthor\":\"EngineerSpock\"};\\n\\tdataLayer.push( dataLayer_content );//]]>\\n</script>\\n<script data-cfasync=\"false\">//<![CDATA[\\n(function(w,d,s,l,i){w[l]=w[l]||[];w[l].push({\\'gtm.start\\':\\nnew Date().getTime(),event:\\'gtm.js\\'});var f=d.getElementsByTagName(s)[0],\\nj=d.createElement(s),dl=l!=\\'dataLayer\\'?\\'&l=\\'+l:\\'\\';j.async=true;j.src=\\n\\'//www.googletagmanager.com/gtm.\\'+\\'js?id=\\'+i+dl;f.parentNode.insertBefore(j,f);\\n})(window,document,\\'script\\',\\'dataLayer\\',\\'GTM-TD3B6LW\\');//]]>\\n</script>\\n<!-- End Google Tag Manager -->\\n<!-- End Google Tag Manager for WordPress by gtm4wp.com --><style type=\"text/css\" id=\"css-fb-visibility\">@media screen and (max-width: 640px){body:not(.fusion-builder-ui-wireframe) .fusion-no-small-visibility{display:none !important;}}@media screen and (min-width: 641px) and (max-width: 1024px){body:not(.fusion-builder-ui-wireframe) .fusion-no-medium-visibility{display:none !important;}}@media screen and (min-width: 1025px){body:not(.fusion-builder-ui-wireframe) .fusion-no-large-visibility{display:none !important;}}</style>\\n<!-- Jetpack Open Graph Tags -->\\n<meta property=\"og:type\" content=\"website\" />\\n<meta property=\"og:title\" content=\"EngineerSpock\" />\\n<meta property=\"og:description\" content=\"EngineerSpock\" />\\n<meta property=\"og:url\" content=\"https://www.engineerspock.com/\" />\\n<meta property=\"og:site_name\" content=\"EngineerSpock\" />\\n<meta property=\"og:image\" content=\"https://www.engineerspock.com/wp-content/uploads/2016/04/cropped-Symbol.png\" />\\n<meta property=\"og:image:width\" content=\"512\" />\\n<meta property=\"og:image:height\" content=\"512\" />\\n<meta property=\"og:locale\" content=\"en_US\" />\\n<meta name=\"twitter:site\" content=\"@engineerspock\" />\\n<meta name=\"twitter:text:title\" content=\"Home\" />\\n<meta name=\"twitter:image\" content=\"https://www.engineerspock.com/wp-content/uploads/2016/04/cropped-Symbol-270x270.png\" />\\n<meta name=\"twitter:card\" content=\"summary\" />\\n\\n<!-- End Jetpack Open Graph Tags -->\\n<link rel=\"icon\" href=\"https://cdn.shortpixel.ai/client/q_glossy,ret_img,w_32,h_32/https://www.engineerspock.com/wp-content/uploads/2016/04/cropped-Symbol-32x32.png\" sizes=\"32x32\" />\\n<link rel=\"icon\" href=\"https://cdn.shortpixel.ai/client/q_glossy,ret_img,w_192,h_192/https://www.engineerspock.com/wp-content/uploads/2016/04/cropped-Symbol-192x192.png\" sizes=\"192x192\" />\\n<link rel=\"apple-touch-icon\" href=\"https://cdn.shortpixel.ai/client/q_glossy,ret_img,w_180,h_180/https://www.engineerspock.com/wp-content/uploads/2016/04/cropped-Symbol-180x180.png\" />\\n<meta name=\"msapplication-TileImage\" content=\"https://www.engineerspock.com/wp-content/uploads/2016/04/cropped-Symbol-270x270.png\" />\\n\\t\\t<style type=\"text/css\" id=\"wp-custom-css\">\\n\\t\\t\\t.home .current_page_item > a {color: #212121 !important}\\n\\n.twfb {padding-bottom: 30px;}\\n\\n.twt {background: #00abf0;\\n    font-size: 15px;\\n    padding: 8px 22px;\\n    color: #fff;\\n    box-shadow: 1px 1px 3px 0 rgba(0,0,0,.2);\\n    border-radius: 7px;}\\n\\n.fb {background: #3a579a;\\n    font-size: 15px;\\n    padding: 8px 22px;\\n    color: #fff;\\n    box-shadow: 1px 1px 3px 0 rgba(0,0,0,.2);\\n    border-radius: 7px;}\\n\\n.dvfb {display: inline-block}\\n\\n.twt:hover, .fb:hover {color: #fff}\\n\\n@media only screen and (max-width: 800px) {\\n\\t#course-width .fusion-column-wrapper {    padding: 0px 0px 0px 0px !important;}\\n\\t\\n\\t#course-width {    padding-left: 30px;}\\n\\t\\n}\\n\\n@media only screen and (max-width: 600px) {.dvfb {display: block; margin-top: 10px}}\\n\\n\\n\\n\\n\\n\\n\\n\\n\\t\\t</style>\\n\\t\\t\\t\\t<script type=\"text/javascript\">\\n\\t\\t\\tvar doc = document.documentElement;\\n\\t\\t\\tdoc.setAttribute( \\'data-useragent\\', navigator.userAgent );\\n\\t\\t</script>\\n\\t\\t\\n\\t</head>\\n\\n<body class=\"home page-template page-template-100-width page-template-100-width-php page page-id-2117 fusion-image-hovers fusion-pagination-sizing fusion-button_size-large fusion-button_type-flat fusion-button_span-no avada-image-rollover-circle-yes avada-image-rollover-yes avada-image-rollover-direction-left fusion-has-button-gradient fusion-body ltr fusion-sticky-header no-tablet-sticky-header no-mobile-sticky-header no-mobile-slidingbar no-mobile-totop avada-has-rev-slider-styles fusion-disable-outline fusion-sub-menu-fade mobile-logo-pos-left layout-wide-mode avada-has-boxed-modal-shadow-none layout-scroll-offset-full avada-has-zero-margin-offset-top fusion-top-header menu-text-align-center mobile-menu-design-modern fusion-show-pagination-text fusion-header-layout-v1 avada-responsive avada-footer-fx-none avada-menu-highlight-style-bar fusion-search-form-classic fusion-main-menu-search-overlay fusion-avatar-square avada-sticky-shrinkage avada-dropdown-styles avada-blog-layout-medium avada-blog-archive-layout-medium avada-header-shadow-yes avada-menu-icon-position-left avada-has-megamenu-shadow avada-has-mainmenu-dropdown-divider avada-has-pagetitle-bg-full avada-has-main-nav-search-icon avada-has-breadcrumb-mobile-hidden avada-has-titlebar-hide avada-has-pagination-padding avada-flyout-menu-direction-fade avada-ec-views-v1 \">\\n<!-- Google Tag Manager (noscript) -->\\n<noscript><iframe src=\"https://www.googletagmanager.com/ns.html?id=GTM-TD3B6LW\"\\nheight=\"0\" width=\"0\" style=\"display:none;visibility:hidden\"></iframe></noscript>\\n<!-- End Google Tag Manager (noscript) --><br style=\"display:none;\" >\\n\\t\\n<!-- Google Tag Manager (noscript) -->\\t<a class=\"skip-link screen-reader-text\" href=\"#content\">Skip to content</a>\\n\\n\\t<div id=\"boxed-wrapper\">\\n\\t\\t<div class=\"fusion-sides-frame\"></div>\\n\\t\\t<div id=\"wrapper\" class=\"fusion-wrapper\">\\n\\t\\t\\t<div id=\"home\" style=\"position:relative;top:-1px;\"></div>\\n\\t\\t\\t\\n\\t\\t\\t<header class=\"fusion-header-wrapper fusion-header-shadow\">\\n\\t\\t\\t\\t<div class=\"fusion-header-v1 fusion-logo-alignment fusion-logo-left fusion-sticky-menu- fusion-sticky-logo- fusion-mobile-logo-  fusion-mobile-menu-design-modern\">\\n\\t\\t\\t\\t\\t<div class=\"fusion-header-sticky-height\"></div>\\n<div class=\"fusion-header\">\\n\\t<div class=\"fusion-row\">\\n\\t\\t\\t\\t\\t<div class=\"fusion-logo\" data-margin-top=\"20px\" data-margin-bottom=\"20px\" data-margin-left=\"0px\" data-margin-right=\"0px\">\\n\\t\\t\\t<a class=\"fusion-logo-link\"  href=\"https://www.engineerspock.com/\" >\\n\\n\\t\\t\\t\\t\\t\\t<!-- standard logo -->\\n\\t\\t\\t<noscript><img src=\"https://cdn.shortpixel.ai/client/q_glossy,ret_img/https://www.engineerspock.com/wp-content/uploads/2017/10/forblog-nobackground-logo.png\" srcset=\"https://cdn.shortpixel.ai/client/q_glossy,ret_img/https://www.engineerspock.com/wp-content/uploads/2017/10/forblog-nobackground-logo.png 1x\" width=\"117\" height=\"65\" alt=\"EngineerSpock Logo\" data-retina_logo_url=\"\" class=\"fusion-standard-logo\" /></noscript><img src=\\'https://cdn.shortpixel.ai/client/q_lqip,ret_wait,w_117,h_65/https://www.engineerspock.com/wp-content/uploads/2017/10/forblog-nobackground-logo.png\\' data-src=\"https://cdn.shortpixel.ai/client/q_glossy,ret_img/https://www.engineerspock.com/wp-content/uploads/2017/10/forblog-nobackground-logo.png\" data-srcset=\"https://cdn.shortpixel.ai/client/q_glossy,ret_img/https://www.engineerspock.com/wp-content/uploads/2017/10/forblog-nobackground-logo.png 1x\" width=\"117\" height=\"65\" alt=\"EngineerSpock Logo\" data-retina_logo_url=\"\" class=\"lazyload fusion-standard-logo\" />\\n\\n\\t\\t\\t\\n\\t\\t\\t\\t\\t</a>\\n\\t\\t</div>\\t\\t<nav class=\"fusion-main-menu\" aria-label=\"Main Menu\"><div class=\"fusion-overlay-search\">\\t\\t<form role=\"search\" class=\"searchform fusion-search-form  fusion-search-form-classic\" method=\"get\" action=\"https://www.engineerspock.com/\">\\n\\t\\t\\t<div class=\"fusion-search-form-content\">\\n\\n\\t\\t\\t\\t\\n\\t\\t\\t\\t<div class=\"fusion-search-field search-field\">\\n\\t\\t\\t\\t\\t<label><span class=\"screen-reader-text\">Search for:</span>\\n\\t\\t\\t\\t\\t\\t\\t\\t\\t\\t\\t\\t\\t<input type=\"search\" value=\"\" name=\"s\" class=\"s\" placeholder=\"Search...\" required aria-required=\"true\" aria-label=\"\"/>\\n\\t\\t\\t\\t\\t\\t\\t\\t\\t\\t\\t</label>\\n\\t\\t\\t\\t</div>\\n\\t\\t\\t\\t<div class=\"fusion-search-button search-button\">\\n\\t\\t\\t\\t\\t<input type=\"submit\" class=\"fusion-search-submit searchsubmit\" value=\"&#xf002;\" />\\n\\t\\t\\t\\t\\t\\t\\t\\t\\t</div>\\n\\n\\t\\t\\t\\t\\n\\t\\t\\t</div>\\n\\n\\n\\t\\t\\t\\n\\t\\t</form>\\n\\t\\t<div class=\"fusion-search-spacer\"></div><a href=\"#\" class=\"fusion-close-search\"></a></div><ul id=\"menu-main-menu\" class=\"fusion-menu\"><li  id=\"menu-item-2119\"  class=\"menu-item menu-item-type-post_type menu-item-object-page menu-item-home current-menu-item page_item page-item-2117 current_page_item menu-item-2119\"  data-item-id=\"2119\"><a  href=\"https://www.engineerspock.com/\" class=\"fusion-bar-highlight\"><span class=\"menu-text\">Home</span></a></li><li  id=\"menu-item-2162\"  class=\"menu-item menu-item-type-post_type menu-item-object-page menu-item-2162\"  data-item-id=\"2162\"><a  href=\"https://www.engineerspock.com/blog/\" class=\"fusion-bar-highlight\"><span class=\"menu-text\">Blog</span></a></li><li  id=\"menu-item-2182\"  class=\"menu-item menu-item-type-post_type menu-item-object-page menu-item-2182\"  data-item-id=\"2182\"><a  href=\"https://www.engineerspock.com/courses-overview/\" class=\"fusion-bar-highlight\"><span class=\"menu-text\">Video Courses</span></a></li><li  id=\"menu-item-2458\"  class=\"menu-item menu-item-type-post_type menu-item-object-page menu-item-2458\"  data-item-id=\"2458\"><a  href=\"https://www.engineerspock.com/special-offers/\" class=\"fusion-bar-highlight\"><span class=\"menu-text\">Special Offers</span></a></li><li  id=\"menu-item-2160\"  class=\"menu-item menu-item-type-custom menu-item-object-custom current-menu-item current_page_item menu-item-home menu-item-2160\"  data-item-id=\"2160\"><a href=\"https://www.engineerspock.com/#join\" class=\"fusion-bar-highlight\"><span class=\"menu-text\">Join Us</span></a></li><li  id=\"menu-item-2159\"  class=\"menu-item menu-item-type-custom menu-item-object-custom current-menu-item current_page_item menu-item-home menu-item-2159\"  data-item-id=\"2159\"><a href=\"https://www.engineerspock.com/#about\" class=\"fusion-bar-highlight\"><span class=\"menu-text\">Who&#8217;s EngineerSpock</span></a></li><li class=\"fusion-custom-menu-item fusion-main-menu-search fusion-search-overlay\"><a class=\"fusion-main-menu-icon fusion-bar-highlight\" href=\"#\" aria-label=\"Search\" data-title=\"Search\" title=\"Search\"></a></li></ul></nav>\\t<div class=\"fusion-mobile-menu-icons\">\\n\\t\\t\\t\\t\\t\\t\\t<a href=\"#\" class=\"fusion-icon fusion-icon-bars\" aria-label=\"Toggle mobile menu\" aria-expanded=\"false\"></a>\\n\\t\\t\\n\\t\\t\\n\\t\\t\\n\\t\\t\\t</div>\\n\\n<nav class=\"fusion-mobile-nav-holder fusion-mobile-menu-text-align-left\" aria-label=\"Main Menu Mobile\"></nav>\\n\\n\\t\\t\\t\\t\\t</div>\\n</div>\\n\\t\\t\\t\\t</div>\\n\\t\\t\\t\\t<div class=\"fusion-clearfix\"></div>\\n\\t\\t\\t</header>\\n\\t\\t\\t\\t\\t\\t\\n\\t\\t\\t\\n\\t\\t<div id=\"sliders-container\">\\n\\t\\t\\t\\t\\t</div>\\n\\t\\t\\t\\t\\n\\t\\t\\t\\n\\t\\t\\t<div class=\"avada-page-titlebar-wrapper\">\\n\\t\\t\\t\\t\\t\\t\\t</div>\\n\\n\\t\\t\\t\\t\\t\\t<main id=\"main\" class=\"clearfix width-100\">\\n\\t\\t\\t\\t<div class=\"fusion-row\" style=\"max-width:100%;\">\\n<section id=\"content\" class=\"full-width\">\\n\\t\\t\\t\\t\\t<div id=\"post-2117\" class=\"post-2117 page type-page status-publish hentry\">\\n\\t\\t\\t<span class=\"entry-title rich-snippet-hidden\">Home</span><span class=\"vcard rich-snippet-hidden\"><span class=\"fn\"><a href=\"https://www.engineerspock.com/author/engineerspockoutlook-com/\" title=\"Posts by EngineerSpock\" rel=\"author\">EngineerSpock</a></span></span><span class=\"updated rich-snippet-hidden\">2020-04-23T16:26:41+03:00</span>\\t\\t\\t\\t\\t\\t<div class=\"post-content\">\\n\\t\\t\\t\\t<div class=\"lazyload fusion-fullwidth fullwidth-box fusion-builder-row-1 fusion-parallax-none nonhundred-percent-fullwidth non-hundred-percent-height-scrolling\"  data-bg=\"https://cdn.shortpixel.ai/client/q_glossy,ret_img/http://www.engineerspock.com/wp-content/uploads/2018/07/wallls.com_52644-4.jpg\" style=\\'background-color: rgba(255,255,255,0);background-image: url(\"data:image/svg+xml,%3Csvg%20xmlns=%22http://www.w3.org/2000/svg%22%20viewBox=%220%200%20500%20300%22%3E%3C/svg%3E\");background-position: left top;background-repeat: no-repeat;padding-top:150px;padding-right:30px;padding-bottom:150px;padding-left:30px;border-top-width:0px;border-bottom-width:0px;border-color:#eae9e9;border-top-style:solid;border-bottom-style:solid;-webkit-background-size:cover;-moz-background-size:cover;-o-background-size:cover;background-size:cover;\\'><div class=\"fusion-builder-row fusion-row \"><div  class=\"fusion-layout-column fusion_builder_column fusion_builder_column_1_2 fusion-builder-column-0 fusion-one-half fusion-column-first 1_2\"  style=\\'margin-top:0px;margin-bottom:20px;width:48%; margin-right: 4%;\\'><div class=\"fusion-column-wrapper\" style=\"padding: 0px 0px 0px 0px;background-position:left top;background-repeat:no-repeat;-webkit-background-size:cover;-moz-background-size:cover;-o-background-size:cover;background-size:cover;\"   data-bg-url=\"\"><div class=\"fusion-text\"><div class=\"fusion-page-title-captions\">\\n<h1 class=\"entry-title\" data-fontsize=\"22\" data-lineheight=\"28\"><span style=\"color: white;\">Welcome to .NET Training</span></h1>\\n</div>\\n<div class=\"fusion-page-title-secondary\"></div>\\n</div><div class=\"fusion-text\"><div class=\"fusion-page-title-captions\">\\n<h1 class=\"entry-title\" data-fontsize=\"18\" data-lineheight=\"28\"><span style=\"color: white;\">Chance favors the prepared mind.</span></h1>\\n</div>\\n<div class=\"fusion-page-title-secondary\"></div>\\n</div><div class=\"fusion-sep-clear\"></div><div class=\"fusion-separator fusion-full-width-sep sep-none\" style=\"margin-left: auto;margin-right: auto;margin-top:6px;\"></div><div class=\"fusion-button-wrapper\"><style type=\"text/css\">.fusion-button.button-1 .fusion-button-text, .fusion-button.button-1 i {color:#ffffff;}.fusion-button.button-1 .fusion-button-icon-divider{border-color:#ffffff;}.fusion-button.button-1:hover .fusion-button-text, .fusion-button.button-1:hover i,.fusion-button.button-1:focus .fusion-button-text, .fusion-button.button-1:focus i,.fusion-button.button-1:active .fusion-button-text, .fusion-button.button-1:active{color:#ffffff;}.fusion-button.button-1:hover .fusion-button-icon-divider, .fusion-button.button-1:hover .fusion-button-icon-divider, .fusion-button.button-1:active .fusion-button-icon-divider{border-color:#ffffff;}.fusion-button.button-1:hover, .fusion-button.button-1:focus, .fusion-button.button-1:active{border-color:#ffffff;border-width:2px;}.fusion-button.button-1 {border-color:#ffffff;border-width:2px;border-radius:0px;}.fusion-button.button-1{background: rgba(144,201,232,0.01);\\n\\t\\t\\t\\t\\t\\t\\tbackground-image: -webkit-gradient( linear, left bottom, left top, from( rgba(90,171,214,0) ), to( rgba(144,201,232,0.01) ) );\\n\\t\\t\\t\\t\\t\\t\\tbackground-image: -webkit-linear-gradient( bottom, rgba(90,171,214,0), rgba(144,201,232,0.01) );\\n\\t\\t\\t\\t\\t\\t\\tbackground-image:   -moz-linear-gradient( bottom, rgba(90,171,214,0), rgba(144,201,232,0.01) );\\n\\t\\t\\t\\t\\t\\t\\tbackground-image:     -o-linear-gradient( bottom, rgba(90,171,214,0), rgba(144,201,232,0.01) );\\n\\t\\t\\t\\t\\t\\t\\tbackground-image: linear-gradient( to top, rgba(90,171,214,0), rgba(144,201,232,0.01) );}.fusion-button.button-1:hover,.button-1:focus,.fusion-button.button-1:active{background: #d6d6d6;\\n\\t\\t\\t\\t\\t\\t\\tbackground-image: -webkit-gradient( linear, left bottom, left top, from( #e8e8e8 ), to( #d6d6d6 ) );\\n\\t\\t\\t\\t\\t\\t\\tbackground-image: -webkit-linear-gradient( bottom, #e8e8e8, #d6d6d6 );\\n\\t\\t\\t\\t\\t\\t\\tbackground-image:   -moz-linear-gradient( bottom, #e8e8e8, #d6d6d6 );\\n\\t\\t\\t\\t\\t\\t\\tbackground-image:     -o-linear-gradient( bottom, #e8e8e8, #d6d6d6 );\\n\\t\\t\\t\\t\\t\\t\\tbackground-image: linear-gradient( to top, #e8e8e8, #d6d6d6 );}</style><a class=\"fusion-button button-flat fusion-button-default-size button-custom button-1 fusion-button-default-span fusion-button-default-type\" target=\"_self\" href=\"https://www.engineerspock.com/courses-overview/\"><span class=\"fusion-button-text\">Video Courses</span></a></div><div class=\"fusion-clearfix\"></div></div></div><div  class=\"fusion-layout-column fusion_builder_column fusion_builder_column_1_2 fusion-builder-column-1 fusion-one-half fusion-column-last 1_2\"  style=\\'margin-top:0px;margin-bottom:20px;width:48%\\'><div class=\"fusion-column-wrapper\" style=\"padding: 0px 0px 0px 0px;background-position:left top;background-repeat:no-repeat;-webkit-background-size:cover;-moz-background-size:cover;-o-background-size:cover;background-size:cover;\"   data-bg-url=\"\"><div class=\"fusion-clearfix\"></div></div></div></div></div><div id=\"about\"><div id=\"section1\" class=\"fusion-fullwidth fullwidth-box fusion-builder-row-2 mass-responsive-section nonhundred-percent-fullwidth non-hundred-percent-height-scrolling\"  style=\\'background-color: rgba(255,255,255,0);background-position: left top;background-repeat: no-repeat;padding-top:3%;padding-right:30px;padding-bottom:40px;padding-left:30px;border-top-width:0px;border-bottom-width:0px;border-color:#eae9e9;border-top-style:solid;border-bottom-style:solid;\\'><div class=\"fusion-builder-row fusion-row \"><div  class=\"fusion-layout-column fusion_builder_column fusion_builder_column_1_3 fusion-builder-column-2 fusion-one-third fusion-column-first 1_3\"  style=\\'margin-top:42px;margin-bottom:20px;width:33.33%;width:calc(33.33% - ( ( 4% ) * 0.3333 ) );margin-right: 4%;\\'><div class=\"fusion-column-wrapper\" style=\"padding: 0px 0px 0px 0px;background-position:left top;background-repeat:no-repeat;-webkit-background-size:cover;-moz-background-size:cover;-o-background-size:cover;background-size:cover;\"   data-bg-url=\"\"><span class=\"fusion-imageframe imageframe-none imageframe-1 hover-type-zoomin\"><noscript><img src=\"https://cdn.shortpixel.ai/client/q_glossy,ret_img,w_400,h_268/http://www.engineerspock.com/wp-content/uploads/2018/01/QBaKZLmGItQ-400x268.jpg\" width=\"400\" height=\"268\" alt=\"engineer spock\" title=\"QBaKZLmGItQ\" class=\"img-responsive wp-image-2270\" srcset=\"https://cdn.shortpixel.ai/client/q_glossy,ret_img,w_200/https://www.engineerspock.com/wp-content/uploads/2018/01/QBaKZLmGItQ-200x134.jpg 200w, https://cdn.shortpixel.ai/client/q_glossy,ret_img,w_400/https://www.engineerspock.com/wp-content/uploads/2018/01/QBaKZLmGItQ-400x268.jpg 400w, https://cdn.shortpixel.ai/client/q_glossy,ret_img,w_600/https://www.engineerspock.com/wp-content/uploads/2018/01/QBaKZLmGItQ-600x402.jpg 600w, https://cdn.shortpixel.ai/client/q_glossy,ret_img,w_800/https://www.engineerspock.com/wp-content/uploads/2018/01/QBaKZLmGItQ-800x537.jpg 800w, https://cdn.shortpixel.ai/client/q_glossy,ret_img,w_1200/https://www.engineerspock.com/wp-content/uploads/2018/01/QBaKZLmGItQ-1200x805.jpg 1200w, https://cdn.shortpixel.ai/client/q_glossy,ret_img,w_2560/https://www.engineerspock.com/wp-content/uploads/2018/01/QBaKZLmGItQ.jpg 2560w\" sizes=\"(max-width: 800px) 100vw, 400px\" /></noscript><img src=\\'https://cdn.shortpixel.ai/client/q_lqip,ret_wait,w_400,h_268/http://www.engineerspock.com/wp-content/uploads/2018/01/QBaKZLmGItQ-400x268.jpg\\' data-src=\"https://cdn.shortpixel.ai/client/q_glossy,ret_img,w_400,h_268/http://www.engineerspock.com/wp-content/uploads/2018/01/QBaKZLmGItQ-400x268.jpg\" width=\"400\" height=\"268\" alt=\"engineer spock\" title=\"QBaKZLmGItQ\" class=\"lazyload img-responsive wp-image-2270\" data-srcset=\"https://cdn.shortpixel.ai/client/q_glossy,ret_img,w_200/https://www.engineerspock.com/wp-content/uploads/2018/01/QBaKZLmGItQ-200x134.jpg 200w, https://cdn.shortpixel.ai/client/q_glossy,ret_img,w_400/https://www.engineerspock.com/wp-content/uploads/2018/01/QBaKZLmGItQ-400x268.jpg 400w, https://cdn.shortpixel.ai/client/q_glossy,ret_img,w_600/https://www.engineerspock.com/wp-content/uploads/2018/01/QBaKZLmGItQ-600x402.jpg 600w, https://cdn.shortpixel.ai/client/q_glossy,ret_img,w_800/https://www.engineerspock.com/wp-content/uploads/2018/01/QBaKZLmGItQ-800x537.jpg 800w, https://cdn.shortpixel.ai/client/q_glossy,ret_img,w_1200/https://www.engineerspock.com/wp-content/uploads/2018/01/QBaKZLmGItQ-1200x805.jpg 1200w, https://cdn.shortpixel.ai/client/q_glossy,ret_img,w_2560/https://www.engineerspock.com/wp-content/uploads/2018/01/QBaKZLmGItQ.jpg 2560w\" data-sizes=\"(max-width: 800px) 100vw, 400px\" /></span><div class=\"fusion-clearfix\"></div></div></div><div  class=\"fusion-layout-column fusion_builder_column fusion_builder_column_2_3 fusion-builder-column-3 fusion-two-third fusion-column-last 2_3\"  style=\\'margin-top:42px;margin-bottom:20px;width:66.66%;width:calc(66.66% - ( ( 4% ) * 0.6666 ) );\\'><div class=\"fusion-column-wrapper\" style=\"padding: 0px 0px 0px 0px;background-position:left top;background-repeat:no-repeat;-webkit-background-size:cover;-moz-background-size:cover;-o-background-size:cover;background-size:cover;\"   data-bg-url=\"\"><div class=\"fusion-text\"><h2 style=\"text-align: center;\">Who is EngineerSpock</h2>\\n</div><div class=\"fusion-sep-clear\"></div><div class=\"fusion-separator sep-single sep-solid\" style=\"border-color:#3e78bd;border-top-width:1px;margin-left: auto;margin-right: auto;margin-top:0px;margin-bottom:30px;width:100%;max-width:206px;\"></div><div class=\"fusion-text\"><p style=\"text-align: left;\">I&#8217;m thankful enough for that I love what I do.</p>\\n<p style=\"text-align: left;\">I began my career as a postgraduate student participating in Microsoft ImagineCup contest.\\xc2\\xa0I have a technical and economical degree from a Russian university.</p>\\n<p style=\"text-align: left;\">I&#8217;ve been working with .NET platform since 2003. <strong>I&#8217;ve been professionally architecting and implementing software for nearly 7 years</strong>, primarily based on the .NET platform. I&#8217;m passionate about building rich and powerful applications using modern technologies. <strong>I&#8217;m a certified specialist</strong> in Windows Applications and Service Communication Applications by Microsoft. <strong>I&#8217;m one of the organizers of the MskDotNet User Group in Moscow.</strong></p>\\n<p style=\"text-align: left;\">&#8220;If it&#8217;s work, we try to do less. If it&#8217;s art, we try to do more.&#8221; &#8211; Seth Godin.</p>\\n<p style=\"text-align: left;\">What I can say is that<strong> software is my art.</strong></p>\\n</div><div class=\"fusion-clearfix\"></div></div></div></div></div></div><div class=\"fusion-fullwidth fullwidth-box fusion-builder-row-3 hundred-percent-fullwidth non-hundred-percent-height-scrolling fusion-equal-height-columns\"  style=\\'background-color: rgba(255,255,255,0);background-position: right center;background-repeat: no-repeat;padding-top:0px;padding-right:8%;padding-bottom:40px;padding-left:8%;border-top-width:0px;border-bottom-width:0px;border-color:#eae9e9;border-top-style:solid;border-bottom-style:solid;\\'><div class=\"fusion-builder-row fusion-row \"><div  class=\"fusion-layout-column fusion_builder_column fusion_builder_column_1_1 fusion-builder-column-4 fusion-one-full fusion-column-first fusion-column-last 1_1\"  style=\\'margin-top:0px;margin-bottom:20px;\\'><div class=\"fusion-column-wrapper\" style=\"padding: 0px 0px 0px 0px;background-position:left top;background-repeat:no-repeat;-webkit-background-size:cover;-moz-background-size:cover;-o-background-size:cover;background-size:cover;\"   data-bg-url=\"\"><div class=\"fusion-content-boxes content-boxes columns row fusion-columns-3 fusion-columns-total-3 fusion-content-boxes-1 content-boxes-icon-on-top content-left\" data-animationOffset=\"100%\" style=\"margin-top:0px;margin-bottom:60px;\"><style type=\"text/css\">.fusion-content-boxes-1 .heading .content-box-heading {color:#333333;}\\n\\t\\t\\t\\t\\t.fusion-content-boxes-1 .fusion-content-box-hover .link-area-link-icon-hover .heading .content-box-heading,\\n\\t\\t\\t\\t\\t.fusion-content-boxes-1 .fusion-content-box-hover .link-area-link-icon-hover .heading .heading-link .content-box-heading,\\n\\t\\t\\t\\t\\t.fusion-content-boxes-1 .fusion-content-box-hover .link-area-box-hover .heading .content-box-heading,\\n\\t\\t\\t\\t\\t.fusion-content-boxes-1 .fusion-content-box-hover .link-area-box-hover .heading .heading-link .content-box-heading,\\n\\t\\t\\t\\t\\t.fusion-content-boxes-1 .fusion-content-box-hover .link-area-link-icon-hover.link-area-box .fusion-read-more,\\n\\t\\t\\t\\t\\t.fusion-content-boxes-1 .fusion-content-box-hover .link-area-link-icon-hover.link-area-box .fusion-read-more::after,\\n\\t\\t\\t\\t\\t.fusion-content-boxes-1 .fusion-content-box-hover .link-area-link-icon-hover.link-area-box .fusion-read-more::before,\\n\\t\\t\\t\\t\\t.fusion-content-boxes-1 .fusion-content-box-hover .fusion-read-more:hover:after,\\n\\t\\t\\t\\t\\t.fusion-content-boxes-1 .fusion-content-box-hover .fusion-read-more:hover:before,\\n\\t\\t\\t\\t\\t.fusion-content-boxes-1 .fusion-content-box-hover .fusion-read-more:hover,\\n\\t\\t\\t\\t\\t.fusion-content-boxes-1 .fusion-content-box-hover .link-area-box-hover.link-area-box .fusion-read-more,\\n\\t\\t\\t\\t\\t.fusion-content-boxes-1 .fusion-content-box-hover .link-area-box-hover.link-area-box .fusion-read-more::after,\\n\\t\\t\\t\\t\\t.fusion-content-boxes-1 .fusion-content-box-hover .link-area-box-hover.link-area-box .fusion-read-more::before,\\n\\t\\t\\t\\t\\t.fusion-content-boxes-1 .fusion-content-box-hover .link-area-link-icon-hover .icon .circle-no,\\n\\t\\t\\t\\t\\t.fusion-content-boxes-1 .heading .heading-link:hover .content-box-heading {\\n\\t\\t\\t\\t\\t\\tcolor: #9e9e9e;\\n\\t\\t\\t\\t\\t}\\n\\t\\t\\t\\t\\t.fusion-content-boxes-1 .fusion-content-box-hover .link-area-box-hover .icon .circle-no {\\n\\t\\t\\t\\t\\t\\tcolor: #9e9e9e !important;\\n\\t\\t\\t\\t\\t}.fusion-content-boxes-1 .fusion-content-box-hover .link-area-box.link-area-box-hover .fusion-content-box-button {background: #d6d6d6;color: #787878;background-image: -webkit-gradient( linear, left bottom, left top, from( #e8e8e8 ), to( #d6d6d6 ) );background-image: linear-gradient( to top, #e8e8e8, #d6d6d6 )}.fusion-content-boxes-1 .fusion-content-box-hover .link-area-box.link-area-box-hover .fusion-content-box-button .fusion-button-text {color: #787878;}\\n\\t\\t\\t\\t\\t.fusion-content-boxes-1 .fusion-content-box-hover .link-area-link-icon-hover .heading .icon > span {\\n\\t\\t\\t\\t\\t\\tbackground-color: #9e9e9e !important;\\n\\t\\t\\t\\t\\t}\\n\\t\\t\\t\\t\\t.fusion-content-boxes-1 .fusion-content-box-hover .link-area-box-hover .heading .icon > span {\\n\\t\\t\\t\\t\\t\\tborder-color: #9e9e9e !important;\\n\\t\\t\\t\\t\\t}\\n\\t\\t\\t\\t\\t\\t.fusion-content-boxes-1 .fusion-content-box-hover .link-area-link-icon-hover.icon-hover-animation-pulsate .fontawesome-icon:after,\\n\\t\\t\\t\\t\\t\\t.fusion-content-boxes-1 .fusion-content-box-hover .link-area-box-hover.icon-hover-animation-pulsate .fontawesome-icon:after,\\n\\t\\t\\t\\t\\t\\t.fusion-content-boxes-1 .fusion-content-box-hover .link-area-link-icon-hover.icon-wrapper-hover-animation-pulsate .icon span:after,\\n\\t\\t\\t\\t\\t\\t.fusion-content-boxes-1 .fusion-content-box-hover .link-area-box-hover.icon-wrapper-hover-animation-pulsate .icon span:after {\\n\\t\\t\\t\\t\\t\\t\\t-webkit-box-shadow:0 0 0 2px rgba(255,255,255,0.1), 0 0 10px 10px #9e9e9e, 0 0 0 10px rgba(255,255,255,0.5);\\n\\t\\t\\t\\t\\t\\t\\t-moz-box-shadow:0 0 0 2px rgba(255,255,255,0.1), 0 0 10px 10px #9e9e9e, 0 0 0 10px rgba(255,255,255,0.5);\\n\\t\\t\\t\\t\\t\\t\\tbox-shadow: 0 0 0 2px rgba(255,255,255,0.1), 0 0 10px 10px #9e9e9e, 0 0 0 10px rgba(255,255,255,0.5);\\n\\t\\t\\t\\t\\t\\t}\\n\\t\\t\\t\\t\\t</style><div class=\"fusion-column content-box-column content-box-column content-box-column-1 col-lg-4 col-md-4 col-sm-4 fusion-content-box-hover content-box-column-first-in-row\"><div class=\"col content-box-wrapper content-wrapper link-area-link-icon icon-hover-animation-pulsate\" style=\"background-color:rgba(255,255,255,0);\" data-animationOffset=\"100%\"><div class=\"heading heading-with-icon icon-left\"><div class=\"icon\"><i style=\"border-color:#333333;border-width:1px;background-color:#4ea4a5;box-sizing:content-box;height:42px;width:42px;line-height:42px;border-radius:50%;color:#ffffff;font-size:21px;\" class=\"fontawesome-icon fa fa-book circle-yes\"></i></div><h2 class=\"content-box-heading\" style=\"font-size:18px;line-height:23px;\">PUBLICATIONS</h2></div><div class=\"fusion-clearfix\"></div><div class=\"content-container\" style=\"color:#747474;\">\\n<p>I\\xe2\\x80\\x99ve been publishing my articles and translations on the famous Russian technical site \\xe2\\x80\\x93 www.habrahabr.ru. So, if you are a Russian speaker you can go there and read my publications. If you want to read my articles in English, then go to my <a href=\"https://www.engineerspock.com/blog\">BLOG.</a></p>\\n</div></div></div><div class=\"fusion-column content-box-column content-box-column content-box-column-2 col-lg-4 col-md-4 col-sm-4 fusion-content-box-hover \"><div class=\"col content-box-wrapper content-wrapper link-area-link-icon icon-hover-animation-pulsate\" style=\"background-color:rgba(255,255,255,0);\" data-animationOffset=\"100%\"><div class=\"heading heading-with-icon icon-left\"><div class=\"icon\"><i style=\"border-color:#333333;border-width:1px;background-color:#4e6da5;box-sizing:content-box;height:42px;width:42px;line-height:42px;border-radius:50%;color:#ffffff;font-size:21px;\" class=\"fontawesome-icon fa fa-video-camera circle-yes\"></i></div><h2 class=\"content-box-heading\" style=\"font-size:18px;line-height:23px;\">AUTHOR of VIDEO COURSES</h2></div><div class=\"fusion-clearfix\"></div><div class=\"content-container\" style=\"color:#747474;\">\\n<p>I published many video courses about programming on the .NET platform. To learn more either check out this page below or visit my <a href=\"https://www.engineerspock.com/courses-overview/\">courses overview page</a>.</p>\\n</div></div></div><div class=\"fusion-column content-box-column content-box-column content-box-column-3 col-lg-4 col-md-4 col-sm-4 fusion-content-box-hover content-box-column-last content-box-column-last-in-row\"><div class=\"col content-box-wrapper content-wrapper link-area-link-icon icon-hover-animation-pulsate\" style=\"background-color:rgba(255,255,255,0);\" data-animationOffset=\"100%\"><div class=\"heading heading-with-icon icon-left\"><div class=\"icon\"><i style=\"border-color:#333333;border-width:1px;background-color:#f6722a;box-sizing:content-box;height:42px;width:42px;line-height:42px;border-radius:50%;color:#ffffff;font-size:21px;\" class=\"fontawesome-icon fa fa-envelope-o circle-yes\"></i></div><h2 class=\"content-box-heading\" style=\"font-size:18px;line-height:23px;\">Contacts</h2></div><div class=\"fusion-clearfix\"></div><div class=\"content-container\" style=\"color:#747474;\">\\n<p>If you want to contact me, you always can do it by e-mail \\xe2\\x80\\x93 engineerspock[at]outlook[dot]com.</p>\\n</div></div></div><style type=\"text/css\">\\n\\t\\t\\t\\t\\t\\t.fusion-content-boxes-1 .fusion-content-box-hover .heading-link:hover .icon i.circle-yes,\\n\\t\\t\\t\\t\\t\\t.fusion-content-boxes-1 .fusion-content-box-hover .link-area-box:hover .heading-link .icon i.circle-yes,\\n\\t\\t\\t\\t\\t\\t.fusion-content-boxes-1 .fusion-content-box-hover .link-area-link-icon-hover .heading .icon i.circle-yes,\\n\\t\\t\\t\\t\\t\\t.fusion-content-boxes-1 .fusion-content-box-hover .link-area-box-hover .heading .icon i.circle-yes {\\n\\t\\t\\t\\t\\t\\t\\tbackground-color: #9e9e9e !important;\\n\\t\\t\\t\\t\\t\\t\\tborder-color: #9e9e9e !important;\\n\\t\\t\\t\\t\\t\\t}</style><div class=\"fusion-clearfix\"></div></div><div class=\"fusion-clearfix\"></div></div></div></div></div><div id=\"join\"><div class=\"fusion-fullwidth fullwidth-box fusion-builder-row-4 nonhundred-percent-fullwidth non-hundred-percent-height-scrolling fusion-equal-height-columns\"  style=\\'background-color: #3f3f3f;background-position: center bottom;background-repeat: no-repeat;padding-top:100px;padding-right:30px;padding-bottom:90px;padding-left:30px;border-top-width:0px;border-bottom-width:0px;border-color:#eae9e9;border-top-style:solid;border-bottom-style:solid;\\'><div class=\"fusion-builder-row fusion-row \"><div  class=\"fusion-layout-column fusion_builder_column fusion_builder_column_3_5 fusion-builder-column-5 fusion-three-fifth fusion-column-first 3_5\"  style=\\'margin-top:0px;margin-bottom:25px;width:60%;width:calc(60% - ( ( 50px ) * 0.6 ) );margin-right: 50px;\\'><div class=\"fusion-column-wrapper\" style=\"padding: 0px 0px 0px 0px;background-position:left top;background-repeat:no-repeat;-webkit-background-size:cover;-moz-background-size:cover;-o-background-size:cover;background-size:cover;\"   data-bg-url=\"\"><div class=\"fusion-column-content-centered\"><div class=\"fusion-column-content\"><div class=\"fusion-text\"><h1 style=\"font-weight: 300;\"><span style=\"color: #ffffff;\">Join Us</span></h1>\\n</div><div class=\"fusion-sep-clear\"></div><div class=\"fusion-separator sep-single sep-solid\" style=\"border-color:#3e78bd;border-top-width:1px;margin-top:0px;margin-bottom:30px;width:100%;max-width:206px;\"></div><div class=\"fusion-text\"><p style=\"color: white;\">Join my mailing list and\\xc2\\xa0<strong>you\\xe2\\x80\\x99ll be eligible for getting up to 90% discount for any of my courses.</strong><br />\\nAfter subscribing, I\\xe2\\x80\\x99ll notify you about new courses from time to time. If you want to get discounts on courses which have been released, then you can request a discount for a particular course,\\xc2\\xa0<strong><span style=\"color: #3e78bd;\"><a href=\"/cdn-cgi/l/email-protection#a7c2c9c0cec9c2c2d5d4d7c8c4cce7c8d2d3cbc8c8cc89c4c8ca\">just by sending me a short e-mail.</a></span></strong></p>\\n<p>I\\xe2\\x80\\x99ll not SPAM you and you can unsubscribe at any time.</p>\\n</div></div></div><div class=\"fusion-clearfix\"></div></div></div><div  class=\"fusion-layout-column fusion_builder_column fusion_builder_column_2_5 fusion-builder-column-6 fusion-two-fifth fusion-column-last 2_5\"  style=\\'margin-top:0px;margin-bottom:20px;width:40%;width:calc(40% - ( ( 50px ) * 0.4 ) );\\'><div class=\"fusion-column-wrapper\" style=\"padding: 0px 0px 0px 0px;background-position:left top;background-repeat:no-repeat;-webkit-background-size:cover;-moz-background-size:cover;-o-background-size:cover;background-size:cover;\"   data-bg-url=\"\"><div class=\"fusion-column-content-centered\"><div class=\"fusion-column-content\"><div class=\"fusion-sep-clear\"></div><div class=\"fusion-separator fusion-full-width-sep sep-none\" style=\"margin-left: auto;margin-right: auto;margin-top:10px;\"></div><script data-cfasync=\"false\" src=\"/cdn-cgi/scripts/5c5dd728/cloudflare-static/email-decode.min.js\"></script><script>(function() {\\n\\twindow.mc4wp = window.mc4wp || {\\n\\t\\tlisteners: [],\\n\\t\\tforms: {\\n\\t\\t\\ton: function(evt, cb) {\\n\\t\\t\\t\\twindow.mc4wp.listeners.push(\\n\\t\\t\\t\\t\\t{\\n\\t\\t\\t\\t\\t\\tevent   : evt,\\n\\t\\t\\t\\t\\t\\tcallback: cb\\n\\t\\t\\t\\t\\t}\\n\\t\\t\\t\\t);\\n\\t\\t\\t}\\n\\t\\t}\\n\\t}\\n})();\\n</script><!-- Mailchimp for WordPress v4.8 - https://wordpress.org/plugins/mailchimp-for-wp/ --><form id=\"mc4wp-form-1\" class=\"mc4wp-form mc4wp-form-1808 mc4wp-form-theme mc4wp-form-theme-dark\" method=\"post\" data-id=\"1808\" data-name=\"Subscribe to my mailing list\" ><div class=\"mc4wp-form-fields\"><p>\\r\\n\\t<label>\\r\\n      <font color=\"White\">\\r\\n      Email address:\\r\\n        </font>\\r\\n  </label><br/>\\r\\n\\t<input type=\"email\" name=\"EMAIL\" placeholder=\"Your email address\" required />\\r\\n</p>\\r\\n<p>\\r\\n    <label>\\r\\n      <font color=\"White\">\\r\\n      First Name:\\r\\n        </font>\\r\\n  </label><br/>\\r\\n    <input type=\"text\" name=\"FNAME\">\\r\\n</p>\\r\\n<p>\\r\\n\\t<input type=\"submit\" value=\"Subscribe\" />\\r\\n</p></div><label style=\"display: none !important;\">Leave this field empty if you\\'re human: <input type=\"text\" name=\"_mc4wp_honeypot\" value=\"\" tabindex=\"-1\" autocomplete=\"off\" /></label><input type=\"hidden\" name=\"_mc4wp_timestamp\" value=\"1595962945\" /><input type=\"hidden\" name=\"_mc4wp_form_id\" value=\"1808\" /><input type=\"hidden\" name=\"_mc4wp_form_element_id\" value=\"mc4wp-form-1\" /><div class=\"mc4wp-response\"></div></form><!-- / Mailchimp for WordPress Plugin --></div></div><div class=\"fusion-clearfix\"></div></div></div></div></div></div>\\n\\t\\t\\t\\t\\t\\t\\t</div>\\n\\t\\t\\t\\t\\t\\t\\t\\t\\t\\t\\t\\t</div>\\n\\t</section>\\n\\t\\t\\t\\t\\t\\t\\n\\t\\t\\t\\t\\t</div>  <!-- fusion-row -->\\n\\t\\t\\t\\t</main>  <!-- #main -->\\n\\t\\t\\t\\t\\n\\t\\t\\t\\t\\n\\t\\t\\t\\t\\t\\t\\t\\t\\n\\t\\t\\t\\t\\t\\n\\t\\t<div class=\"fusion-footer\">\\n\\t\\t\\t\\t\\n\\t\\n\\t<footer id=\"footer\" class=\"fusion-footer-copyright-area\">\\n\\t\\t<div class=\"fusion-row\">\\n\\t\\t\\t<div class=\"fusion-copyright-content\">\\n\\n\\t\\t\\t\\t<div class=\"fusion-copyright-notice\">\\n\\t\\t<div>\\n\\t\\tCopyright 2012 - 2017 Avada | All Rights Reserved | Powered by <a href=\"https://wordpress.org\">WordPress</a> | <a href=\"https://theme-fusion.com\">Theme Fusion</a>\\t</div>\\n</div>\\n\\n\\t\\t\\t</div> <!-- fusion-fusion-copyright-content -->\\n\\t\\t</div> <!-- fusion-row -->\\n\\t</footer> <!-- #footer -->\\n\\t\\t</div> <!-- fusion-footer -->\\n\\n\\t\\t\\n\\t\\t\\t\\t\\t<div class=\"fusion-sliding-bar-wrapper\">\\n\\t\\t\\t\\t\\t\\t\\t\\t\\t\\t\\t</div>\\n\\n\\t\\t\\t\\t\\t\\t\\t\\t\\t\\t\\t\\t</div> <!-- wrapper -->\\n\\t\\t</div> <!-- #boxed-wrapper -->\\n\\t\\t<div class=\"fusion-top-frame\"></div>\\n\\t\\t<div class=\"fusion-bottom-frame\"></div>\\n\\t\\t<div class=\"fusion-boxed-shadow\"></div>\\n\\t\\t<a class=\"fusion-one-page-text-link fusion-page-load-link\"></a>\\n\\n\\t\\t<div class=\"avada-footer-scripts\">\\n\\t\\t\\t\\t\\t\\t\\t<script type=\\'text/javascript\\'><!--\\r\\n\\t\\t\\tvar seriesdropdown = document.getElementById(\"orgseries_dropdown\");\\r\\n\\t\\t\\tif (seriesdropdown) {\\r\\n\\t\\t\\t function onSeriesChange() {\\r\\n\\t\\t\\t\\t\\tif ( seriesdropdown.options[seriesdropdown.selectedIndex].value != ( 0 || -1 ) ) {\\r\\n\\t\\t\\t\\t\\t\\tlocation.href = \"https://www.engineerspock.com/series/\"+seriesdropdown.options[seriesdropdown.selectedIndex].value;\\r\\n\\t\\t\\t\\t\\t}\\r\\n\\t\\t\\t\\t}\\r\\n\\t\\t\\t\\tseriesdropdown.onchange = onSeriesChange;\\r\\n\\t\\t\\t}\\r\\n\\t\\t\\t--></script>\\r\\n\\t\\t\\t<script async>(function(s,u,m,o,j,v){j=u.createElement(m);v=u.getElementsByTagName(m)[0];j.async=1;j.src=o;j.dataset.sumoSiteId=\\'3125000020303000e0c0a5000eb4b400dfd9f50041feae00d4a35d0093627b00\\';j.dataset.sumoPlatform=\\'wordpress\\';v.parentNode.insertBefore(j,v)})(window,document,\\'script\\',\\'//load.sumo.com/\\');</script>    <script type=\"application/javascript\">\\n      var ajaxurl = \"https://www.engineerspock.com/wp-admin/admin-ajax.php\";\\n\\n      function sumo_add_woocommerce_coupon(code) {\\n        jQuery.post(ajaxurl, {\\n          action: \\'sumo_add_woocommerce_coupon\\',\\n          code: code,\\n        });\\n      }\\n\\n      function sumo_remove_woocommerce_coupon(code) {\\n        jQuery.post(ajaxurl, {\\n          action: \\'sumo_remove_woocommerce_coupon\\',\\n          code: code,\\n        });\\n      }\\n\\n      function sumo_get_woocommerce_cart_subtotal(callback) {\\n        jQuery.ajax({\\n          method: \\'POST\\',\\n          url: ajaxurl,\\n          dataType: \\'html\\',\\n          data: {\\n            action: \\'sumo_get_woocommerce_cart_subtotal\\',\\n          },\\n          success: function(subtotal) {\\n            return callback(null, subtotal);\\n          },\\n          error: function(err) {\\n            return callback(err, 0);\\n          }\\n        });\\n      }\\n    </script>\\n    <script>(function() {function maybePrefixUrlField() {\\n\\tif (this.value.trim() !== \\'\\' && this.value.indexOf(\\'http\\') !== 0) {\\n\\t\\tthis.value = \"http://\" + this.value;\\n\\t}\\n}\\n\\nvar urlFields = document.querySelectorAll(\\'.mc4wp-form input[type=\"url\"]\\');\\nif (urlFields) {\\n\\tfor (var j=0; j < urlFields.length; j++) {\\n\\t\\turlFields[j].addEventListener(\\'blur\\', maybePrefixUrlField);\\n\\t}\\n}\\n})();</script><noscript><style>.lazyload{display:none;}</style></noscript><script data-noptimize=\"1\">window.lazySizesConfig=window.lazySizesConfig||{};window.lazySizesConfig.loadMode=1;</script><script async data-noptimize=\"1\" src=\\'https://www.engineerspock.com/wp-content/plugins/autoptimize/classes/external/js/lazysizes.min.js?ao_version=2.7.6\\'></script><script data-noptimize=\"1\">function c_webp(A){var n=new Image;n.onload=function(){var e=0<n.width&&0<n.height;A(e)},n.onerror=function(){A(!1)},n.src=\\'data:image/webp;base64,UklGRhoAAABXRUJQVlA4TA0AAAAvAAAAEAcQERGIiP4HAA==\\'}function s_webp(e){window.supportsWebP=e}c_webp(s_webp);document.addEventListener(\\'lazybeforeunveil\\',function({target:b}){window.supportsWebP&&[\\'data-src\\',\\'data-srcset\\'].forEach(function(c){attr=b.getAttribute(c),null!==attr&&-1==attr.indexOf(\\'/client/to_webp\\')&&b.setAttribute(c,attr.replace(/\\\\/client\\\\//,\\'/client/to_webp,\\'))})});</script><link rel=\\'stylesheet\\' id=\\'wp-block-library-css\\'  href=\\'https://www.engineerspock.com/wp-includes/css/dist/block-library/style.min.css?ver=5.4.2\\' type=\\'text/css\\' media=\\'all\\' />\\n<link rel=\\'stylesheet\\' id=\\'wp-block-library-theme-css\\'  href=\\'https://www.engineerspock.com/wp-includes/css/dist/block-library/theme.min.css?ver=5.4.2\\' type=\\'text/css\\' media=\\'all\\' />\\n<script type=\\'text/javascript\\'>\\n/* <![CDATA[ */\\nvar countVars = {\"disqusShortname\":\"engineerspock\"};\\n/* ]]> */\\n</script>\\n<script type=\\'text/javascript\\' src=\\'https://www.engineerspock.com/wp-content/plugins/disqus-comment-system/public/js/comment_count.js?ver=3.0.17\\'></script>\\n<script type=\\'text/javascript\\' src=\\'https://www.engineerspock.com/wp-content/plugins/wp-udemy-pro/public/js/scripts.min.js?ver=1.0.11\\'></script>\\n<script type=\\'text/javascript\\' src=\\'https://www.engineerspock.com/wp-content/uploads/fusion-scripts/b4481d6a8cee8a51bb36fdd11917547d.min.js?ver=2.2.3\\'></script>\\n<script type=\\'text/javascript\\' src=\\'https://www.engineerspock.com/wp-includes/js/wp-embed.min.js?ver=5.4.2\\'></script>\\n<script type=\\'text/javascript\\' src=\\'https://www.engineerspock.com/wp-content/plugins/mailchimp-for-wp/assets/js/forms.min.js?ver=4.8\\'></script>\\n\\t\\t\\t\\t<script type=\"text/javascript\">\\n\\t\\t\\t\\tjQuery( document ).ready( function() {\\n\\t\\t\\t\\t\\tvar ajaxurl = \\'https://www.engineerspock.com/wp-admin/admin-ajax.php\\';\\n\\t\\t\\t\\t\\tif ( 0 < jQuery( \\'.fusion-login-nonce\\' ).length ) {\\n\\t\\t\\t\\t\\t\\tjQuery.get( ajaxurl, { \\'action\\': \\'fusion_login_nonce\\' }, function( response ) {\\n\\t\\t\\t\\t\\t\\t\\tjQuery( \\'.fusion-login-nonce\\' ).html( response );\\n\\t\\t\\t\\t\\t\\t});\\n\\t\\t\\t\\t\\t}\\n\\t\\t\\t\\t});\\n\\t\\t\\t\\t</script>\\n\\t\\t\\t\\t\\t\\t</div>\\n\\t</body>\\n</html>\\n\\n\\n<!-- Cache Enabler by KeyCDN @ 28.07.2020 22:02:25 (html) -->'"
      ]
     },
     "execution_count": 11,
     "metadata": {},
     "output_type": "execute_result"
    }
   ],
   "source": [
    "# Можем посмотреть контент в байтах.\n",
    "response = requests.get('https://engineerspock.com/')\n",
    "response.content"
   ]
  },
  {
   "cell_type": "code",
   "execution_count": 9,
   "metadata": {},
   "outputs": [],
   "source": [
    "# Можно явно прописать кодировку.\n",
    "response.encoding = 'utf-8'"
   ]
  },
  {
   "cell_type": "code",
   "execution_count": 10,
   "metadata": {},
   "outputs": [
    {
     "data": {
      "text/plain": [
       "'{\\n  \"current_user_url\": \"https://api.github.com/user\",\\n  \"current_user_authorizations_html_url\": \"https://github.com/settings/connections/applications{/client_id}\",\\n  \"authorizations_url\": \"https://api.github.com/authorizations\",\\n  \"code_search_url\": \"https://api.github.com/search/code?q={query}{&page,per_page,sort,order}\",\\n  \"commit_search_url\": \"https://api.github.com/search/commits?q={query}{&page,per_page,sort,order}\",\\n  \"emails_url\": \"https://api.github.com/user/emails\",\\n  \"emojis_url\": \"https://api.github.com/emojis\",\\n  \"events_url\": \"https://api.github.com/events\",\\n  \"feeds_url\": \"https://api.github.com/feeds\",\\n  \"followers_url\": \"https://api.github.com/user/followers\",\\n  \"following_url\": \"https://api.github.com/user/following{/target}\",\\n  \"gists_url\": \"https://api.github.com/gists{/gist_id}\",\\n  \"hub_url\": \"https://api.github.com/hub\",\\n  \"issue_search_url\": \"https://api.github.com/search/issues?q={query}{&page,per_page,sort,order}\",\\n  \"issues_url\": \"https://api.github.com/issues\",\\n  \"keys_url\": \"https://api.github.com/user/keys\",\\n  \"label_search_url\": \"https://api.github.com/search/labels?q={query}&repository_id={repository_id}{&page,per_page}\",\\n  \"notifications_url\": \"https://api.github.com/notifications\",\\n  \"organization_url\": \"https://api.github.com/orgs/{org}\",\\n  \"organization_repositories_url\": \"https://api.github.com/orgs/{org}/repos{?type,page,per_page,sort}\",\\n  \"organization_teams_url\": \"https://api.github.com/orgs/{org}/teams\",\\n  \"public_gists_url\": \"https://api.github.com/gists/public\",\\n  \"rate_limit_url\": \"https://api.github.com/rate_limit\",\\n  \"repository_url\": \"https://api.github.com/repos/{owner}/{repo}\",\\n  \"repository_search_url\": \"https://api.github.com/search/repositories?q={query}{&page,per_page,sort,order}\",\\n  \"current_user_repositories_url\": \"https://api.github.com/user/repos{?type,page,per_page,sort}\",\\n  \"starred_url\": \"https://api.github.com/user/starred{/owner}{/repo}\",\\n  \"starred_gists_url\": \"https://api.github.com/gists/starred\",\\n  \"user_url\": \"https://api.github.com/users/{user}\",\\n  \"user_organizations_url\": \"https://api.github.com/user/orgs\",\\n  \"user_repositories_url\": \"https://api.github.com/users/{user}/repos{?type,page,per_page,sort}\",\\n  \"user_search_url\": \"https://api.github.com/search/users?q={query}{&page,per_page,sort,order}\"\\n}\\n'"
      ]
     },
     "execution_count": 10,
     "metadata": {},
     "output_type": "execute_result"
    }
   ],
   "source": [
    "response = requests.get('https://api.github.com')\n",
    "response.text"
   ]
  },
  {
   "cell_type": "code",
   "execution_count": 11,
   "metadata": {},
   "outputs": [
    {
     "data": {
      "text/plain": [
       "{'current_user_url': 'https://api.github.com/user',\n",
       " 'current_user_authorizations_html_url': 'https://github.com/settings/connections/applications{/client_id}',\n",
       " 'authorizations_url': 'https://api.github.com/authorizations',\n",
       " 'code_search_url': 'https://api.github.com/search/code?q={query}{&page,per_page,sort,order}',\n",
       " 'commit_search_url': 'https://api.github.com/search/commits?q={query}{&page,per_page,sort,order}',\n",
       " 'emails_url': 'https://api.github.com/user/emails',\n",
       " 'emojis_url': 'https://api.github.com/emojis',\n",
       " 'events_url': 'https://api.github.com/events',\n",
       " 'feeds_url': 'https://api.github.com/feeds',\n",
       " 'followers_url': 'https://api.github.com/user/followers',\n",
       " 'following_url': 'https://api.github.com/user/following{/target}',\n",
       " 'gists_url': 'https://api.github.com/gists{/gist_id}',\n",
       " 'hub_url': 'https://api.github.com/hub',\n",
       " 'issue_search_url': 'https://api.github.com/search/issues?q={query}{&page,per_page,sort,order}',\n",
       " 'issues_url': 'https://api.github.com/issues',\n",
       " 'keys_url': 'https://api.github.com/user/keys',\n",
       " 'label_search_url': 'https://api.github.com/search/labels?q={query}&repository_id={repository_id}{&page,per_page}',\n",
       " 'notifications_url': 'https://api.github.com/notifications',\n",
       " 'organization_url': 'https://api.github.com/orgs/{org}',\n",
       " 'organization_repositories_url': 'https://api.github.com/orgs/{org}/repos{?type,page,per_page,sort}',\n",
       " 'organization_teams_url': 'https://api.github.com/orgs/{org}/teams',\n",
       " 'public_gists_url': 'https://api.github.com/gists/public',\n",
       " 'rate_limit_url': 'https://api.github.com/rate_limit',\n",
       " 'repository_url': 'https://api.github.com/repos/{owner}/{repo}',\n",
       " 'repository_search_url': 'https://api.github.com/search/repositories?q={query}{&page,per_page,sort,order}',\n",
       " 'current_user_repositories_url': 'https://api.github.com/user/repos{?type,page,per_page,sort}',\n",
       " 'starred_url': 'https://api.github.com/user/starred{/owner}{/repo}',\n",
       " 'starred_gists_url': 'https://api.github.com/gists/starred',\n",
       " 'user_url': 'https://api.github.com/users/{user}',\n",
       " 'user_organizations_url': 'https://api.github.com/user/orgs',\n",
       " 'user_repositories_url': 'https://api.github.com/users/{user}/repos{?type,page,per_page,sort}',\n",
       " 'user_search_url': 'https://api.github.com/search/users?q={query}{&page,per_page,sort,order}'}"
      ]
     },
     "execution_count": 11,
     "metadata": {},
     "output_type": "execute_result"
    }
   ],
   "source": [
    "data = response.json()\n",
    "data"
   ]
  },
  {
   "cell_type": "code",
   "execution_count": 12,
   "metadata": {},
   "outputs": [],
   "source": [
    "# Прочитать заголовки.\n",
    "blog_response = requests.get('https://engineerspock.com/')\n",
    "github_response = requests.get('https://api.github.com/')"
   ]
  },
  {
   "cell_type": "code",
   "execution_count": 13,
   "metadata": {},
   "outputs": [
    {
     "name": "stdout",
     "output_type": "stream",
     "text": [
      "{'Date': 'Tue, 25 Aug 2020 07:41:04 GMT', 'Content-Type': 'text/html; charset=UTF-8', 'Transfer-Encoding': 'chunked', 'Connection': 'keep-alive', 'X-Powered-By': 'PHP/7.2.32', 'x-cache-handler': 'wp', 'Last-Modified': 'Tue, 28 Jul 2020 19:02:25 GMT', 'Cache-Control': 'private, must-revalidate', 'Expires': 'Thu, 24 Sep 2020 07:41:04 GMT', 'Vary': 'Accept-Encoding', 'Strict-Transport-Security': 'max-age=31536000', 'Content-Security-Policy': 'upgrade-insecure-requests;', 'X-Turbo-Charged-By': 'LiteSpeed', 'CF-Cache-Status': 'DYNAMIC', 'cf-request-id': '04c6294c0b000016a58d983200000001', 'Expect-CT': 'max-age=604800, report-uri=\"https://report-uri.cloudflare.com/cdn-cgi/beacon/expect-ct\"', 'Server': 'cloudflare', 'CF-RAY': '5c83ab2678f516a5-ARN', 'Content-Encoding': 'gzip'}\n",
      "\n",
      "{'date': 'Tue, 25 Aug 2020 07:41:01 GMT', 'server': 'GitHub.com', 'status': '304 Not Modified', 'cache-control': 'public, max-age=60, s-maxage=60', 'vary': 'Accept, Accept-Encoding, Accept, X-Requested-With, Accept-Encoding', 'etag': '\"c6bac8870a7f94b08b440c3d5873c9ca\"', 'access-control-expose-headers': 'ETag, Link, Location, Retry-After, X-GitHub-OTP, X-RateLimit-Limit, X-RateLimit-Remaining, X-RateLimit-Reset, X-OAuth-Scopes, X-Accepted-OAuth-Scopes, X-Poll-Interval, X-GitHub-Media-Type, Deprecation, Sunset', 'access-control-allow-origin': '*', 'strict-transport-security': 'max-age=31536000; includeSubdomains; preload', 'x-frame-options': 'deny', 'x-content-type-options': 'nosniff', 'x-xss-protection': '1; mode=block', 'referrer-policy': 'origin-when-cross-origin, strict-origin-when-cross-origin', 'content-security-policy': \"default-src 'none'\", 'content-type': 'application/json; charset=utf-8', 'x-github-media-type': 'github.v3; format=json', 'content-encoding': 'gzip', 'X-Ratelimit-Limit': '60', 'X-Ratelimit-Remaining': '57', 'X-Ratelimit-Reset': '1598341678', 'Accept-Ranges': 'bytes', 'Content-Length': '512', 'X-GitHub-Request-Id': '92B0:963B:B4E6EE6:DAD9F90:5F44C090'}\n"
     ]
    }
   ],
   "source": [
    "print(blog_response.headers, end='\\n')\n",
    "print('')\n",
    "print(github_response.headers, end='\\n')"
   ]
  },
  {
   "cell_type": "code",
   "execution_count": 14,
   "metadata": {},
   "outputs": [
    {
     "data": {
      "text/plain": [
       "'text/html; charset=UTF-8'"
      ]
     },
     "execution_count": 14,
     "metadata": {},
     "output_type": "execute_result"
    }
   ],
   "source": [
    "# Теперь мы можем опрашивать заголовки (обращение к именам ключей не чувствительны к регистру, так как http это позволяет).\n",
    "blog_response.headers['content-type']"
   ]
  },
  {
   "cell_type": "code",
   "execution_count": 15,
   "metadata": {},
   "outputs": [
    {
     "data": {
      "text/plain": [
       "[{'postId': 1,\n",
       "  'id': 1,\n",
       "  'name': 'id labore ex et quam laborum',\n",
       "  'email': 'Eliseo@gardner.biz',\n",
       "  'body': 'laudantium enim quasi est quidem magnam voluptate ipsam eos\\ntempora quo necessitatibus\\ndolor quam autem quasi\\nreiciendis et nam sapiente accusantium'},\n",
       " {'postId': 1,\n",
       "  'id': 2,\n",
       "  'name': 'quo vero reiciendis velit similique earum',\n",
       "  'email': 'Jayne_Kuhic@sydney.com',\n",
       "  'body': 'est natus enim nihil est dolore omnis voluptatem numquam\\net omnis occaecati quod ullam at\\nvoluptatem error expedita pariatur\\nnihil sint nostrum voluptatem reiciendis et'},\n",
       " {'postId': 1,\n",
       "  'id': 3,\n",
       "  'name': 'odio adipisci rerum aut animi',\n",
       "  'email': 'Nikita@garfield.biz',\n",
       "  'body': 'quia molestiae reprehenderit quasi aspernatur\\naut expedita occaecati aliquam eveniet laudantium\\nomnis quibusdam delectus saepe quia accusamus maiores nam est\\ncum et ducimus et vero voluptates excepturi deleniti ratione'},\n",
       " {'postId': 1,\n",
       "  'id': 4,\n",
       "  'name': 'alias odio sit',\n",
       "  'email': 'Lew@alysha.tv',\n",
       "  'body': 'non et atque\\noccaecati deserunt quas accusantium unde odit nobis qui voluptatem\\nquia voluptas consequuntur itaque dolor\\net qui rerum deleniti ut occaecati'},\n",
       " {'postId': 1,\n",
       "  'id': 5,\n",
       "  'name': 'vero eaque aliquid doloribus et culpa',\n",
       "  'email': 'Hayden@althea.biz',\n",
       "  'body': 'harum non quasi et ratione\\ntempore iure ex voluptates in ratione\\nharum architecto fugit inventore cupiditate\\nvoluptates magni quo et'}]"
      ]
     },
     "execution_count": 15,
     "metadata": {},
     "output_type": "execute_result"
    }
   ],
   "source": [
    "placeholder_response = requests.get('http://jsonplaceholder.typicode.com/comments', params=b'postId=1')\n",
    "placeholder_response.json()"
   ]
  },
  {
   "cell_type": "code",
   "execution_count": 16,
   "metadata": {},
   "outputs": [],
   "source": [
    "import json\n",
    "class Tournament:\n",
    "    \n",
    "    def __init__(self, name, year):\n",
    "        self.name = name\n",
    "        self.year = year\n",
    "\n",
    "    @classmethod \n",
    "    def from_json(cls, json_data): \n",
    "        return cls(**json_data)\n",
    "class ChessPlayer:\n",
    "    \n",
    "    def __init__(self, tournaments):\n",
    "        self.tournaments = tournaments\n",
    "        \n",
    "\n",
    "    @classmethod\n",
    "    def from_json(cls, json_data):\n",
    "        tournaments = list(map(Tournament.from_json, json_data['tournaments']))\n",
    "        return cls(tournaments)\n",
    "\n",
    "    \n",
    "t1 = Tournament('Aeroflot Open', 2010)\n",
    "t2 = Tournament('Fide World Cup', 2018)\n",
    "t3 = Tournament('Fide Grand Prix', 2020)\n",
    "\n",
    "p1 = ChessPlayer([t1, t2, t3])\n",
    "\n",
    "json_data = json.dumps(p1, default=lambda obj: obj.__dict__, indent=4, sort_keys=True)"
   ]
  },
  {
   "cell_type": "code",
   "execution_count": 17,
   "metadata": {},
   "outputs": [],
   "source": [
    "response = requests.post('https://httpbin.org/post', json=json_data)\n",
    "json_response = response.json()"
   ]
  },
  {
   "cell_type": "code",
   "execution_count": 18,
   "metadata": {},
   "outputs": [
    {
     "name": "stdout",
     "output_type": "stream",
     "text": [
      "\"{\\n    \\\"tournaments\\\": [\\n        {\\n            \\\"name\\\": \\\"Aeroflot Open\\\",\\n            \\\"year\\\": 2010\\n        },\\n        {\\n            \\\"name\\\": \\\"Fide World Cup\\\",\\n            \\\"year\\\": 2018\\n        },\\n        {\\n            \\\"name\\\": \\\"Fide Grand Prix\\\",\\n            \\\"year\\\": 2020\\n        }\\n    ]\\n}\"\n"
     ]
    }
   ],
   "source": [
    "print(json_response['data'])"
   ]
  },
  {
   "cell_type": "code",
   "execution_count": 19,
   "metadata": {},
   "outputs": [
    {
     "data": {
      "text/plain": [
       "'application/json'"
      ]
     },
     "execution_count": 19,
     "metadata": {},
     "output_type": "execute_result"
    }
   ],
   "source": [
    "json_response['headers']['Content-Type']"
   ]
  },
  {
   "cell_type": "code",
   "execution_count": 20,
   "metadata": {},
   "outputs": [
    {
     "name": "stdin",
     "output_type": "stream",
     "text": [
      " ···········\n"
     ]
    }
   ],
   "source": [
    "from getpass import getpass\n",
    "auth_responce = requests.get('https://api.github.com/user', auth=('DontTouchMyMind', getpass()))"
   ]
  },
  {
   "cell_type": "code",
   "execution_count": 21,
   "metadata": {},
   "outputs": [
    {
     "data": {
      "text/plain": [
       "{'login': 'DontTouchMyMind',\n",
       " 'id': 43029014,\n",
       " 'node_id': 'MDQ6VXNlcjQzMDI5MDE0',\n",
       " 'avatar_url': 'https://avatars2.githubusercontent.com/u/43029014?v=4',\n",
       " 'gravatar_id': '',\n",
       " 'url': 'https://api.github.com/users/DontTouchMyMind',\n",
       " 'html_url': 'https://github.com/DontTouchMyMind',\n",
       " 'followers_url': 'https://api.github.com/users/DontTouchMyMind/followers',\n",
       " 'following_url': 'https://api.github.com/users/DontTouchMyMind/following{/other_user}',\n",
       " 'gists_url': 'https://api.github.com/users/DontTouchMyMind/gists{/gist_id}',\n",
       " 'starred_url': 'https://api.github.com/users/DontTouchMyMind/starred{/owner}{/repo}',\n",
       " 'subscriptions_url': 'https://api.github.com/users/DontTouchMyMind/subscriptions',\n",
       " 'organizations_url': 'https://api.github.com/users/DontTouchMyMind/orgs',\n",
       " 'repos_url': 'https://api.github.com/users/DontTouchMyMind/repos',\n",
       " 'events_url': 'https://api.github.com/users/DontTouchMyMind/events{/privacy}',\n",
       " 'received_events_url': 'https://api.github.com/users/DontTouchMyMind/received_events',\n",
       " 'type': 'User',\n",
       " 'site_admin': False,\n",
       " 'name': 'Mikhail',\n",
       " 'company': None,\n",
       " 'blog': '',\n",
       " 'location': None,\n",
       " 'email': None,\n",
       " 'hireable': None,\n",
       " 'bio': None,\n",
       " 'twitter_username': None,\n",
       " 'public_repos': 4,\n",
       " 'public_gists': 0,\n",
       " 'followers': 0,\n",
       " 'following': 1,\n",
       " 'created_at': '2018-09-06T08:01:13Z',\n",
       " 'updated_at': '2020-08-25T07:12:25Z',\n",
       " 'private_gists': 0,\n",
       " 'total_private_repos': 0,\n",
       " 'owned_private_repos': 0,\n",
       " 'disk_usage': 1148,\n",
       " 'collaborators': 0,\n",
       " 'two_factor_authentication': False,\n",
       " 'plan': {'name': 'free',\n",
       "  'space': 976562499,\n",
       "  'collaborators': 0,\n",
       "  'private_repos': 10000}}"
      ]
     },
     "execution_count": 21,
     "metadata": {},
     "output_type": "execute_result"
    }
   ],
   "source": [
    "auth_responce.json()"
   ]
  },
  {
   "cell_type": "code",
   "execution_count": 22,
   "metadata": {},
   "outputs": [],
   "source": [
    "# Timeout необходимо определять.\n",
    "from requests.exceptions import Timeout\n",
    "\n",
    "try:\n",
    "    response = requests.get('https://engineerspock.com', timeout=1)\n",
    "except Timeout:\n",
    "    print('The request timed out')"
   ]
  },
  {
   "cell_type": "code",
   "execution_count": 23,
   "metadata": {},
   "outputs": [
    {
     "data": {
      "text/plain": [
       "<Response [200]>"
      ]
     },
     "execution_count": 23,
     "metadata": {},
     "output_type": "execute_result"
    }
   ],
   "source": [
    "response"
   ]
  },
  {
   "cell_type": "code",
   "execution_count": 25,
   "metadata": {},
   "outputs": [
    {
     "name": "stdin",
     "output_type": "stream",
     "text": [
      " ···········\n"
     ]
    },
    {
     "name": "stdout",
     "output_type": "stream",
     "text": [
      "{'login': 'DontTouchMyMind', 'id': 43029014, 'node_id': 'MDQ6VXNlcjQzMDI5MDE0', 'avatar_url': 'https://avatars2.githubusercontent.com/u/43029014?v=4', 'gravatar_id': '', 'url': 'https://api.github.com/users/DontTouchMyMind', 'html_url': 'https://github.com/DontTouchMyMind', 'followers_url': 'https://api.github.com/users/DontTouchMyMind/followers', 'following_url': 'https://api.github.com/users/DontTouchMyMind/following{/other_user}', 'gists_url': 'https://api.github.com/users/DontTouchMyMind/gists{/gist_id}', 'starred_url': 'https://api.github.com/users/DontTouchMyMind/starred{/owner}{/repo}', 'subscriptions_url': 'https://api.github.com/users/DontTouchMyMind/subscriptions', 'organizations_url': 'https://api.github.com/users/DontTouchMyMind/orgs', 'repos_url': 'https://api.github.com/users/DontTouchMyMind/repos', 'events_url': 'https://api.github.com/users/DontTouchMyMind/events{/privacy}', 'received_events_url': 'https://api.github.com/users/DontTouchMyMind/received_events', 'type': 'User', 'site_admin': False, 'name': 'Mikhail', 'company': None, 'blog': '', 'location': None, 'email': None, 'hireable': None, 'bio': None, 'twitter_username': None, 'public_repos': 4, 'public_gists': 0, 'followers': 0, 'following': 1, 'created_at': '2018-09-06T08:01:13Z', 'updated_at': '2020-08-25T07:12:25Z', 'private_gists': 0, 'total_private_repos': 0, 'owned_private_repos': 0, 'disk_usage': 1148, 'collaborators': 0, 'two_factor_authentication': False, 'plan': {'name': 'free', 'space': 976562499, 'collaborators': 0, 'private_repos': 10000}}\n"
     ]
    }
   ],
   "source": [
    "# Когда мы используем get() или post() создается новое подключение к удаленному серверу.\n",
    "# Нам часто требуется создать соединение, работать с ним, а потом его закрыть.\n",
    "# Что бы держать наше соединение авторизованным, а так же экономить процессорное время и память.\n",
    "# Создавать conection'ы - это не бесплатно!\n",
    "\n",
    "with requests.Session() as session: # Необхдима для того что бы работать с подключениями сессионо.\n",
    "    session.auth = ('DontTouchMyMind', getpass())\n",
    "\n",
    "    response = session.get('https://api.github.com/user')\n",
    "    # Теперь соединение открыто и мы можем что-то делать.\n",
    "    \n",
    "print(response.json()) # Как только мы выйдем из with соединение автоматически закроется."
   ]
  },
  {
   "cell_type": "code",
   "execution_count": 26,
   "metadata": {},
   "outputs": [],
   "source": [
    "# Иногда необходимо прописать кол-во повторений для запроса.\n",
    "# Это один из механизмов обеспечения устойчивости.\n",
    "from requests.adapters import HTTPAdapter"
   ]
  },
  {
   "cell_type": "code",
   "execution_count": 27,
   "metadata": {},
   "outputs": [],
   "source": [
    "adapter = HTTPAdapter(max_retries=3)"
   ]
  },
  {
   "cell_type": "code",
   "execution_count": 28,
   "metadata": {},
   "outputs": [
    {
     "name": "stdin",
     "output_type": "stream",
     "text": [
      " ·\n"
     ]
    },
    {
     "name": "stdout",
     "output_type": "stream",
     "text": [
      "Ok\n"
     ]
    }
   ],
   "source": [
    "with requests.Session() as session: # Необхдима для того что бы работать с подключениями сессионо.\n",
    "    # Этот адаптер будет использоваться для всех запросов в качестве корня тот url, который мы передаем.\n",
    "    session.mount('https://api.github.com/', adapter) # Монтируем адаптер\n",
    "    session.auth = ('DontTouchMyMind', getpass())\n",
    "    # Далее создадим запрос.\n",
    "    try:\n",
    "        session.get('https://api.github.com/user')\n",
    "    except ConnectionError as err:\n",
    "        print(f'Failed to connect:{err}')\n",
    "    else:\n",
    "        print('Ok')"
   ]
  }
 ],
 "metadata": {
  "kernelspec": {
   "display_name": "Python 3",
   "language": "python",
   "name": "python3"
  },
  "language_info": {
   "codemirror_mode": {
    "name": "ipython",
    "version": 3
   },
   "file_extension": ".py",
   "mimetype": "text/x-python",
   "name": "python",
   "nbconvert_exporter": "python",
   "pygments_lexer": "ipython3",
   "version": "3.6.9"
  }
 },
 "nbformat": 4,
 "nbformat_minor": 4
}
