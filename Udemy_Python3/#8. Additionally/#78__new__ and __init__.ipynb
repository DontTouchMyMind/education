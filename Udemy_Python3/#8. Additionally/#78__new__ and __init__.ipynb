{
 "cells": [
  {
   "cell_type": "code",
   "execution_count": 1,
   "metadata": {},
   "outputs": [],
   "source": [
    "# Как конструируются объекты в Python3."
   ]
  },
  {
   "cell_type": "code",
   "execution_count": 2,
   "metadata": {},
   "outputs": [],
   "source": [
    "class Character:\n",
    "    \n",
    "    def __init__(self):\n",
    "        self.race = 'Elf'"
   ]
  },
  {
   "cell_type": "code",
   "execution_count": 3,
   "metadata": {},
   "outputs": [
    {
     "data": {
      "text/plain": [
       "'Elf'"
      ]
     },
     "execution_count": 3,
     "metadata": {},
     "output_type": "execute_result"
    }
   ],
   "source": [
    "c = Character()\n",
    "c.race"
   ]
  },
  {
   "cell_type": "code",
   "execution_count": 4,
   "metadata": {},
   "outputs": [],
   "source": [
    "# За непосредственное алоцирование отвечает метод __new__.\n",
    "# __new__ - это специализированный dunder-метод, кто. относится к конструированию объектов.\n",
    "# В Python этап флоцирования объектов в памяти и этап ининциализации уже алоцированного объета разделены."
   ]
  },
  {
   "cell_type": "code",
   "execution_count": 5,
   "metadata": {},
   "outputs": [],
   "source": [
    "class Character(): # class Character(object):\n",
    "    \n",
    "    def __new__(cls): # Этот метод тоже статический.\n",
    "        # Здесь cls уже не ссылка на экземпляр класса, как в @classmethod.\n",
    "        # Это специальный объект, кот. несет в себе информацию о классе.\n",
    "        # Все классы неявным образом наследуются от типа object.\n",
    "        # object - специальный тип в Python3, кот. занимает вершину иерархии объектов.\n",
    "        obj = super().__new__(cls) # Обращаемся к родителю(object) и вызываем у него __new__.\n",
    "        return obj\n",
    "    # Реализация выше, это реализация по умолччанию и она от нас скрыта.\n",
    "    # И только после этой операции вызывается непосредственная ининциализация класса.\n",
    "        \n",
    "    def __init__(self):\n",
    "        self.race = 'Elf'"
   ]
  },
  {
   "cell_type": "code",
   "execution_count": 6,
   "metadata": {},
   "outputs": [
    {
     "data": {
      "text/plain": [
       "'Elf'"
      ]
     },
     "execution_count": 6,
     "metadata": {},
     "output_type": "execute_result"
    }
   ],
   "source": [
    "c = Character()\n",
    "c.race"
   ]
  },
  {
   "cell_type": "code",
   "execution_count": 7,
   "metadata": {},
   "outputs": [],
   "source": [
    "# Кроме того __new__ может быть употреблен с практической точки зрения.\n",
    "# В программировании есть такое понятие как шаблон.\n",
    "# Это некие универсальные подходы, кот. применяются для решения типичных задач.\n",
    "# В программировании существует паттерн Singleton. Он необходим, что бы сделать класс \"одиночкой\".\n",
    "# Т.е. этот шаблон проектирования, позволяет реализовать класс таким образом,\n",
    "# что более одной инстанции этого класса создать будет невозможно. Для этого можно использовать __new__."
   ]
  },
  {
   "cell_type": "code",
   "execution_count": null,
   "metadata": {},
   "outputs": [],
   "source": [
    "class Character(): # class Character(object):\n",
    "    \n",
    "    _instance = None\n",
    "    \n",
    "    def __new__(cls): # Этот метод тоже статический\n",
    "        if not cls._instance:\n",
    "            cls._instance = super().__new__(cls) \n",
    "        return cls._instance\n",
    "    \n",
    "    def __init__(self):\n",
    "        self.race = 'Elf'"
   ]
  }
 ],
 "metadata": {
  "kernelspec": {
   "display_name": "Python 3",
   "language": "python",
   "name": "python3"
  },
  "language_info": {
   "codemirror_mode": {
    "name": "ipython",
    "version": 3
   },
   "file_extension": ".py",
   "mimetype": "text/x-python",
   "name": "python",
   "nbconvert_exporter": "python",
   "pygments_lexer": "ipython3",
   "version": "3.6.9"
  }
 },
 "nbformat": 4,
 "nbformat_minor": 4
}
