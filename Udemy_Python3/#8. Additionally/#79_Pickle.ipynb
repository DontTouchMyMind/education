{
 "cells": [
  {
   "cell_type": "code",
   "execution_count": 1,
   "metadata": {},
   "outputs": [],
   "source": [
    "# Сериализация данных - процесс перевода какой либо структуры данных в последовательность битов.\n",
    "# Обратная оперция - десериализация.\n",
    "# В Python процесс сериализации называется пиклинг (Pickle - перев. \"консервирование\")."
   ]
  },
  {
   "cell_type": "code",
   "execution_count": 2,
   "metadata": {},
   "outputs": [],
   "source": [
    "class Character:\n",
    "    \n",
    "    def __init__(self, race, damage = 10):\n",
    "        self.race = race\n",
    "        self.damage = damage\n",
    "        self.health = 100\n",
    "        \n",
    "    def hit(self, damage):\n",
    "        self.health -= damage\n",
    "        \n",
    "    def is_dead(self):\n",
    "        return self.health == 0"
   ]
  },
  {
   "cell_type": "code",
   "execution_count": 3,
   "metadata": {},
   "outputs": [
    {
     "data": {
      "text/plain": [
       "90"
      ]
     },
     "execution_count": 3,
     "metadata": {},
     "output_type": "execute_result"
    }
   ],
   "source": [
    "c = Character('Elf')\n",
    "c.hit(10)\n",
    "c.health"
   ]
  },
  {
   "cell_type": "code",
   "execution_count": 4,
   "metadata": {},
   "outputs": [],
   "source": [
    "# Попробуем сохранить данные объекта c в файл.\n",
    "import pickle\n",
    "\n",
    "with open(r'/media/WorkSpace/Project/Python/git/education/Udemy_Python3/#8. Additionally/game_state.bin', 'w+b') as f:\n",
    "    pickle.dump(c, f)"
   ]
  },
  {
   "cell_type": "code",
   "execution_count": 5,
   "metadata": {},
   "outputs": [
    {
     "name": "stdout",
     "output_type": "stream",
     "text": [
      "None\n"
     ]
    }
   ],
   "source": [
    "c = None\n",
    "print(c)"
   ]
  },
  {
   "cell_type": "code",
   "execution_count": 6,
   "metadata": {},
   "outputs": [
    {
     "name": "stdout",
     "output_type": "stream",
     "text": [
      "90\n"
     ]
    }
   ],
   "source": [
    "with open(r'/media/WorkSpace/Project/Python/git/education/Udemy_Python3/#8. Additionally/game_state.bin', 'rb') as f:\n",
    "    c = pickle.load(f)\n",
    "\n",
    "print(c.health)"
   ]
  },
  {
   "cell_type": "code",
   "execution_count": 7,
   "metadata": {},
   "outputs": [
    {
     "name": "stdout",
     "output_type": "stream",
     "text": [
      "{'race': 'Elf', 'damage': 10, 'health': 90}\n"
     ]
    }
   ],
   "source": [
    "print(c.__dict__) # Возвращает состояние объекта в виде словаря."
   ]
  },
  {
   "cell_type": "code",
   "execution_count": 8,
   "metadata": {},
   "outputs": [
    {
     "name": "stdout",
     "output_type": "stream",
     "text": [
      "{'race': 'Elf', 'damage': 10, 'health': 90}\n"
     ]
    }
   ],
   "source": [
    "# У бинарной сериализации есть проблема с обратной совместимостью.\n",
    "# При процессе анпиклинга инициализация не происходит.\n",
    "# Вызывается только __new__, a __init__ - нет.\n",
    "class Character:\n",
    "    \n",
    "    def __init__(self, race, armor, damage = 10):\n",
    "        self.race = race\n",
    "        self.armor = armor\n",
    "        self.damage = damage\n",
    "        self.health = 100\n",
    "        \n",
    "    def hit(self, damage):\n",
    "        self.health -= damage\n",
    "        \n",
    "    def is_dead(self):\n",
    "        return self.health == 0\n",
    "    \n",
    "with open(r'/media/WorkSpace/Project/Python/git/education/Udemy_Python3/#8. Additionally/game_state.bin', 'rb') as f:\n",
    "    c = pickle.load(f)\n",
    "\n",
    "print(c.__dict__)"
   ]
  },
  {
   "cell_type": "code",
   "execution_count": 9,
   "metadata": {},
   "outputs": [
    {
     "name": "stdout",
     "output_type": "stream",
     "text": [
      "{'race': 'Elf', 'armor': 20, 'damage': 10, 'health': 90}\n"
     ]
    }
   ],
   "source": [
    "# В этом случае мы можем воспользоваться Dunder-мтодами.\n",
    "# Мы можем более детализированно управлявлять процессами сериализации и десериализации\n",
    "# с помощью __setstate__ и __getstate__.\n",
    "# Метод __getstate__ определяет то что будет пиклится,\n",
    "# а метод __setstate__ - отвечает за процесс анпиклинга.\n",
    "\n",
    "class Character:\n",
    "    \n",
    "    def __init__(self, race, armor, damage = 10):\n",
    "        self.race = race\n",
    "        self.armor = armor\n",
    "        self.damage = damage\n",
    "        self.health = 100\n",
    "        \n",
    "    def hit(self, damage):\n",
    "        self.health -= damage\n",
    "        \n",
    "    def is_dead(self):\n",
    "        return self.health == 0\n",
    "    \n",
    "    #def __getstate__(self): # То что пропишем здесь, будет складываться в файл.\n",
    "    \n",
    "    def __setstate__(self, state): # state забирает из бинарных данных.\n",
    "        # Далее определяем процесс десириализации.\n",
    "        self.race = state.get('race', 'Elf') # 'Elf' - по умолчанию.\n",
    "        self.armor = state.get('armor', 20)\n",
    "        self.damage = state.get('damage', 10)\n",
    "        self.health = state.get('health', 100)\n",
    "        \n",
    "with open(r'/media/WorkSpace/Project/Python/git/education/Udemy_Python3/#8. Additionally/game_state.bin', 'rb') as f:\n",
    "    c = pickle.load(f)\n",
    "\n",
    "print(c.__dict__)"
   ]
  }
 ],
 "metadata": {
  "kernelspec": {
   "display_name": "Python 3",
   "language": "python",
   "name": "python3"
  },
  "language_info": {
   "codemirror_mode": {
    "name": "ipython",
    "version": 3
   },
   "file_extension": ".py",
   "mimetype": "text/x-python",
   "name": "python",
   "nbconvert_exporter": "python",
   "pygments_lexer": "ipython3",
   "version": "3.6.9"
  }
 },
 "nbformat": 4,
 "nbformat_minor": 4
}
