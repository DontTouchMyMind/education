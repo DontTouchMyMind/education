{
 "cells": [
  {
   "cell_type": "code",
   "execution_count": 1,
   "metadata": {},
   "outputs": [],
   "source": [
    "# Все генераторы являся итераторами, но не все итераторы являются генераторами.\n",
    "# Генератор возвращает значения с помощью yield, а итераторы не обязаны содержать yield!"
   ]
  },
  {
   "cell_type": "code",
   "execution_count": 2,
   "metadata": {},
   "outputs": [],
   "source": [
    "# Следует различать понятия объекта-итератора и итерируемого объекта.\n",
    "# Итератор это объект, который используется для итерации по итерируемому объекту, используя next() duner-метод.\n",
    "\n",
    "# Справедливо следующее утверждение: любой объект-итератор итерируем, но не любой итерируемый объект является объектом-итератором.\n",
    "# Напр.: list итерируем, но само по себе итератором не является. Что бы получить итератор из итерируемого объекта,\n",
    "#     надо воспользоваться методом iter(), который, собственно, и возвращает объект-итератор."
   ]
  },
  {
   "cell_type": "code",
   "execution_count": 3,
   "metadata": {},
   "outputs": [
    {
     "name": "stdout",
     "output_type": "stream",
     "text": [
      "<class 'list_iterator'>\n",
      "1\n",
      "2\n",
      "3\n"
     ]
    }
   ],
   "source": [
    "iterable = [1, 2, 3]\n",
    "\n",
    "iterator = iter(iterable) # Будет вызван метод __iter__(), реализованный списком.\n",
    "print(type(iterator))\n",
    "\n",
    "print(next(iterator)) # Будет вызван метод __next__(), реализованный ввнутри iterator.\n",
    "print(next(iterator))\n",
    "print(next(iterator))"
   ]
  },
  {
   "cell_type": "code",
   "execution_count": 2,
   "metadata": {},
   "outputs": [],
   "source": [
    "import itertools as it"
   ]
  },
  {
   "cell_type": "code",
   "execution_count": 5,
   "metadata": {},
   "outputs": [
    {
     "name": "stdout",
     "output_type": "stream",
     "text": [
      "[0, 2, 4, 6, 8]\n"
     ]
    }
   ],
   "source": [
    "# Cгенерируем четные числа.\n",
    "even_numbers = [x for x in range(10) if x % 2 == 0] # Можно сделать и с list comprehentions.\n",
    "print(even_numbers) # Результаты сразу начнут вычисляться и занимать место в памяти."
   ]
  },
  {
   "cell_type": "code",
   "execution_count": 6,
   "metadata": {},
   "outputs": [
    {
     "data": {
      "text/plain": [
       "count(0, 2)"
      ]
     },
     "execution_count": 6,
     "metadata": {},
     "output_type": "execute_result"
    }
   ],
   "source": [
    "even_numbers = it.count(0, 2)\n",
    "even_numbers # Бесконечный итератор."
   ]
  },
  {
   "cell_type": "code",
   "execution_count": 7,
   "metadata": {},
   "outputs": [],
   "source": [
    "# Бесконечный цикл.\n",
    "# for i in even_numbers:\n",
    "#     print(i)"
   ]
  },
  {
   "cell_type": "code",
   "execution_count": 8,
   "metadata": {},
   "outputs": [
    {
     "data": {
      "text/plain": [
       "[0, 2, 4, 6, 8]"
      ]
     },
     "execution_count": 8,
     "metadata": {},
     "output_type": "execute_result"
    }
   ],
   "source": [
    "list(next(even_numbers) for _ in range(5))"
   ]
  },
  {
   "cell_type": "code",
   "execution_count": 9,
   "metadata": {},
   "outputs": [
    {
     "data": {
      "text/plain": [
       "[(0, 'a'), (1, 'b'), (2, 'c')]"
      ]
     },
     "execution_count": 9,
     "metadata": {},
     "output_type": "execute_result"
    }
   ],
   "source": [
    "list(zip(it.count(), ['a', 'b', 'c'])) # Аналог enumerate по списку [a,b,c]"
   ]
  },
  {
   "cell_type": "code",
   "execution_count": 10,
   "metadata": {},
   "outputs": [],
   "source": [
    "# Это дает нам возможность пройтись по списку без цикла, т.е. мы можем пройтись по списку незная его длины."
   ]
  },
  {
   "cell_type": "code",
   "execution_count": 15,
   "metadata": {},
   "outputs": [],
   "source": [
    "# Иногда нам необходимо сгенерировать последовательность из повторяющихся элементов.\n",
    "def print_iterable(iterable, end=None):\n",
    "    for x in iterable:\n",
    "        if end:\n",
    "            print(x, end = end)\n",
    "        else:\n",
    "            print(x)"
   ]
  },
  {
   "cell_type": "code",
   "execution_count": 12,
   "metadata": {},
   "outputs": [
    {
     "name": "stdout",
     "output_type": "stream",
     "text": [
      "1 1 1 1 1 "
     ]
    }
   ],
   "source": [
    "ones = it.repeat(1, 5) # itertools.repeat - позволяет сгенерировать значение определенное кол-во раз.\n",
    "print_iterable(ones, ' ')"
   ]
  },
  {
   "cell_type": "code",
   "execution_count": 13,
   "metadata": {},
   "outputs": [
    {
     "data": {
      "text/plain": [
       "[0, 1, 4, 9, 16, 25, 36, 49, 64, 81]"
      ]
     },
     "execution_count": 13,
     "metadata": {},
     "output_type": "execute_result"
    }
   ],
   "source": [
    "# itertools.repeat - служит для генерации потока состоящего из одной константы, для использования в функциях map и zip.\n",
    "# Напр.: можно весьма эффективно сгенерировать последовательность квадратов натуральных чисел.\n",
    "list(map(pow, range(10), it.repeat(2)))"
   ]
  },
  {
   "cell_type": "code",
   "execution_count": 3,
   "metadata": {},
   "outputs": [],
   "source": [
    "# При организации цикла с большим количеством операций repeat будет работать быстрее чем range.\n",
    "for _ in it.repeat(None, 10000): # repeat будет управлять счечиком объекта None.\n",
    "    pass\n",
    "for _ in range(10000): # В памяти создастся 10000 значений.\n",
    "    pass"
   ]
  },
  {
   "cell_type": "code",
   "execution_count": 5,
   "metadata": {},
   "outputs": [
    {
     "name": "stdout",
     "output_type": "stream",
     "text": [
      "[1, -1, 1, -1, 1, -1, 1, -1, 1, -1]\n",
      "['A', 'B', 'C', 'A', 'B', 'C', 'A', 'B', 'C', 'A']\n"
     ]
    }
   ],
   "source": [
    "# Если мы хотим создать бесконечный итератор по набору значений, то можем использовать cycle.\n",
    "pos_neg_ones = it.cycle([1, -1])\n",
    "print(list(next(pos_neg_ones) for _ in range(10)))\n",
    "\n",
    "letters = it.cycle(['A', 'B', 'C'])\n",
    "print(list(next(letters) for _ in range(10)))"
   ]
  },
  {
   "cell_type": "code",
   "execution_count": 6,
   "metadata": {},
   "outputs": [
    {
     "data": {
      "text/plain": [
       "[1, 3, 6, 10, 15]"
      ]
     },
     "execution_count": 6,
     "metadata": {},
     "output_type": "execute_result"
    }
   ],
   "source": [
    "list(it.accumulate([1, 2, 3, 4, 5])) # Нарастающая сумма."
   ]
  },
  {
   "cell_type": "code",
   "execution_count": 7,
   "metadata": {},
   "outputs": [
    {
     "data": {
      "text/plain": [
       "['A', 'AB', 'ABC']"
      ]
     },
     "execution_count": 7,
     "metadata": {},
     "output_type": "execute_result"
    }
   ],
   "source": [
    "list(it.accumulate(['A', 'B', 'C']))"
   ]
  },
  {
   "cell_type": "code",
   "execution_count": 8,
   "metadata": {},
   "outputs": [
    {
     "data": {
      "text/plain": [
       "[3, 3, 4, 4, 7, 7, 8, 8, 9]"
      ]
     },
     "execution_count": 8,
     "metadata": {},
     "output_type": "execute_result"
    }
   ],
   "source": [
    "list(it.accumulate([3, 1, 4, 2, 7, 3, 8, 5, 9], max)) # Первый эл-т выходной последовательности всегда 1 эл-т входной."
   ]
  },
  {
   "cell_type": "code",
   "execution_count": 9,
   "metadata": {},
   "outputs": [
    {
     "data": {
      "text/plain": [
       "['A', 'B', 'C', 'D', 'E', 'F']"
      ]
     },
     "execution_count": 9,
     "metadata": {},
     "output_type": "execute_result"
    }
   ],
   "source": [
    "list(it.chain('ABC','DEF'))"
   ]
  },
  {
   "cell_type": "code",
   "execution_count": 10,
   "metadata": {},
   "outputs": [
    {
     "data": {
      "text/plain": [
       "['A', 'B', 'C', 'D', 'E', 'F']"
      ]
     },
     "execution_count": 10,
     "metadata": {},
     "output_type": "execute_result"
    }
   ],
   "source": [
    "list(it.chain.from_iterable(['ABC','DEF']))"
   ]
  },
  {
   "cell_type": "code",
   "execution_count": 11,
   "metadata": {},
   "outputs": [
    {
     "data": {
      "text/plain": [
       "[1, 2, 3, 4, 5, 6, 7, 8, 9]"
      ]
     },
     "execution_count": 11,
     "metadata": {},
     "output_type": "execute_result"
    }
   ],
   "source": [
    "list(it.chain([1, 2, 3], [4, 5, 6], [7, 8, 9]))"
   ]
  },
  {
   "cell_type": "code",
   "execution_count": 12,
   "metadata": {},
   "outputs": [
    {
     "data": {
      "text/plain": [
       "[3, 4, 5]"
      ]
     },
     "execution_count": 12,
     "metadata": {},
     "output_type": "execute_result"
    }
   ],
   "source": [
    "list(it.dropwhile(lambda x: x < 3, [1, 2, 3, 4, 5]))"
   ]
  },
  {
   "cell_type": "code",
   "execution_count": 13,
   "metadata": {},
   "outputs": [
    {
     "data": {
      "text/plain": [
       "[1, 2]"
      ]
     },
     "execution_count": 13,
     "metadata": {},
     "output_type": "execute_result"
    }
   ],
   "source": [
    "list(it.takewhile(lambda x: x < 3, [1, 2, 3, 4, 5]))"
   ]
  },
  {
   "cell_type": "code",
   "execution_count": 14,
   "metadata": {},
   "outputs": [
    {
     "data": {
      "text/plain": [
       "[1, 3, 5, 7, 9]"
      ]
     },
     "execution_count": 14,
     "metadata": {},
     "output_type": "execute_result"
    }
   ],
   "source": [
    "list(it.filterfalse(lambda x: x % 2 == 0, range(10)))"
   ]
  },
  {
   "cell_type": "code",
   "execution_count": 16,
   "metadata": {},
   "outputs": [
    {
     "name": "stdout",
     "output_type": "stream",
     "text": [
      "1 2 3 \n",
      "iterable is exausted\n"
     ]
    }
   ],
   "source": [
    "iterable = iter([1, 2, 3])\n",
    "print_iterable(iterable, ' ')\n",
    "print('\\niterable is exausted')\n",
    "print_iterable(iterable, ' ')"
   ]
  },
  {
   "cell_type": "code",
   "execution_count": 17,
   "metadata": {},
   "outputs": [
    {
     "name": "stdout",
     "output_type": "stream",
     "text": [
      "1 2 3 \n",
      "iterable is exausted\n",
      "1 2 3 "
     ]
    }
   ],
   "source": [
    "# Если хотим пройтись по итератору более одного раза.\n",
    "iterable1, iterable2 = it.tee([1, 2, 3], 2)\n",
    "print_iterable(iterable1, ' ')\n",
    "print('\\niterable is exausted')\n",
    "print_iterable(iterable2, ' ')"
   ]
  },
  {
   "cell_type": "code",
   "execution_count": 19,
   "metadata": {},
   "outputs": [
    {
     "name": "stdout",
     "output_type": "stream",
     "text": [
      "Carlsen:2842\n",
      "Caruana:2822\n",
      "Mamedyarov:2801\n",
      "Ding:2797\n",
      "Giri:2780\n"
     ]
    }
   ],
   "source": [
    "names = ['Carlsen', 'Caruana', 'Mamedyarov', 'Ding', 'Giri']\n",
    "ratings = [2842, 2822, 2801, 2797, 2780]\n",
    "\n",
    "for name, rating in zip(names, ratings):\n",
    "    print(f'{name}:{rating}')"
   ]
  },
  {
   "cell_type": "code",
   "execution_count": 20,
   "metadata": {},
   "outputs": [
    {
     "data": {
      "text/plain": [
       "[('Carlsen', 2842),\n",
       " ('Caruana', 2822),\n",
       " ('Mamedyarov', 2801),\n",
       " ('Ding', 2797),\n",
       " ('Giri', 2780)]"
      ]
     },
     "execution_count": 20,
     "metadata": {},
     "output_type": "execute_result"
    }
   ],
   "source": [
    "list(zip(names, ratings))"
   ]
  },
  {
   "cell_type": "code",
   "execution_count": 21,
   "metadata": {},
   "outputs": [],
   "source": [
    "players = dict(zip(names, ratings))"
   ]
  },
  {
   "cell_type": "code",
   "execution_count": 22,
   "metadata": {},
   "outputs": [
    {
     "data": {
      "text/plain": [
       "{'Carlsen': 2842,\n",
       " 'Caruana': 2822,\n",
       " 'Mamedyarov': 2801,\n",
       " 'Ding': 2797,\n",
       " 'Giri': 2780}"
      ]
     },
     "execution_count": 22,
     "metadata": {},
     "output_type": "execute_result"
    }
   ],
   "source": [
    "players"
   ]
  },
  {
   "cell_type": "code",
   "execution_count": 40,
   "metadata": {},
   "outputs": [
    {
     "data": {
      "text/plain": [
       "{'Carlsen': 2842,\n",
       " 'Caruana': 2822,\n",
       " 'Mamedyarov': 2801,\n",
       " 'Ding': 2797,\n",
       " 'Giri': 2780}"
      ]
     },
     "execution_count": 40,
     "metadata": {},
     "output_type": "execute_result"
    }
   ],
   "source": [
    "names = ['Carlsen', 'Caruana', 'Mamedyarov', 'Ding', 'Giri', 'Kramnik']\n",
    "ratings = [2842, 2822, 2801, 2797, 2780]\n",
    "\n",
    "players = dict(zip(names, ratings))\n",
    "players"
   ]
  },
  {
   "cell_type": "code",
   "execution_count": 41,
   "metadata": {},
   "outputs": [
    {
     "data": {
      "text/plain": [
       "{'Carlsen': 2842,\n",
       " 'Caruana': 2822,\n",
       " 'Mamedyarov': 2801,\n",
       " 'Ding': 2797,\n",
       " 'Giri': 2780,\n",
       " 'Kramnik': None}"
      ]
     },
     "execution_count": 41,
     "metadata": {},
     "output_type": "execute_result"
    }
   ],
   "source": [
    "players = dict(it.zip_longest(names, ratings)) # fillvalue = 0 --> 'Kramnik': 0\n",
    "players"
   ]
  },
  {
   "cell_type": "code",
   "execution_count": 42,
   "metadata": {},
   "outputs": [
    {
     "name": "stdout",
     "output_type": "stream",
     "text": [
      "1:[1, 1, 1]\n",
      "2:[2, 2, 2]\n",
      "3:[3, 3]\n"
     ]
    }
   ],
   "source": [
    "for key, grp in it.groupby([1, 1, 1, 2, 2, 2, 3, 3]):\n",
    "    print('{}:{}'.format(key, list(grp)))"
   ]
  },
  {
   "cell_type": "code",
   "execution_count": 43,
   "metadata": {},
   "outputs": [
    {
     "name": "stdout",
     "output_type": "stream",
     "text": [
      "1:[1]\n",
      "2:[2]\n",
      "1:[1]\n",
      "2:[2, 2]\n",
      "3:[3, 3]\n",
      "2:[2]\n"
     ]
    }
   ],
   "source": [
    "for key, grp in it.groupby([1, 2, 1, 2, 2, 3, 3, 2]): # Учитывает порядок следования элементов. Сначала отсортируй!\n",
    "    print('{}:{}'.format(key, list(grp)))"
   ]
  },
  {
   "cell_type": "code",
   "execution_count": 44,
   "metadata": {},
   "outputs": [
    {
     "name": "stdout",
     "output_type": "stream",
     "text": [
      "1:[1, 1]\n",
      "2:[2, 2, 2, 2]\n",
      "3:[3, 3]\n"
     ]
    }
   ],
   "source": [
    "lst = [1, 2, 1, 2, 2, 3, 3, 2]\n",
    "for key, grp in it.groupby(sorted(lst)): # Учитывает порядок следования элементов. Сначала отсортируй!\n",
    "    print('{}:{}'.format(key, list(grp)))"
   ]
  },
  {
   "cell_type": "code",
   "execution_count": 50,
   "metadata": {},
   "outputs": [],
   "source": [
    "# Сортировка более сложных данных.\n",
    "forecast = [\n",
    "    {'humidity': 20, 'temprature': 78, 'wind': 7},\n",
    "    {'humidity': 50, 'temprature': 61, 'wind': 10},\n",
    "    {'humidity': 99, 'temprature': 81, 'wind': 5},\n",
    "    {'humidity': 90, 'temprature': 62, 'wind': 15},\n",
    "    {'humidity': 20, 'temprature': 84, 'wind': 19},\n",
    "    {'humidity':  0, 'temprature': 66, 'wind': 28},\n",
    "    {'humidity': 99, 'temprature': 87, 'wind': 12},\n",
    "    {'humidity':  0, 'temprature': 68, 'wind': 14},\n",
    "    {'humidity': 90, 'temprature': 86, 'wind': 4},\n",
    "    {'humidity': 50, 'temprature': 68, 'wind': 0}\n",
    "]"
   ]
  },
  {
   "cell_type": "code",
   "execution_count": 51,
   "metadata": {},
   "outputs": [],
   "source": [
    "def group_sorted(iterable, key=None):\n",
    "    return it.groupby(sorted(iterable, key=key), key=key)"
   ]
  },
  {
   "cell_type": "code",
   "execution_count": 52,
   "metadata": {},
   "outputs": [
    {
     "name": "stdout",
     "output_type": "stream",
     "text": [
      "0:[{'humidity': 0, 'temprature': 66, 'wind': 28}, {'humidity': 0, 'temprature': 68, 'wind': 14}]\n",
      "20:[{'humidity': 20, 'temprature': 78, 'wind': 7}, {'humidity': 20, 'temprature': 84, 'wind': 19}]\n",
      "50:[{'humidity': 50, 'temprature': 61, 'wind': 10}, {'humidity': 50, 'temprature': 68, 'wind': 0}]\n",
      "90:[{'humidity': 90, 'temprature': 62, 'wind': 15}, {'humidity': 90, 'temprature': 86, 'wind': 4}]\n",
      "99:[{'humidity': 99, 'temprature': 81, 'wind': 5}, {'humidity': 99, 'temprature': 87, 'wind': 12}]\n"
     ]
    }
   ],
   "source": [
    "grouped_data = group_sorted(forecast, key=lambda x: x['humidity'])\n",
    "for key, grp in grouped_data:\n",
    "    print('{}:{}'.format(key, list(grp)))"
   ]
  },
  {
   "cell_type": "code",
   "execution_count": 53,
   "metadata": {},
   "outputs": [
    {
     "name": "stdout",
     "output_type": "stream",
     "text": [
      "[0, 2, 4, 6, 8, 10, 12, 14, 16, 18]\n",
      "[4, 8, 12, 16]\n"
     ]
    }
   ],
   "source": [
    "# islice - дает возможность из бесконечного итератора взять сторого определенное количество элементов.\n",
    "even_numbers = it.count(0, 2)\n",
    "print([x for x in range(20) if x % 2 == 0])\n",
    "\n",
    "print(list(it.islice(even_numbers, 2, 10, 2)))"
   ]
  },
  {
   "cell_type": "code",
   "execution_count": 54,
   "metadata": {},
   "outputs": [
    {
     "name": "stdout",
     "output_type": "stream",
     "text": [
      "[0, 2, 4, 6]\n"
     ]
    }
   ],
   "source": [
    "even_numbers = it.count(0, 2)\n",
    "print(list(it.islice(even_numbers, 4)))"
   ]
  },
  {
   "cell_type": "code",
   "execution_count": 55,
   "metadata": {},
   "outputs": [
    {
     "name": "stdout",
     "output_type": "stream",
     "text": [
      "[4, 6]\n"
     ]
    }
   ],
   "source": [
    "even_numbers = it.count(0, 2)\n",
    "print(list(it.islice(even_numbers, 2, 4)))"
   ]
  },
  {
   "cell_type": "code",
   "execution_count": 56,
   "metadata": {},
   "outputs": [
    {
     "data": {
      "text/plain": [
       "[(7, 5, 2, 8),\n",
       " (7, 5, 8, 2),\n",
       " (7, 2, 5, 8),\n",
       " (7, 2, 8, 5),\n",
       " (7, 8, 5, 2),\n",
       " (7, 8, 2, 5),\n",
       " (5, 7, 2, 8),\n",
       " (5, 7, 8, 2),\n",
       " (5, 2, 7, 8),\n",
       " (5, 2, 8, 7),\n",
       " (5, 8, 7, 2),\n",
       " (5, 8, 2, 7),\n",
       " (2, 7, 5, 8),\n",
       " (2, 7, 8, 5),\n",
       " (2, 5, 7, 8),\n",
       " (2, 5, 8, 7),\n",
       " (2, 8, 7, 5),\n",
       " (2, 8, 5, 7),\n",
       " (8, 7, 5, 2),\n",
       " (8, 7, 2, 5),\n",
       " (8, 5, 7, 2),\n",
       " (8, 5, 2, 7),\n",
       " (8, 2, 7, 5),\n",
       " (8, 2, 5, 7)]"
      ]
     },
     "execution_count": 56,
     "metadata": {},
     "output_type": "execute_result"
    }
   ],
   "source": [
    "# Все возможные комбинации.\n",
    "pin = [7, 5, 2, 8]\n",
    "list(it.permutations(pin))"
   ]
  },
  {
   "cell_type": "code",
   "execution_count": 57,
   "metadata": {},
   "outputs": [
    {
     "data": {
      "text/plain": [
       "[('6', 'H'),\n",
       " ('6', 'D'),\n",
       " ('6', 'C'),\n",
       " ('6', 'S'),\n",
       " ('7', 'H'),\n",
       " ('7', 'D'),\n",
       " ('7', 'C'),\n",
       " ('7', 'S'),\n",
       " ('8', 'H'),\n",
       " ('8', 'D'),\n",
       " ('8', 'C'),\n",
       " ('8', 'S'),\n",
       " ('9', 'H'),\n",
       " ('9', 'D'),\n",
       " ('9', 'C'),\n",
       " ('9', 'S'),\n",
       " ('10', 'H'),\n",
       " ('10', 'D'),\n",
       " ('10', 'C'),\n",
       " ('10', 'S'),\n",
       " ('J', 'H'),\n",
       " ('J', 'D'),\n",
       " ('J', 'C'),\n",
       " ('J', 'S'),\n",
       " ('Q', 'H'),\n",
       " ('Q', 'D'),\n",
       " ('Q', 'C'),\n",
       " ('Q', 'S'),\n",
       " ('K', 'H'),\n",
       " ('K', 'D'),\n",
       " ('K', 'C'),\n",
       " ('K', 'S'),\n",
       " ('A', 'H'),\n",
       " ('A', 'D'),\n",
       " ('A', 'C'),\n",
       " ('A', 'S')]"
      ]
     },
     "execution_count": 57,
     "metadata": {},
     "output_type": "execute_result"
    }
   ],
   "source": [
    "# Генерация колоды карт.\n",
    "ranks = ['6', '7', '8', '9', '10', 'J', 'Q', 'K', 'A']\n",
    "suits = ['H', 'D', 'C', 'S']\n",
    "\n",
    "lst = list(it.product(ranks, suits))\n",
    "lst"
   ]
  },
  {
   "cell_type": "code",
   "execution_count": 59,
   "metadata": {},
   "outputs": [
    {
     "data": {
      "text/plain": [
       "[('A', 'B'), ('A', 'C'), ('A', 'D'), ('B', 'C'), ('B', 'D'), ('C', 'D')]"
      ]
     },
     "execution_count": 59,
     "metadata": {},
     "output_type": "execute_result"
    }
   ],
   "source": [
    "# Понять все возможные комбинации из 2х карт из этой колоды.\n",
    "# list(it.combinations(lst, 2))\n",
    "\n",
    "list(it.combinations('ABCD', 2))"
   ]
  }
 ],
 "metadata": {
  "kernelspec": {
   "display_name": "Python 3",
   "language": "python",
   "name": "python3"
  },
  "language_info": {
   "codemirror_mode": {
    "name": "ipython",
    "version": 3
   },
   "file_extension": ".py",
   "mimetype": "text/x-python",
   "name": "python",
   "nbconvert_exporter": "python",
   "pygments_lexer": "ipython3",
   "version": "3.6.9"
  }
 },
 "nbformat": 4,
 "nbformat_minor": 4
}
